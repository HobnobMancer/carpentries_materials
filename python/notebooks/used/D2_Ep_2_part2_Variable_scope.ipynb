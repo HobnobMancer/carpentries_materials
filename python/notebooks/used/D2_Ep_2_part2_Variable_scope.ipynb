{
 "cells": [
  {
   "cell_type": "markdown",
   "id": "d48871d9",
   "metadata": {},
   "source": [
    "# Episode 17: Variable Scope\n",
    "\n",
    "## [When can a variable be accessed?](http://swcarpentry.github.io/python-novice-gapminder/17-scope/index.html)\n",
    " \n",
    "## LOs:\n",
    "\n",
    "- How do function calls actually work?\n",
    "- How can I determine where errors occured?\n",
    "\n",
    "- Identify local and global variables\n",
    "- Identify parameters as local variables\n",
    "- Read a traceback and determine the file, function, and line numbe on which the error occured, the type of error, and the error message\n",
    "&nbsp;  \n",
    "\n",
    "&nbsp;  \n",
    "\n",
    "&nbsp;  \n",
    "&nbsp;  \n",
    "\n",
    "&nbsp;  \n",
    "&nbsp;  \n",
    "\n",
    "&nbsp;  \n",
    "\n",
    "&nbsp;  \n",
    "&nbsp;  \n",
    "\n",
    "## The scope of a variable is the part of a program that can 'see' that variable\n",
    "\n",
    "*Scope*: The part of a program in which a variable is *visible*\n",
    "\n",
    "- Function writers don't need to worry about variable names users may already use\n",
    "- Function users don't need to worry about variable names already used in other functions\n"
   ]
  },
  {
   "cell_type": "code",
   "execution_count": 1,
   "id": "461586c5",
   "metadata": {},
   "outputs": [],
   "source": [
    "# global\n",
    "pressure = 103.9\n",
    "\n",
    "def adjust(t):\n",
    "    # variables are local\n",
    "    temperature = t * 1.43 / pressure\n",
    "    return temperature"
   ]
  },
  {
   "cell_type": "code",
   "execution_count": 2,
   "id": "74d25bfd",
   "metadata": {},
   "outputs": [
    {
     "name": "stdout",
     "output_type": "stream",
     "text": [
      "0.6881616939364773\n"
     ]
    }
   ],
   "source": [
    "new_temperature = adjust(50)\n",
    "print(new_temperature)"
   ]
  },
  {
   "cell_type": "code",
   "execution_count": 3,
   "id": "99a20ac1",
   "metadata": {},
   "outputs": [
    {
     "ename": "NameError",
     "evalue": "name 'temperature' is not defined",
     "output_type": "error",
     "traceback": [
      "\u001b[0;31m---------------------------------------------------------------------------\u001b[0m",
      "\u001b[0;31mNameError\u001b[0m                                 Traceback (most recent call last)",
      "\u001b[0;32m<ipython-input-3-8aea2c8c123e>\u001b[0m in \u001b[0;36m<module>\u001b[0;34m\u001b[0m\n\u001b[0;32m----> 1\u001b[0;31m \u001b[0mprint\u001b[0m\u001b[0;34m(\u001b[0m\u001b[0mtemperature\u001b[0m\u001b[0;34m)\u001b[0m\u001b[0;34m\u001b[0m\u001b[0;34m\u001b[0m\u001b[0m\n\u001b[0m",
      "\u001b[0;31mNameError\u001b[0m: name 'temperature' is not defined"
     ]
    }
   ],
   "source": [
    "print(temperature)"
   ]
  },
  {
   "cell_type": "code",
   "execution_count": 5,
   "id": "bb352c5b",
   "metadata": {},
   "outputs": [
    {
     "name": "stdout",
     "output_type": "stream",
     "text": [
      "0.5505293551491819\n"
     ]
    }
   ],
   "source": [
    "temperature = adjust(40)\n",
    "print(temperature)"
   ]
  },
  {
   "cell_type": "markdown",
   "id": "f6e5d834",
   "metadata": {},
   "source": [
    "&nbsp;  \n",
    "\n",
    "&nbsp;  \n",
    "\n",
    "&nbsp;  \n",
    "&nbsp;  \n",
    "\n",
    "&nbsp;  \n",
    "&nbsp;  \n",
    "\n",
    "&nbsp;  \n",
    "\n",
    "&nbsp;  \n",
    "&nbsp;  \n",
    "\n",
    "`pressure` is a *global* variable\n",
    "- defined outside a function\n",
    "- visible everywhere\n",
    "\n",
    "`t` and `temperature` are *local* variables in `adjust`\n",
    "- defined in the function\n",
    "- not visible in main program\n",
    "\n",
    "*Remember:a function parameter is a variable that is automatically assigned a value when the function is called.*"
   ]
  },
  {
   "cell_type": "code",
   "execution_count": null,
   "id": "1a57d8c6",
   "metadata": {},
   "outputs": [],
   "source": []
  },
  {
   "cell_type": "markdown",
   "id": "7f2abb74",
   "metadata": {},
   "source": [
    "&nbsp;  \n",
    "\n",
    "&nbsp;  \n",
    "&nbsp;  \n",
    "\n",
    "&nbsp;  \n",
    "&nbsp;  \n",
    "\n",
    "&nbsp;  \n",
    "\n",
    "&nbsp;  \n",
    "&nbsp;  \n",
    "\n",
    "## (Ex) Local and global variable use\n",
    "\n",
    "Trace the values of all variables in this program as it is executed. (Use '_' as the value of the variables before and after they exist.)"
   ]
  },
  {
   "cell_type": "code",
   "execution_count": null,
   "id": "5a5490ba",
   "metadata": {},
   "outputs": [],
   "source": [
    "limit = 100\n",
    "\n",
    "def clip(value):\n",
    "    return min(max(0.0, value), limit)\n",
    "\n",
    "value = -22.5\n",
    "print(clip(value))"
   ]
  },
  {
   "cell_type": "markdown",
   "id": "1101674d",
   "metadata": {},
   "source": [
    "&nbsp;  \n",
    "\n",
    "&nbsp;  \n",
    "&nbsp;  \n",
    "\n",
    "&nbsp;  \n",
    "&nbsp;  \n",
    "\n",
    "&nbsp;  \n",
    "\n",
    "&nbsp;  \n",
    "&nbsp;  \n",
    "\n",
    "## (Ex) Reading error messages\n",
    "\n",
    "Read the traceback below, and identify the following:\n",
    "\n",
    "1. How many levels does the traceback have?\n",
    "2. What is the file name where the error occurred?\n",
    "3. What is the function name where the error occurred?\n",
    "4. On which line number in this function did the error occur?\n",
    "5. What is the type of error?\n",
    "6. What is the error message?\n",
    "\n",
    "```\n",
    "---------------------------------------------------------------------------\n",
    "KeyError                                  Traceback (most recent call last)\n",
    "<ipython-input-2-e4c4cbafeeb5> in <module>()\n",
    "      1 import errors_02\n",
    "----> 2 errors_02.print_friday_message()\n",
    "\n",
    "/Users/ghopper/thesis/code/errors_02.py in print_friday_message()\n",
    "     13\n",
    "     14 def print_friday_message():\n",
    "---> 15     print_message(\"Friday\")\n",
    "\n",
    "/Users/ghopper/thesis/code/errors_02.py in print_message(day)\n",
    "      9         \"sunday\": \"Aw, the weekend is almost over.\"\n",
    "     10     }\n",
    "---> 11     print(messages[day])\n",
    "     12\n",
    "     13\n",
    "\n",
    "KeyError: 'Friday'\n",
    "```"
   ]
  },
  {
   "cell_type": "code",
   "execution_count": null,
   "id": "2022ee16",
   "metadata": {},
   "outputs": [],
   "source": []
  },
  {
   "cell_type": "markdown",
   "id": "ed1406aa",
   "metadata": {},
   "source": [
    "&nbsp;  \n",
    "\n",
    "&nbsp;  \n",
    "&nbsp;  \n",
    "\n",
    "&nbsp;  \n",
    "&nbsp;  \n",
    "\n",
    "&nbsp;  \n",
    "\n",
    "&nbsp;  \n",
    "&nbsp;  \n",
    "\n",
    "## Key Points:\n",
    "\n",
    "- The scope of a variable is the part of a program that can 'see' that variable\n",
    "\n",
    "## LOs:\n",
    "\n",
    "- How do function calls actually work?\n",
    "- How can I determine where errors occured?\n",
    "\n",
    "- Identify local and global variables\n",
    "- Identify parameters as local variables\n",
    "- Read a traceback and determine the file, function, and line numbe on which the error occured, the type of error, and the error message"
   ]
  }
 ],
 "metadata": {
  "kernelspec": {
   "display_name": "Python 3",
   "language": "python",
   "name": "python3"
  },
  "language_info": {
   "codemirror_mode": {
    "name": "ipython",
    "version": 3
   },
   "file_extension": ".py",
   "mimetype": "text/x-python",
   "name": "python",
   "nbconvert_exporter": "python",
   "pygments_lexer": "ipython3",
   "version": "3.8.10"
  }
 },
 "nbformat": 4,
 "nbformat_minor": 5
}
