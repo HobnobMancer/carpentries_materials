{
 "cells": [
  {
   "cell_type": "markdown",
   "id": "59997819",
   "metadata": {},
   "source": [
    "# Episode 2: Variables and Assignment\n",
    "\n",
    "## [How to store data in the memory](https://librarycarpentry.org/lc-python-intro/02-variables/index.html)\n",
    "\n",
    "## LOs:\n",
    "- Assign scala values to variables\n",
    "- Perform calculations using stored variables\n",
    "- Correctly trace value changes through code that uses scalar assignment\n",
    "- Use the `print` function to generate output\n",
    "- Retrieve a single character from a string using its index\n",
    "\n",
    "\n",
    "&nbsp;  \n",
    "\n",
    "&nbsp;  \n",
    "\n",
    "&nbsp;  \n",
    "&nbsp;  \n",
    "\n",
    "&nbsp;  \n",
    "\n",
    "&nbsp;  \n",
    "&nbsp;  \n",
    "\n",
    "&nbsp;  \n",
    "\n",
    "&nbsp;  \n",
    "\n",
    "&nbsp;  \n",
    "\n",
    "&nbsp;  \n",
    "\n",
    "## Use Variables to store values\n",
    "\n",
    "**Variables** are names for values."
   ]
  },
  {
   "cell_type": "code",
   "execution_count": 1,
   "id": "684cdd0b",
   "metadata": {},
   "outputs": [],
   "source": [
    "age = 42"
   ]
  },
  {
   "cell_type": "code",
   "execution_count": 2,
   "id": "3b553249",
   "metadata": {},
   "outputs": [],
   "source": [
    "age=42"
   ]
  },
  {
   "cell_type": "code",
   "execution_count": 3,
   "id": "aba7df5c",
   "metadata": {},
   "outputs": [],
   "source": [
    "first_name = 'Ahmed'"
   ]
  },
  {
   "cell_type": "markdown",
   "id": "0ce060a9",
   "metadata": {},
   "source": [
    "&nbsp; \n",
    "\n",
    "&nbsp; \n",
    "\n",
    "&nbsp; &nbsp; \n",
    "\n",
    "&nbsp; \n",
    "\n",
    "&nbsp; \n",
    "\n",
    "&nbsp;  \n",
    "\n",
    "&nbsp;  \n",
    "\n",
    "&nbsp;  \n",
    "\n",
    "&nbsp;  \n",
    "&nbsp; \n",
    "**Rules for variable names:**\n",
    "- Can only contain letters, digits and underscores (`_`)\n",
    "- Must **not** start with a digit\n",
    "- Are case sensitive"
   ]
  },
  {
   "cell_type": "code",
   "execution_count": 5,
   "id": "378a8450",
   "metadata": {},
   "outputs": [
    {
     "ename": "SyntaxError",
     "evalue": "invalid syntax (<ipython-input-5-c1f98666367d>, line 1)",
     "output_type": "error",
     "traceback": [
      "\u001b[0;36m  File \u001b[0;32m\"<ipython-input-5-c1f98666367d>\"\u001b[0;36m, line \u001b[0;32m1\u001b[0m\n\u001b[0;31m    first name = 'Emma'\u001b[0m\n\u001b[0m          ^\u001b[0m\n\u001b[0;31mSyntaxError\u001b[0m\u001b[0;31m:\u001b[0m invalid syntax\n"
     ]
    }
   ],
   "source": [
    "first name = 'Emma'"
   ]
  },
  {
   "cell_type": "code",
   "execution_count": 6,
   "id": "f1eb7e41",
   "metadata": {},
   "outputs": [],
   "source": [
    "first_name = 'Emma'"
   ]
  },
  {
   "cell_type": "code",
   "execution_count": 7,
   "id": "ca628a76",
   "metadata": {},
   "outputs": [
    {
     "ename": "SyntaxError",
     "evalue": "invalid decimal literal (<ipython-input-7-99cd7c7fc7b6>, line 1)",
     "output_type": "error",
     "traceback": [
      "\u001b[0;36m  File \u001b[0;32m\"<ipython-input-7-99cd7c7fc7b6>\"\u001b[0;36m, line \u001b[0;32m1\u001b[0m\n\u001b[0;31m    1_name = 'Jack'\u001b[0m\n\u001b[0m     ^\u001b[0m\n\u001b[0;31mSyntaxError\u001b[0m\u001b[0;31m:\u001b[0m invalid decimal literal\n"
     ]
    }
   ],
   "source": [
    "1_name = 'Jack'"
   ]
  },
  {
   "cell_type": "code",
   "execution_count": null,
   "id": "e2afb961",
   "metadata": {},
   "outputs": [],
   "source": [
    "_variable"
   ]
  },
  {
   "cell_type": "markdown",
   "id": "a04aa20e",
   "metadata": {},
   "source": [
    "\n",
    "&nbsp; \n",
    "\n",
    "\n",
    "&nbsp; \n",
    "\n",
    "&nbsp; \n",
    "\n",
    "&nbsp; \n",
    "\n",
    "&nbsp; \n",
    "\n",
    "&nbsp; \n",
    "\n",
    "\n",
    "&nbsp; \n",
    "\n",
    "&nbsp; \n",
    "\n",
    "&nbsp; \n",
    "\n",
    "&nbsp; \n",
    "\n",
    "\n",
    "## Use `print` to display values\n"
   ]
  },
  {
   "cell_type": "code",
   "execution_count": 8,
   "id": "0c5f3153",
   "metadata": {},
   "outputs": [
    {
     "name": "stdout",
     "output_type": "stream",
     "text": [
      "42\n"
     ]
    }
   ],
   "source": [
    "print(age)"
   ]
  },
  {
   "cell_type": "code",
   "execution_count": 9,
   "id": "efc3c4ce",
   "metadata": {},
   "outputs": [
    {
     "name": "stdout",
     "output_type": "stream",
     "text": [
      "Emma\n"
     ]
    }
   ],
   "source": [
    "print(first_name)"
   ]
  },
  {
   "cell_type": "code",
   "execution_count": 10,
   "id": "98385c85",
   "metadata": {},
   "outputs": [
    {
     "name": "stdout",
     "output_type": "stream",
     "text": [
      "Emma is 42 years old\n"
     ]
    }
   ],
   "source": [
    "print(first_name, 'is', age, 'years old')"
   ]
  },
  {
   "cell_type": "markdown",
   "id": "7faccf32",
   "metadata": {},
   "source": [
    "&nbsp; \n",
    "\n",
    "&nbsp; \n",
    "\n",
    "&nbsp; \n",
    "\n",
    "&nbsp; \n",
    "&nbsp; \n",
    "\n",
    "&nbsp; \n",
    "\n",
    "&nbsp; \n",
    "\n",
    "&nbsp; \n",
    "\n",
    "## Variables must be created before they are used"
   ]
  },
  {
   "cell_type": "code",
   "execution_count": 11,
   "id": "1ec085e2",
   "metadata": {},
   "outputs": [
    {
     "ename": "NameError",
     "evalue": "name 'eye_colour' is not defined",
     "output_type": "error",
     "traceback": [
      "\u001b[0;31m---------------------------------------------------------------------------\u001b[0m",
      "\u001b[0;31mNameError\u001b[0m                                 Traceback (most recent call last)",
      "\u001b[0;32m<ipython-input-11-2cf15ad95a16>\u001b[0m in \u001b[0;36m<module>\u001b[0;34m\u001b[0m\n\u001b[0;32m----> 1\u001b[0;31m \u001b[0mprint\u001b[0m\u001b[0;34m(\u001b[0m\u001b[0meye_colour\u001b[0m\u001b[0;34m)\u001b[0m\u001b[0;34m\u001b[0m\u001b[0;34m\u001b[0m\u001b[0m\n\u001b[0m",
      "\u001b[0;31mNameError\u001b[0m: name 'eye_colour' is not defined"
     ]
    }
   ],
   "source": [
    "print(eye_colour)"
   ]
  },
  {
   "cell_type": "code",
   "execution_count": 12,
   "id": "599544f6",
   "metadata": {},
   "outputs": [
    {
     "name": "stdout",
     "output_type": "stream",
     "text": [
      "blue\n"
     ]
    }
   ],
   "source": [
    "eye_colour = 'blue'\n",
    "print(eye_colour)"
   ]
  },
  {
   "cell_type": "markdown",
   "id": "78721c0c",
   "metadata": {},
   "source": [
    "\n",
    "\n",
    "&nbsp; \n",
    "\n",
    "&nbsp; \n",
    "\n",
    "&nbsp; \n",
    "\n",
    "&nbsp; \n",
    "&nbsp; \n",
    "\n",
    "&nbsp; \n",
    "\n",
    "&nbsp; \n",
    "\n",
    "&nbsp; \n",
    "&nbsp; \n",
    "\n",
    "&nbsp; \n",
    "\n",
    "&nbsp; \n",
    "\n",
    "&nbsp; \n",
    "&nbsp; \n",
    "\n",
    "&nbsp; \n",
    "\n",
    "## Variables Persit between cells: Be Careful!"
   ]
  },
  {
   "cell_type": "code",
   "execution_count": 13,
   "id": "1f503052",
   "metadata": {},
   "outputs": [],
   "source": [
    "first_name = 'Ahmed'"
   ]
  },
  {
   "cell_type": "code",
   "execution_count": 16,
   "id": "216e8889",
   "metadata": {},
   "outputs": [
    {
     "name": "stdout",
     "output_type": "stream",
     "text": [
      "Emma\n"
     ]
    }
   ],
   "source": [
    "print(first_name)"
   ]
  },
  {
   "cell_type": "code",
   "execution_count": 15,
   "id": "5d797ec5",
   "metadata": {},
   "outputs": [],
   "source": [
    "first_name = 'Emma'"
   ]
  },
  {
   "cell_type": "markdown",
   "id": "81d12221",
   "metadata": {},
   "source": [
    "*To prevent confusion, it can be helpful to use the Kernel -> Restart & Run All option which clears the interpreter and runs everything from a clean slate going top to bottom.*\n",
    "\n",
    "&nbsp; \n",
    "&nbsp; \n",
    "\n",
    "&nbsp; \n",
    "\n",
    "&nbsp; \n",
    "\n",
    "&nbsp; \n",
    "\n",
    "&nbsp; \n",
    "&nbsp; \n",
    "\n",
    "&nbsp; \n",
    "\n",
    "&nbsp; \n",
    "\n",
    "&nbsp; \n",
    "\n",
    "## Variables can be used in calculations"
   ]
  },
  {
   "cell_type": "code",
   "execution_count": 17,
   "id": "08d9c2ac",
   "metadata": {},
   "outputs": [
    {
     "name": "stdout",
     "output_type": "stream",
     "text": [
      "29\n"
     ]
    }
   ],
   "source": [
    "age = 26\n",
    "age = age + 3\n",
    "print(age)"
   ]
  },
  {
   "cell_type": "code",
   "execution_count": 18,
   "id": "5cffb0bd",
   "metadata": {},
   "outputs": [
    {
     "name": "stdout",
     "output_type": "stream",
     "text": [
      "Age in three years 29\n"
     ]
    }
   ],
   "source": [
    "print('Age in three years', age)"
   ]
  },
  {
   "cell_type": "markdown",
   "id": "608210df",
   "metadata": {},
   "source": [
    "&nbsp; \n",
    "&nbsp; \n",
    "\n",
    "&nbsp; \n",
    "\n",
    "&nbsp; \n",
    "\n",
    "&nbsp; &nbsp; \n",
    "&nbsp; \n",
    "\n",
    "&nbsp; \n",
    "\n",
    "&nbsp; \n",
    "\n",
    "&nbsp; &nbsp; \n",
    "&nbsp; \n",
    "\n",
    "&nbsp; \n",
    "\n",
    "&nbsp; \n",
    "\n",
    "&nbsp; \n",
    "## Use an index to get a single character for a string\n",
    "\n",
    "`'AB'` is **not** the same as `'BA'`.\n",
    "\n",
    "&nbsp; \n",
    "&nbsp; \n",
    "\n",
    "&nbsp; \n",
    "\n",
    "&nbsp; \n",
    "\n",
    "&nbsp; \n",
    "\n",
    "&nbsp; \n",
    "\n",
    "&nbsp; &nbsp; \n",
    "&nbsp; \n",
    "\n",
    "&nbsp; \n",
    "\n",
    "&nbsp; \n",
    "&nbsp; \n",
    "\n",
    "&nbsp; \n",
    "\n",
    "&nbsp; &nbsp; \n",
    "&nbsp; \n",
    "\n",
    "&nbsp; \n",
    "\n",
    "&nbsp; "
   ]
  },
  {
   "attachments": {
    "2_indexing.svg": {
     "image/svg+xml": [
      "PHN2ZyBmb250LWZhbWlseT0ibW9ub3NwYWNlIiAgaGVpZ2h0PSIyMzAiIHdpZHRoPSIxMDAwIiB4bWxucz0iaHR0cDovL3d3dy53My5vcmcvMjAwMC9zdmciPg0KICA8cmVjdCB4PSI0MCIgIHk9IjExMCIgd2lkdGg9IjQ4IiBoZWlnaHQ9IjExMCIgZmlsbD0iI2IzZWY1NCIgc3Ryb2tlPSIjMDAwIi8+DQoNCiAgPHRleHQgZm9udC1zaXplPSI2MCIgeD0iNDAiIHk9IjgwIj48dHNwYW4gZmlsbD0iIzgwMDA4MCI+cHJpbnQ8L3RzcGFuPihhdG9tX25hbWVbMF0pPC90ZXh0Pg0KDQogIDxnIGZpbGw9IiMwMDAiIGZvbnQtc2l6ZT0iNjAiIHRleHQtYW5jaG9yPSJtaWRkbGUiPg0KICAgIDx0ZXh0IHg9IjY1IiAgeT0iMjAwIj5oPC90ZXh0Pg0KICAgIDx0ZXh0IHg9IjExMyIgeT0iMjAwIj5lPC90ZXh0Pg0KICAgIDx0ZXh0IHg9IjE2MSIgeT0iMjAwIj5sPC90ZXh0Pg0KICAgIDx0ZXh0IHg9IjIwOSIgeT0iMjAwIj5pPC90ZXh0Pg0KICAgIDx0ZXh0IHg9IjI1NyIgeT0iMjAwIj51PC90ZXh0Pg0KICAgIDx0ZXh0IHg9IjMwNSIgeT0iMjAwIj5tPC90ZXh0Pg0KICA8L2c+DQoNCiAgPGcgZmlsbD0iIzMzMyIgZm9udC1zaXplPSIyMCIgdGV4dC1hbmNob3I9Im1pZGRsZSI+DQogICAgPHRleHQgeD0iNjUiICB5PSIxNDAiPjA8L3RleHQ+DQogICAgPHRleHQgeD0iMTEzIiB5PSIxNDAiPjE8L3RleHQ+DQogICAgPHRleHQgeD0iMTYxIiB5PSIxNDAiPjI8L3RleHQ+DQogICAgPHRleHQgeD0iMjA5IiB5PSIxNDAiPjM8L3RleHQ+DQogICAgPHRleHQgeD0iMjU3IiB5PSIxNDAiPjQ8L3RleHQ+DQogICAgPHRleHQgeD0iMzA1IiB5PSIxNDAiPjU8L3RleHQ+DQogIDwvZz4NCjwvc3ZnPg0KDQo="
     ]
    }
   },
   "cell_type": "markdown",
   "id": "6140dfb6",
   "metadata": {},
   "source": [
    "&nbsp; \n",
    "\n",
    "&nbsp; \n",
    "\n",
    "![2_indexing.svg](attachment:2_indexing.svg)\n",
    "\n"
   ]
  },
  {
   "cell_type": "code",
   "execution_count": 19,
   "id": "5dd8ed3e",
   "metadata": {},
   "outputs": [],
   "source": [
    "atom_name = 'helium'"
   ]
  },
  {
   "cell_type": "code",
   "execution_count": 20,
   "id": "397c6ff2",
   "metadata": {},
   "outputs": [
    {
     "name": "stdout",
     "output_type": "stream",
     "text": [
      "helium\n"
     ]
    }
   ],
   "source": [
    "print(atom_name)"
   ]
  },
  {
   "cell_type": "code",
   "execution_count": 21,
   "id": "905b4031",
   "metadata": {},
   "outputs": [
    {
     "name": "stdout",
     "output_type": "stream",
     "text": [
      "h\n"
     ]
    }
   ],
   "source": [
    "print(atom_name[0])"
   ]
  },
  {
   "cell_type": "code",
   "execution_count": 22,
   "id": "910d84b5",
   "metadata": {},
   "outputs": [
    {
     "name": "stdout",
     "output_type": "stream",
     "text": [
      "m\n"
     ]
    }
   ],
   "source": [
    "print(atom_name[5])"
   ]
  },
  {
   "cell_type": "code",
   "execution_count": 23,
   "id": "9390a9ef",
   "metadata": {},
   "outputs": [
    {
     "name": "stdout",
     "output_type": "stream",
     "text": [
      "m\n"
     ]
    }
   ],
   "source": [
    "# last character\n",
    "print(atom_name[-1])"
   ]
  },
  {
   "cell_type": "markdown",
   "id": "68dce4ff",
   "metadata": {},
   "source": [
    "&nbsp; \n",
    "\n",
    "&nbsp; \n",
    "&nbsp; \n",
    "\n",
    "&nbsp; \n",
    "\n",
    "&nbsp; \n",
    "\n",
    "&nbsp; \n",
    "&nbsp; \n",
    "\n",
    "&nbsp; \n",
    "&nbsp; \n",
    "\n",
    "&nbsp; \n",
    "\n",
    "## Use a slice to get a substring\n",
    "\n",
    "Part of a *string* is called a **substring** or **slice**\n",
    "\n",
    "\n"
   ]
  },
  {
   "cell_type": "code",
   "execution_count": 24,
   "id": "f014b2c0",
   "metadata": {},
   "outputs": [],
   "source": [
    "first_name = 'Emma'"
   ]
  },
  {
   "cell_type": "code",
   "execution_count": 26,
   "id": "f30111e8",
   "metadata": {},
   "outputs": [
    {
     "name": "stdout",
     "output_type": "stream",
     "text": [
      "mm\n"
     ]
    }
   ],
   "source": [
    "# 2 chracters in the middle\n",
    "# [start index : end index]\n",
    "print(first_name[1:3])"
   ]
  },
  {
   "cell_type": "code",
   "execution_count": 27,
   "id": "fc3cb1cb",
   "metadata": {},
   "outputs": [
    {
     "name": "stdout",
     "output_type": "stream",
     "text": [
      "m\n"
     ]
    }
   ],
   "source": [
    "print(first_name[1:2])"
   ]
  },
  {
   "cell_type": "code",
   "execution_count": 28,
   "id": "8b67c5d3",
   "metadata": {},
   "outputs": [
    {
     "name": "stdout",
     "output_type": "stream",
     "text": [
      "sod\n"
     ]
    }
   ],
   "source": [
    "element = 'sodium'\n",
    "print(element[0:3])"
   ]
  },
  {
   "cell_type": "code",
   "execution_count": 29,
   "id": "0d744b3b",
   "metadata": {},
   "outputs": [
    {
     "name": "stdout",
     "output_type": "stream",
     "text": [
      "helli\n"
     ]
    }
   ],
   "source": [
    "element = 'hellium'\n",
    "print(element[0:-2])"
   ]
  },
  {
   "cell_type": "markdown",
   "id": "81c92ef0",
   "metadata": {},
   "source": [
    "&nbsp; \n",
    "\n",
    "&nbsp; \n",
    "&nbsp; \n",
    "\n",
    "&nbsp; \n",
    "&nbsp; \n",
    "\n",
    "&nbsp; \n",
    "&nbsp; \n",
    "\n",
    "&nbsp; \n",
    "\n",
    "&nbsp; \n",
    "\n",
    "&nbsp; \n",
    "&nbsp; \n",
    "\n",
    "&nbsp;\n",
    "\n",
    "&nbsp; \n",
    "\n",
    "&nbsp; \n",
    "&nbsp; \n",
    "\n",
    "&nbsp; \n",
    "\n",
    "## Use the built-in function `len` to find the length of a string\n"
   ]
  },
  {
   "cell_type": "code",
   "execution_count": 30,
   "id": "a3c1e550",
   "metadata": {},
   "outputs": [
    {
     "name": "stdout",
     "output_type": "stream",
     "text": [
      "hellium\n"
     ]
    }
   ],
   "source": [
    "print(element)"
   ]
  },
  {
   "cell_type": "code",
   "execution_count": 31,
   "id": "b0d5bbd9",
   "metadata": {},
   "outputs": [
    {
     "data": {
      "text/plain": [
       "7"
      ]
     },
     "execution_count": 31,
     "metadata": {},
     "output_type": "execute_result"
    }
   ],
   "source": [
    " # length()\n",
    "len(element)"
   ]
  },
  {
   "cell_type": "markdown",
   "id": "9c52230b",
   "metadata": {},
   "source": [
    "&nbsp; \n",
    "\n",
    "&nbsp; \n",
    "\n",
    "&nbsp; \n",
    "&nbsp; \n",
    "\n",
    "&nbsp;\n",
    "\n",
    "&nbsp; \n",
    "\n",
    "&nbsp; \n",
    "&nbsp; \n",
    "\n",
    "\n",
    "## Python is case-sensitive\n",
    "\n",
    "Python reads upper-case and lower-case letters as unique letters.    \n",
    "*Remember from earlier: `Name` and `name` are different variables)*  "
   ]
  },
  {
   "cell_type": "code",
   "execution_count": 32,
   "id": "5bc9ccb2",
   "metadata": {},
   "outputs": [],
   "source": [
    "name = 'Alex'"
   ]
  },
  {
   "cell_type": "code",
   "execution_count": 33,
   "id": "c07895e4",
   "metadata": {},
   "outputs": [
    {
     "name": "stdout",
     "output_type": "stream",
     "text": [
      "Alex\n"
     ]
    }
   ],
   "source": [
    "print(name)"
   ]
  },
  {
   "cell_type": "code",
   "execution_count": 34,
   "id": "12869774",
   "metadata": {},
   "outputs": [
    {
     "ename": "NameError",
     "evalue": "name 'Name' is not defined",
     "output_type": "error",
     "traceback": [
      "\u001b[0;31m---------------------------------------------------------------------------\u001b[0m",
      "\u001b[0;31mNameError\u001b[0m                                 Traceback (most recent call last)",
      "\u001b[0;32m<ipython-input-34-8612edd11a97>\u001b[0m in \u001b[0;36m<module>\u001b[0;34m\u001b[0m\n\u001b[0;32m----> 1\u001b[0;31m \u001b[0mprint\u001b[0m\u001b[0;34m(\u001b[0m\u001b[0mName\u001b[0m\u001b[0;34m)\u001b[0m\u001b[0;34m\u001b[0m\u001b[0;34m\u001b[0m\u001b[0m\n\u001b[0m",
      "\u001b[0;31mNameError\u001b[0m: name 'Name' is not defined"
     ]
    }
   ],
   "source": [
    "print(Name)"
   ]
  },
  {
   "cell_type": "code",
   "execution_count": null,
   "id": "8c9e786e",
   "metadata": {},
   "outputs": [],
   "source": [
    "firstName = 'snackcase'"
   ]
  },
  {
   "cell_type": "code",
   "execution_count": null,
   "id": "31dd4ad6",
   "metadata": {},
   "outputs": [],
   "source": [
    "fisrt_name = 'python'"
   ]
  },
  {
   "cell_type": "markdown",
   "id": "e55d49d6",
   "metadata": {},
   "source": [
    "&nbsp; \n",
    "\n",
    "&nbsp; \n",
    "&nbsp; \n",
    "\n",
    "&nbsp;\n",
    "\n",
    "\n",
    "&nbsp; \n",
    "\n",
    "&nbsp; \n",
    "&nbsp; \n",
    "\n",
    "&nbsp; \n",
    "## Save your future-self a headache: use meaningful variable names"
   ]
  },
  {
   "cell_type": "code",
   "execution_count": null,
   "id": "9968f602",
   "metadata": {},
   "outputs": [],
   "source": [
    "n = 'Emma'\n",
    "name = 'Emma'  # first name\n",
    "first_name = 'Emma'"
   ]
  },
  {
   "cell_type": "code",
   "execution_count": null,
   "id": "5af2cf85",
   "metadata": {},
   "outputs": [],
   "source": []
  },
  {
   "cell_type": "markdown",
   "id": "bc198ea4",
   "metadata": {},
   "source": [
    "&nbsp; &nbsp; \n",
    "\n",
    "&nbsp; \n",
    "&nbsp; \n",
    "\n",
    "&nbsp; &nbsp; \n",
    "\n",
    "&nbsp; \n",
    "&nbsp; \n",
    "\n",
    "&nbsp; \n",
    "\n",
    "&nbsp; \n",
    "&nbsp; \n",
    "\n",
    "&nbsp; \n",
    "## (Ex) Swapping Values\n",
    "\n",
    "Practise understanding of inheritance in Python.\n",
    "\n",
    "Fill the table showing the values of the variables in this program after each statement is executed."
   ]
  },
  {
   "cell_type": "code",
   "execution_count": null,
   "id": "d6155186",
   "metadata": {},
   "outputs": [],
   "source": [
    "# Command  # Value of x   # Value of y   # Value of swap #\n",
    "x = 1.0    #              #              #               #\n",
    "y = 3.0    #              #              #               #\n",
    "swap = x   #              #              #               #\n",
    "x = y      #              #              #               #\n",
    "y = swap   #              #              #               #"
   ]
  },
  {
   "cell_type": "markdown",
   "id": "9aff5785",
   "metadata": {},
   "source": [
    "&nbsp; \n",
    "\n",
    "&nbsp; \n",
    "&nbsp; \n",
    "\n",
    "&nbsp; \n",
    "## (Ex) Predicting Values\n",
    "\n",
    "Practise understanding of inheritance in Python.\n",
    "\n",
    "What is the final value of position in the program below? (Try to predict the value without running the program, then check your prediction.)"
   ]
  },
  {
   "cell_type": "code",
   "execution_count": null,
   "id": "34fcc752",
   "metadata": {},
   "outputs": [],
   "source": [
    "initial = 'left'\n",
    "position = initial\n",
    "initial = 'right'"
   ]
  },
  {
   "cell_type": "markdown",
   "id": "c5fa0dc9",
   "metadata": {},
   "source": [
    "&nbsp; \n",
    "\n",
    "&nbsp; \n",
    "&nbsp; \n",
    "\n",
    "&nbsp; \n",
    "## (Ex) Challenge\n",
    "\n",
    "Pratise using position index numbers to retrieve elements of interest.\n",
    "\n",
    "If you assign `a = 123`, what happens if you try to get the second digit of `a` via `a[1]`?"
   ]
  },
  {
   "cell_type": "code",
   "execution_count": null,
   "id": "92188021",
   "metadata": {},
   "outputs": [],
   "source": []
  },
  {
   "cell_type": "markdown",
   "id": "04d2829a",
   "metadata": {},
   "source": [
    "&nbsp; \n",
    "\n",
    "&nbsp; \n",
    "&nbsp; \n",
    "\n",
    "&nbsp; \n",
    "## (Ex) Choosing a Name\n",
    "\n",
    "Which is a better variable name, `m`, `min`, or `minutes`?   \n",
    "Why?  \n",
    "*Hint: think about which code you would rather inherit from someone who is leaving the lab:*\n",
    "\n",
    "1. ts = m * 60 + s\n",
    "2. tot_sec = min * 60 + sec\n",
    "3. total_seconds = minutes * 60 + seconds"
   ]
  },
  {
   "cell_type": "markdown",
   "id": "2264ca77",
   "metadata": {},
   "source": [
    "&nbsp; \n",
    "\n",
    "&nbsp; \n",
    "&nbsp; \n",
    "\n",
    "&nbsp; \n",
    "## (Ex) Slicing practice\n",
    "\n",
    "Practise using position indexes to slive a string to retrieve a target substring or slice.\n",
    "\n",
    "What does the following program print?"
   ]
  },
  {
   "cell_type": "code",
   "execution_count": null,
   "id": "0124b737",
   "metadata": {},
   "outputs": [],
   "source": [
    "atom_name = 'carbon'\n",
    "print('atom_name[1:3] is:', atom_name[1:3])"
   ]
  },
  {
   "cell_type": "markdown",
   "id": "5b366fe2",
   "metadata": {},
   "source": [
    "&nbsp; \n",
    "\n",
    "&nbsp; \n",
    "&nbsp; \n",
    "\n",
    "&nbsp; \n",
    "## (Ex) Slicing concepts\n",
    "\n",
    "Given the following string:\n",
    "```\n",
    "species_name = \"Acacia buxifolia\"\n",
    "```\n",
    "\n",
    "What would these expressions return?\n",
    "\n",
    "1. species_name[2:8]\n",
    "2.species_name[11:] (without a value after the colon)\n",
    "3.species_name[:4] (without a value before the colon)\n",
    "4.species_name[:] (just a colon)\n",
    "5.species_name[11:-3]\n",
    "6.species_name[-5:-3]\n",
    "7.What happens when you choose a stop value which is out of range? (i.e., try species_name[0:20] or species_name[:103])"
   ]
  },
  {
   "cell_type": "code",
   "execution_count": null,
   "id": "362faa4c",
   "metadata": {},
   "outputs": [],
   "source": []
  },
  {
   "cell_type": "markdown",
   "id": "0d1b41d4",
   "metadata": {},
   "source": [
    "&nbsp; \n",
    "\n",
    "&nbsp; \n",
    "&nbsp; \n",
    "\n",
    "&nbsp; \n",
    "\n",
    "&nbsp; \n",
    "\n",
    "&nbsp; \n",
    "&nbsp; \n",
    "\n",
    "&nbsp; \n",
    "&nbsp; \n",
    "\n",
    "&nbsp; \n",
    "&nbsp; \n",
    "\n",
    "&nbsp; \n",
    "## Key Points\n",
    "\n",
    "- Use variables to store values.\n",
    "- Use print to display values.\n",
    "- Variables persist between cells.\n",
    "- Variables must be created before they are used.\n",
    "- Variables can be used in calculations.\n",
    "- Use an index to get a single character from a string.\n",
    "- Use a slice to get a substring.\n",
    "- Use the built-in function len to find the length of a string.\n",
    "- Python is case-sensitive.\n",
    "- Use meaningful variable names.\n",
    "\n",
    "## LOs:\n",
    "- Assign scala values to variables\n",
    "- Perform calculations using stored variables\n",
    "- Correctly trace value changes through code that uses scalar assignment\n",
    "- Use the `print` function to generate output\n",
    "- Retrieve a single character from a string using its index\n"
   ]
  }
 ],
 "metadata": {
  "kernelspec": {
   "display_name": "Python 3",
   "language": "python",
   "name": "python3"
  },
  "language_info": {
   "codemirror_mode": {
    "name": "ipython",
    "version": 3
   },
   "file_extension": ".py",
   "mimetype": "text/x-python",
   "name": "python",
   "nbconvert_exporter": "python",
   "pygments_lexer": "ipython3",
   "version": "3.8.10"
  }
 },
 "nbformat": 4,
 "nbformat_minor": 5
}
