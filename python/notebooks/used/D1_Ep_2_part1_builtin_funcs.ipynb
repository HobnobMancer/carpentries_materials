{
 "cells": [
  {
   "cell_type": "markdown",
   "id": "7e56cd27",
   "metadata": {},
   "source": [
    "# Episode 4: Built-in Functions and Help\n",
    "\n",
    "## [What and how to use Python pre-made/built in functions](https://librarycarpentry.org/lc-python-intro/04-built-in/index.html)\n",
    "\n",
    "## LOs:\n",
    "- How can I use built-in functions?\n",
    "    - Explain the purpose of functions\n",
    "    - Correctly call built-in Python functions\n",
    "    - Correctly nest calls to built-in functions\n",
    "- How can I found out what a built in function does?\n",
    "    - Use help to display documentation for built-in functions\n",
    "- What kind of errors can occur in programs?\n",
    "    - Correctly describe situations in which SyntaxError and NameError occur\n",
    "    \n",
    "&nbsp;  \n",
    "&nbsp;  \n",
    "\n",
    "&nbsp;  \n",
    "\n",
    "&nbsp;  \n",
    "&nbsp;  \n",
    "\n",
    "&nbsp;  \n",
    "&nbsp;  \n",
    "\n",
    "&nbsp;  \n",
    "\n",
    "&nbsp;  \n",
    "&nbsp;  \n",
    "\n",
    "## Use comments to add documentation to programs"
   ]
  },
  {
   "cell_type": "code",
   "execution_count": null,
   "id": "226136c0",
   "metadata": {},
   "outputs": [],
   "source": [
    "# comment\n",
    "age = 52 # comment"
   ]
  },
  {
   "cell_type": "markdown",
   "id": "d6e41713",
   "metadata": {},
   "source": [
    "Text"
   ]
  },
  {
   "cell_type": "markdown",
   "id": "7e194863",
   "metadata": {},
   "source": [
    "&nbsp;  \n",
    "&nbsp;  \n",
    "\n",
    "&nbsp;  \n",
    "\n",
    "&nbsp;  \n",
    "&nbsp;  \n",
    "&nbsp;  \n",
    "&nbsp;  \n",
    "\n",
    "&nbsp;  \n",
    "\n",
    "&nbsp;  \n",
    "&nbsp;  \n",
    "## A function may take zero or more arguments\n",
    "\n",
    "An *argument* is a value passed into a function\n"
   ]
  },
  {
   "cell_type": "code",
   "execution_count": 1,
   "id": "28d80bc0",
   "metadata": {},
   "outputs": [
    {
     "ename": "ValueError",
     "evalue": "invalid literal for int() with base 10: 'name'",
     "output_type": "error",
     "traceback": [
      "\u001b[0;31m---------------------------------------------------------------------------\u001b[0m",
      "\u001b[0;31mValueError\u001b[0m                                Traceback (most recent call last)",
      "\u001b[0;32m<ipython-input-1-d6fa9bcb5f7e>\u001b[0m in \u001b[0;36m<module>\u001b[0;34m\u001b[0m\n\u001b[1;32m      1\u001b[0m \u001b[0;31m# int, str, float\u001b[0m\u001b[0;34m\u001b[0m\u001b[0;34m\u001b[0m\u001b[0;34m\u001b[0m\u001b[0m\n\u001b[0;32m----> 2\u001b[0;31m \u001b[0mint\u001b[0m\u001b[0;34m(\u001b[0m\u001b[0;34m'name'\u001b[0m\u001b[0;34m)\u001b[0m\u001b[0;34m\u001b[0m\u001b[0;34m\u001b[0m\u001b[0m\n\u001b[0m",
      "\u001b[0;31mValueError\u001b[0m: invalid literal for int() with base 10: 'name'"
     ]
    }
   ],
   "source": [
    "# int, str, float\n",
    "int('name')"
   ]
  },
  {
   "cell_type": "code",
   "execution_count": 2,
   "id": "921e639c",
   "metadata": {},
   "outputs": [
    {
     "data": {
      "text/plain": [
       "2"
      ]
     },
     "execution_count": 2,
     "metadata": {},
     "output_type": "execute_result"
    }
   ],
   "source": [
    "int('2')"
   ]
  },
  {
   "cell_type": "code",
   "execution_count": 3,
   "id": "2a04e9d0",
   "metadata": {},
   "outputs": [
    {
     "data": {
      "text/plain": [
       "4"
      ]
     },
     "execution_count": 3,
     "metadata": {},
     "output_type": "execute_result"
    }
   ],
   "source": [
    "# len\n",
    "len('name')"
   ]
  },
  {
   "cell_type": "code",
   "execution_count": 4,
   "id": "0cd2f2ae",
   "metadata": {},
   "outputs": [
    {
     "name": "stdout",
     "output_type": "stream",
     "text": [
      "name\n"
     ]
    }
   ],
   "source": [
    "# print\n",
    "print('name')"
   ]
  },
  {
   "cell_type": "code",
   "execution_count": 5,
   "id": "1598bbbf",
   "metadata": {},
   "outputs": [
    {
     "name": "stdout",
     "output_type": "stream",
     "text": [
      "name first\n"
     ]
    }
   ],
   "source": [
    "print('name', 'first')"
   ]
  },
  {
   "cell_type": "code",
   "execution_count": 6,
   "id": "c82dc226",
   "metadata": {},
   "outputs": [
    {
     "name": "stdout",
     "output_type": "stream",
     "text": [
      "name first\n"
     ]
    }
   ],
   "source": [
    "print('name','first')"
   ]
  },
  {
   "cell_type": "code",
   "execution_count": 7,
   "id": "536bef1b",
   "metadata": {},
   "outputs": [
    {
     "name": "stdout",
     "output_type": "stream",
     "text": [
      "\n"
     ]
    }
   ],
   "source": [
    "print()"
   ]
  },
  {
   "cell_type": "markdown",
   "id": "41256d58",
   "metadata": {},
   "source": [
    "&nbsp;  \n",
    "&nbsp;  \n",
    "\n",
    "&nbsp;  \n",
    "\n",
    "&nbsp;  \n",
    "&nbsp;  \n",
    "&nbsp;  \n",
    "&nbsp;  \n",
    "\n",
    "&nbsp;  \n",
    "\n",
    "&nbsp;  \n",
    "&nbsp;  \n",
    "\n",
    "\n",
    "## Every function returns something"
   ]
  },
  {
   "cell_type": "code",
   "execution_count": null,
   "id": "e32d1ef0",
   "metadata": {},
   "outputs": [],
   "source": []
  },
  {
   "cell_type": "markdown",
   "id": "9fa6b760",
   "metadata": {},
   "source": [
    "&nbsp;  \n",
    "&nbsp;  \n",
    "\n",
    "&nbsp;  \n",
    "\n",
    "&nbsp;  \n",
    "&nbsp;  \n",
    "&nbsp;  \n",
    "\n",
    "&nbsp;  \n",
    "\n",
    "&nbsp;  \n",
    "&nbsp; \n",
    "&nbsp;  \n",
    "\n",
    "## Commony-used built-in function include `max` and `min`"
   ]
  },
  {
   "cell_type": "code",
   "execution_count": null,
   "id": "8f6a6200",
   "metadata": {},
   "outputs": [],
   "source": [
    "# max() - return the largest value of one or more values\n",
    "# min() - return the smallest value\n",
    "# char str - 'str'\n",
    "# int - 1\n",
    "# float - 1.1"
   ]
  },
  {
   "cell_type": "code",
   "execution_count": 8,
   "id": "2f90bfdc",
   "metadata": {},
   "outputs": [
    {
     "name": "stdout",
     "output_type": "stream",
     "text": [
      "3\n"
     ]
    }
   ],
   "source": [
    "print(max(1, 2, 3))"
   ]
  },
  {
   "cell_type": "code",
   "execution_count": 9,
   "id": "0d23a301",
   "metadata": {},
   "outputs": [
    {
     "data": {
      "text/plain": [
       "3"
      ]
     },
     "execution_count": 9,
     "metadata": {},
     "output_type": "execute_result"
    }
   ],
   "source": [
    "max(2,3,1)"
   ]
  },
  {
   "cell_type": "code",
   "execution_count": 10,
   "id": "593eb1db",
   "metadata": {},
   "outputs": [
    {
     "data": {
      "text/plain": [
       "1"
      ]
     },
     "execution_count": 10,
     "metadata": {},
     "output_type": "execute_result"
    }
   ],
   "source": [
    "min(1,2,3)"
   ]
  },
  {
   "cell_type": "code",
   "execution_count": 11,
   "id": "aed92231",
   "metadata": {},
   "outputs": [
    {
     "data": {
      "text/plain": [
       "'a'"
      ]
     },
     "execution_count": 11,
     "metadata": {},
     "output_type": "execute_result"
    }
   ],
   "source": [
    "# max and min work for strings\n",
    "min('a', 'b', 'c')"
   ]
  },
  {
   "cell_type": "code",
   "execution_count": 12,
   "id": "1af9677d",
   "metadata": {},
   "outputs": [
    {
     "data": {
      "text/plain": [
       "'c'"
      ]
     },
     "execution_count": 12,
     "metadata": {},
     "output_type": "execute_result"
    }
   ],
   "source": [
    "max('b', 'c', 'a')"
   ]
  },
  {
   "cell_type": "code",
   "execution_count": 13,
   "id": "0602d500",
   "metadata": {},
   "outputs": [
    {
     "data": {
      "text/plain": [
       "'g'"
      ]
     },
     "execution_count": 13,
     "metadata": {},
     "output_type": "execute_result"
    }
   ],
   "source": [
    "max('ge')"
   ]
  },
  {
   "cell_type": "code",
   "execution_count": 14,
   "id": "3fe73243",
   "metadata": {},
   "outputs": [
    {
     "ename": "TypeError",
     "evalue": "'>' not supported between instances of 'int' and 'str'",
     "output_type": "error",
     "traceback": [
      "\u001b[0;31m---------------------------------------------------------------------------\u001b[0m",
      "\u001b[0;31mTypeError\u001b[0m                                 Traceback (most recent call last)",
      "\u001b[0;32m<ipython-input-14-21e9ff9e60d2>\u001b[0m in \u001b[0;36m<module>\u001b[0;34m\u001b[0m\n\u001b[0;32m----> 1\u001b[0;31m \u001b[0mmax\u001b[0m\u001b[0;34m(\u001b[0m\u001b[0;34m'a'\u001b[0m\u001b[0;34m,\u001b[0m \u001b[0;36m2\u001b[0m\u001b[0;34m)\u001b[0m\u001b[0;34m\u001b[0m\u001b[0;34m\u001b[0m\u001b[0m\n\u001b[0m",
      "\u001b[0;31mTypeError\u001b[0m: '>' not supported between instances of 'int' and 'str'"
     ]
    }
   ],
   "source": [
    "max('a', 2)"
   ]
  },
  {
   "cell_type": "markdown",
   "id": "ff570277",
   "metadata": {},
   "source": [
    "&nbsp;  \n",
    "&nbsp;  \n",
    "\n",
    "&nbsp;  \n",
    "\n",
    "&nbsp;  \n",
    "&nbsp;  \n",
    "&nbsp;  \n",
    "&nbsp;  \n",
    "\n",
    "&nbsp;  \n",
    "\n",
    "&nbsp;  \n",
    "&nbsp;  \n",
    "## Functions may only work for certain (combinations of) arguments\n",
    "`max` and `min` must be given at least one argument, and things that can be meaningfully compared."
   ]
  },
  {
   "cell_type": "code",
   "execution_count": 15,
   "id": "80d400c5",
   "metadata": {},
   "outputs": [
    {
     "ename": "TypeError",
     "evalue": "max expected 1 argument, got 0",
     "output_type": "error",
     "traceback": [
      "\u001b[0;31m---------------------------------------------------------------------------\u001b[0m",
      "\u001b[0;31mTypeError\u001b[0m                                 Traceback (most recent call last)",
      "\u001b[0;32m<ipython-input-15-a54ff7921926>\u001b[0m in \u001b[0;36m<module>\u001b[0;34m\u001b[0m\n\u001b[1;32m      1\u001b[0m \u001b[0;31m# no args\u001b[0m\u001b[0;34m\u001b[0m\u001b[0;34m\u001b[0m\u001b[0;34m\u001b[0m\u001b[0m\n\u001b[0;32m----> 2\u001b[0;31m \u001b[0mmax\u001b[0m\u001b[0;34m(\u001b[0m\u001b[0;34m)\u001b[0m\u001b[0;34m\u001b[0m\u001b[0;34m\u001b[0m\u001b[0m\n\u001b[0m",
      "\u001b[0;31mTypeError\u001b[0m: max expected 1 argument, got 0"
     ]
    }
   ],
   "source": [
    "# no args\n",
    "max()"
   ]
  },
  {
   "cell_type": "code",
   "execution_count": 16,
   "id": "7789405e",
   "metadata": {},
   "outputs": [
    {
     "name": "stdout",
     "output_type": "stream",
     "text": [
      "\n"
     ]
    }
   ],
   "source": [
    "print()"
   ]
  },
  {
   "cell_type": "code",
   "execution_count": 19,
   "id": "7200a36a",
   "metadata": {},
   "outputs": [
    {
     "name": "stdout",
     "output_type": "stream",
     "text": [
      "Help on built-in function max in module builtins:\n",
      "\n",
      "max(...)\n",
      "    max(iterable, *[, default=obj, key=func]) -> value\n",
      "    max(arg1, arg2, *args, *[, key=func]) -> value\n",
      "    \n",
      "    With a single iterable argument, return its biggest item. The\n",
      "    default keyword-only argument specifies an object to return if\n",
      "    the provided iterable is empty.\n",
      "    With two or more arguments, return the largest argument.\n",
      "\n"
     ]
    }
   ],
   "source": [
    "help(max)"
   ]
  },
  {
   "cell_type": "code",
   "execution_count": 20,
   "id": "2a6538ff",
   "metadata": {},
   "outputs": [
    {
     "name": "stdout",
     "output_type": "stream",
     "text": [
      "Help on built-in function print in module builtins:\n",
      "\n",
      "print(...)\n",
      "    print(value, ..., sep=' ', end='\\n', file=sys.stdout, flush=False)\n",
      "    \n",
      "    Prints the values to a stream, or to sys.stdout by default.\n",
      "    Optional keyword arguments:\n",
      "    file:  a file-like object (stream); defaults to the current sys.stdout.\n",
      "    sep:   string inserted between values, default a space.\n",
      "    end:   string appended after the last value, default a newline.\n",
      "    flush: whether to forcibly flush the stream.\n",
      "\n"
     ]
    }
   ],
   "source": [
    "help(print)"
   ]
  },
  {
   "cell_type": "code",
   "execution_count": null,
   "id": "947371e4",
   "metadata": {},
   "outputs": [],
   "source": [
    "# impossible comparison"
   ]
  },
  {
   "cell_type": "markdown",
   "id": "4829343b",
   "metadata": {},
   "source": [
    "&nbsp;  \n",
    "&nbsp;  \n",
    "\n",
    "&nbsp;  \n",
    "\n",
    "&nbsp;  \n",
    "&nbsp;  \n",
    "&nbsp;  \n",
    "&nbsp;  \n",
    "\n",
    "&nbsp;  \n",
    "\n",
    "&nbsp;  \n",
    "&nbsp;  \n",
    "## Functions may have default values for some arguments\n"
   ]
  },
  {
   "cell_type": "code",
   "execution_count": 21,
   "id": "ebca6103",
   "metadata": {},
   "outputs": [
    {
     "data": {
      "text/plain": [
       "4"
      ]
     },
     "execution_count": 21,
     "metadata": {},
     "output_type": "execute_result"
    }
   ],
   "source": [
    "# round() - rounds your number\n",
    "round(3.712)"
   ]
  },
  {
   "cell_type": "code",
   "execution_count": 22,
   "id": "87e7678b",
   "metadata": {},
   "outputs": [
    {
     "name": "stdout",
     "output_type": "stream",
     "text": [
      "Help on built-in function round in module builtins:\n",
      "\n",
      "round(number, ndigits=None)\n",
      "    Round a number to a given precision in decimal digits.\n",
      "    \n",
      "    The return value is an integer if ndigits is omitted or None.  Otherwise\n",
      "    the return value has the same type as the number.  ndigits may be negative.\n",
      "\n"
     ]
    }
   ],
   "source": [
    "help(round)"
   ]
  },
  {
   "cell_type": "code",
   "execution_count": 23,
   "id": "bca3a827",
   "metadata": {},
   "outputs": [
    {
     "data": {
      "text/plain": [
       "3.71"
      ]
     },
     "execution_count": 23,
     "metadata": {},
     "output_type": "execute_result"
    }
   ],
   "source": [
    "round(3.712, 2)"
   ]
  },
  {
   "cell_type": "code",
   "execution_count": 24,
   "id": "89663ed0",
   "metadata": {},
   "outputs": [
    {
     "data": {
      "text/plain": [
       "3.7"
      ]
     },
     "execution_count": 24,
     "metadata": {},
     "output_type": "execute_result"
    }
   ],
   "source": [
    "round(3.712, 1)"
   ]
  },
  {
   "cell_type": "code",
   "execution_count": 25,
   "id": "8b01fb47",
   "metadata": {},
   "outputs": [
    {
     "ename": "TypeError",
     "evalue": "round() missing required argument 'number' (pos 1)",
     "output_type": "error",
     "traceback": [
      "\u001b[0;31m---------------------------------------------------------------------------\u001b[0m",
      "\u001b[0;31mTypeError\u001b[0m                                 Traceback (most recent call last)",
      "\u001b[0;32m<ipython-input-25-776eeab594c2>\u001b[0m in \u001b[0;36m<module>\u001b[0;34m\u001b[0m\n\u001b[0;32m----> 1\u001b[0;31m \u001b[0mround\u001b[0m\u001b[0;34m(\u001b[0m\u001b[0;34m)\u001b[0m\u001b[0;34m\u001b[0m\u001b[0;34m\u001b[0m\u001b[0m\n\u001b[0m",
      "\u001b[0;31mTypeError\u001b[0m: round() missing required argument 'number' (pos 1)"
     ]
    }
   ],
   "source": [
    "round()"
   ]
  },
  {
   "cell_type": "markdown",
   "id": "fe2393ea",
   "metadata": {},
   "source": [
    "&nbsp;  \n",
    "&nbsp;  \n",
    "\n",
    "&nbsp;  \n",
    "\n",
    "&nbsp;  \n",
    "&nbsp;  &nbsp;  \n",
    "&nbsp;  \n",
    "\n",
    "&nbsp;  \n",
    "\n",
    "&nbsp;  \n",
    "&nbsp;  \n",
    "## Functions attached to objects are called methods\n",
    "*This is important to remember for later episodes in the lesson*  "
   ]
  },
  {
   "cell_type": "code",
   "execution_count": null,
   "id": "38e79cd1",
   "metadata": {},
   "outputs": [],
   "source": []
  },
  {
   "cell_type": "code",
   "execution_count": null,
   "id": "195c99e4",
   "metadata": {},
   "outputs": [],
   "source": []
  },
  {
   "cell_type": "markdown",
   "id": "3ae185b9",
   "metadata": {},
   "source": [
    "&nbsp;  \n",
    "&nbsp;  \n",
    "\n",
    "&nbsp;  \n",
    "\n",
    "&nbsp;  \n",
    "&nbsp;  \n",
    "&nbsp;  \n",
    "&nbsp;  \n",
    "\n",
    "&nbsp;  \n",
    "\n",
    "&nbsp;  \n",
    "&nbsp;  \n",
    "## Use the built-in function `help` to get help for a function\n",
    "\n",
    "Every built-in function has online documentation."
   ]
  },
  {
   "cell_type": "code",
   "execution_count": null,
   "id": "050dff3e",
   "metadata": {},
   "outputs": [],
   "source": [
    "# bring up the documentation for the function round()"
   ]
  },
  {
   "cell_type": "markdown",
   "id": "b41f8a1d",
   "metadata": {},
   "source": [
    "&nbsp;  \n",
    "&nbsp;  \n",
    "\n",
    "&nbsp;  \n",
    "\n",
    "&nbsp;  \n",
    "&nbsp;  \n",
    "&nbsp;  \n",
    "&nbsp;  \n",
    "\n",
    "&nbsp;  \n",
    "\n",
    "&nbsp;  \n",
    "&nbsp;  \n",
    "## The Jupyter Notebook has two ways to get\n",
    "\n",
    "Option 1:\n",
    "1. Place the cursor near where the function is invoked in a cell (i.e. the function name or its parameters),\n",
    "2. Hold down `Shift` and press `Tab`\n",
    "3. Do this several tiems to expand the information returned\n",
    "\n",
    "Option 2:\n",
    "1. Type the function name in a cell with a question mark after it\n",
    "2. Run the cell"
   ]
  },
  {
   "cell_type": "code",
   "execution_count": 28,
   "id": "7a492018",
   "metadata": {},
   "outputs": [],
   "source": [
    "# Option 1\n",
    "print?"
   ]
  },
  {
   "cell_type": "code",
   "execution_count": 26,
   "id": "3a2ba7d1",
   "metadata": {},
   "outputs": [
    {
     "name": "stdout",
     "output_type": "stream",
     "text": [
      "Help on built-in function print in module builtins:\n",
      "\n",
      "print(...)\n",
      "    print(value, ..., sep=' ', end='\\n', file=sys.stdout, flush=False)\n",
      "    \n",
      "    Prints the values to a stream, or to sys.stdout by default.\n",
      "    Optional keyword arguments:\n",
      "    file:  a file-like object (stream); defaults to the current sys.stdout.\n",
      "    sep:   string inserted between values, default a space.\n",
      "    end:   string appended after the last value, default a newline.\n",
      "    flush: whether to forcibly flush the stream.\n",
      "\n"
     ]
    }
   ],
   "source": [
    "# Option 2\n",
    "help(print)"
   ]
  },
  {
   "cell_type": "markdown",
   "id": "02c02832",
   "metadata": {},
   "source": [
    "&nbsp;  \n",
    "&nbsp;  \n",
    "\n",
    "&nbsp;  \n",
    "\n",
    "&nbsp;  \n",
    "&nbsp;  \n",
    "&nbsp;  \n",
    "&nbsp;  \n",
    "\n",
    "&nbsp;  \n",
    "\n",
    "&nbsp;  \n",
    "&nbsp;  \n",
    "## Python reports a syntax error when it can't understand the source of a program\n"
   ]
  },
  {
   "cell_type": "code",
   "execution_count": 29,
   "id": "38c649de",
   "metadata": {},
   "outputs": [
    {
     "ename": "SyntaxError",
     "evalue": "EOL while scanning string literal (<ipython-input-29-57d4f1e1f842>, line 2)",
     "output_type": "error",
     "traceback": [
      "\u001b[0;36m  File \u001b[0;32m\"<ipython-input-29-57d4f1e1f842>\"\u001b[0;36m, line \u001b[0;32m2\u001b[0m\n\u001b[0;31m    name = \"Fang\u001b[0m\n\u001b[0m                ^\u001b[0m\n\u001b[0;31mSyntaxError\u001b[0m\u001b[0;31m:\u001b[0m EOL while scanning string literal\n"
     ]
    }
   ],
   "source": [
    "# Forget to close the quotation marks around a string\n",
    "name = \"Fang"
   ]
  },
  {
   "cell_type": "code",
   "execution_count": 30,
   "id": "7621fb92",
   "metadata": {},
   "outputs": [],
   "source": [
    "name = \"Fang\""
   ]
  },
  {
   "cell_type": "code",
   "execution_count": 31,
   "id": "56d4c9ae",
   "metadata": {},
   "outputs": [
    {
     "ename": "SyntaxError",
     "evalue": "invalid syntax (<ipython-input-31-e9191f9b54f3>, line 2)",
     "output_type": "error",
     "traceback": [
      "\u001b[0;36m  File \u001b[0;32m\"<ipython-input-31-e9191f9b54f3>\"\u001b[0;36m, line \u001b[0;32m2\u001b[0m\n\u001b[0;31m    age = = 52\u001b[0m\n\u001b[0m          ^\u001b[0m\n\u001b[0;31mSyntaxError\u001b[0m\u001b[0;31m:\u001b[0m invalid syntax\n"
     ]
    }
   ],
   "source": [
    "# an extra '='\n",
    "age = = 52"
   ]
  },
  {
   "cell_type": "code",
   "execution_count": 32,
   "id": "18520b10",
   "metadata": {},
   "outputs": [],
   "source": [
    "age = 52"
   ]
  },
  {
   "cell_type": "code",
   "execution_count": 33,
   "id": "345514a5",
   "metadata": {},
   "outputs": [
    {
     "ename": "SyntaxError",
     "evalue": "unexpected EOF while parsing (<ipython-input-33-84481887d69f>, line 2)",
     "output_type": "error",
     "traceback": [
      "\u001b[0;36m  File \u001b[0;32m\"<ipython-input-33-84481887d69f>\"\u001b[0;36m, line \u001b[0;32m2\u001b[0m\n\u001b[0;31m    print(\"Hello world\"\u001b[0m\n\u001b[0m                       ^\u001b[0m\n\u001b[0;31mSyntaxError\u001b[0m\u001b[0;31m:\u001b[0m unexpected EOF while parsing\n"
     ]
    }
   ],
   "source": [
    "# missing round brackets\n",
    "print(\"Hello world\""
   ]
  },
  {
   "cell_type": "code",
   "execution_count": 34,
   "id": "702eedcd",
   "metadata": {},
   "outputs": [
    {
     "name": "stdout",
     "output_type": "stream",
     "text": [
      "Hello World\n"
     ]
    }
   ],
   "source": [
    "print(\"Hello World\")"
   ]
  },
  {
   "cell_type": "markdown",
   "id": "71b636c5",
   "metadata": {},
   "source": [
    "&nbsp;  \n",
    "&nbsp;  \n",
    "\n",
    "&nbsp;  \n",
    "\n",
    "&nbsp;  \n",
    "&nbsp;  \n",
    "&nbsp;  \n",
    "&nbsp;  \n",
    "\n",
    "&nbsp;  \n",
    "\n",
    "&nbsp;  \n",
    "&nbsp;  \n",
    "## Python reports a runtime error when something goes wrong while a program is executing"
   ]
  },
  {
   "cell_type": "code",
   "execution_count": 35,
   "id": "bb482afd",
   "metadata": {},
   "outputs": [
    {
     "ename": "NameError",
     "evalue": "name 'aege' is not defined",
     "output_type": "error",
     "traceback": [
      "\u001b[0;31m---------------------------------------------------------------------------\u001b[0m",
      "\u001b[0;31mNameError\u001b[0m                                 Traceback (most recent call last)",
      "\u001b[0;32m<ipython-input-35-af038f7708e7>\u001b[0m in \u001b[0;36m<module>\u001b[0;34m\u001b[0m\n\u001b[1;32m      1\u001b[0m \u001b[0mage\u001b[0m \u001b[0;34m=\u001b[0m \u001b[0;36m53\u001b[0m\u001b[0;34m\u001b[0m\u001b[0;34m\u001b[0m\u001b[0m\n\u001b[0;32m----> 2\u001b[0;31m \u001b[0mremaining\u001b[0m \u001b[0;34m=\u001b[0m \u001b[0;36m100\u001b[0m \u001b[0;34m-\u001b[0m \u001b[0maege\u001b[0m \u001b[0;31m# mis-spelled\u001b[0m\u001b[0;34m\u001b[0m\u001b[0;34m\u001b[0m\u001b[0m\n\u001b[0m",
      "\u001b[0;31mNameError\u001b[0m: name 'aege' is not defined"
     ]
    }
   ],
   "source": [
    "age = 53\n",
    "remaining = 100 - aege # mis-spelled"
   ]
  },
  {
   "cell_type": "markdown",
   "id": "0da1a319",
   "metadata": {},
   "source": [
    "\n",
    "&nbsp;  \n",
    "&nbsp;  \n",
    "\n",
    "&nbsp;  \n",
    "\n",
    "&nbsp;  \n",
    "&nbsp;  \n",
    "&nbsp;  \n",
    "&nbsp;  \n",
    "\n",
    "&nbsp;  \n",
    "\n",
    "&nbsp;  \n",
    "&nbsp;  \n",
    "## (Ex) What Happens When\n",
    "\n",
    "*Practise understanding parathentheses in Python to define the order of operations*\n",
    "\n",
    "1. Explain in simple terms the order of operations in the following program:\n",
    "    a. When does the addition happen?\n",
    "    b. When does the substraction happen?\n",
    "    c. When is each function called?\n",
    "2. What is the final value of `radiance`?"
   ]
  },
  {
   "cell_type": "code",
   "execution_count": null,
   "id": "d7c51524",
   "metadata": {},
   "outputs": [],
   "source": [
    "radiance = 1.0\n",
    "radiance = max(2.1, 2.0 + min(radiance, 1.1 * radiance - 0.5))"
   ]
  },
  {
   "cell_type": "markdown",
   "id": "4f4c1686",
   "metadata": {},
   "source": [
    "&nbsp;  \n",
    "&nbsp;  \n",
    "\n",
    "&nbsp;  \n",
    "\n",
    "&nbsp;  \n",
    "&nbsp;  \n",
    "&nbsp;  \n",
    "\n",
    "&nbsp;  \n",
    "\n",
    "&nbsp;  \n",
    "\n",
    "## (Ex) Spot the Difference\n",
    "1. Predict what each of the `print` statements in the program below will print\n",
    "2. Does `max(len(rich), poor)` run or produce an error message? If it runs, does its result make any sense?"
   ]
  },
  {
   "cell_type": "code",
   "execution_count": null,
   "id": "4b0a00ae",
   "metadata": {},
   "outputs": [],
   "source": [
    "easy_string = \"abc\"\n",
    "print(max(easy_string))\n",
    "rich = \"gold\"\n",
    "poor = \"tin\"\n",
    "print(max(rich, poor))\n",
    "print(max(len(rich), len(poor)))"
   ]
  },
  {
   "cell_type": "markdown",
   "id": "f9a14242",
   "metadata": {},
   "source": [
    "&nbsp;  \n",
    "\n",
    "&nbsp;  \n",
    "&nbsp;  \n",
    "&nbsp;  \n",
    "\n",
    "&nbsp;  \n",
    "\n",
    "&nbsp;  \n",
    "&nbsp;  \n",
    "&nbsp;  \n",
    "\n",
    "## (Ex) Why Not?\n",
    "\n",
    "What is it that `max` and `min` do not return `None` when they are called with no arguments?\n"
   ]
  },
  {
   "cell_type": "markdown",
   "id": "f90d83f4",
   "metadata": {},
   "source": [
    "&nbsp;  \n",
    "\n",
    "&nbsp;  \n",
    "&nbsp;  \n",
    "&nbsp;  \n",
    "\n",
    "&nbsp;  \n",
    "\n",
    "&nbsp;  \n",
    "&nbsp;  \n",
    "&nbsp;  \n",
    "\n",
    "## (Ex) Last Character of a String\n",
    "If Python starts counting from zero, and `len` returns the number of characters in a string, what index expression will get the last character in the string `name`? (*Note: we will see a simpler way to do this in a later episode*)"
   ]
  },
  {
   "cell_type": "code",
   "execution_count": null,
   "id": "a2448eb2",
   "metadata": {},
   "outputs": [],
   "source": []
  },
  {
   "cell_type": "markdown",
   "id": "e8899a7f",
   "metadata": {},
   "source": [
    "&nbsp;  \n",
    "\n",
    "&nbsp;  \n",
    "&nbsp;  \n",
    "&nbsp;  \n",
    "\n",
    "&nbsp;  \n",
    "\n",
    "&nbsp;  \n",
    "&nbsp;  \n",
    "&nbsp;  \n",
    "\n",
    "## Key Points\n",
    "The official Python documentation is arguably the most complete source of information about the language. It is available in different languages and contains a lot of useful resources. The Built-in Functions page contains a catalogue of all of these functions, including the ones that we’ve covered in this lesson. Some of these are more advanced and unnecessary at the moment, but others are very simple and useful.\n",
    "\n",
    "- Use comments to add documentation to programs\n",
    "- A function may take zero or more arguments\n",
    "- Commonly-used built-in functions include `max`, `min`, and `round`\n",
    "- Functions may only work for certain (combinations of) arguments\n",
    "- Functions may have default values for some arguments\n",
    "- Use the built-in function `help` to get help for a function\n",
    "- The Jupyter Notebook has tow ways to get help\n",
    "- Every function returns something \n",
    "- Python reprots a syntax error when it can't understand the source of a program\n",
    "- Python reports a runtime error when something goes wrong while program is executing\n",
    "- Fix syntax error by reading the source code, and runtime errors by tracing the program's execution\n",
    "\n",
    "## LOs:\n",
    "- How can I use built-in functions?\n",
    "    - Explain the purpose of functions\n",
    "    - Correctly call built-in Python functions\n",
    "    - Correctly nest calls to built-in functions\n",
    "- How can I found out what a built in function does?\n",
    "    - Use help to display documentation for built-in functions\n",
    "- What kind of errors can occur in programs?\n",
    "    - Correctly describe situations in which SyntaxError and NameError occur"
   ]
  }
 ],
 "metadata": {
  "kernelspec": {
   "display_name": "Python 3",
   "language": "python",
   "name": "python3"
  },
  "language_info": {
   "codemirror_mode": {
    "name": "ipython",
    "version": 3
   },
   "file_extension": ".py",
   "mimetype": "text/x-python",
   "name": "python",
   "nbconvert_exporter": "python",
   "pygments_lexer": "ipython3",
   "version": "3.8.10"
  }
 },
 "nbformat": 4,
 "nbformat_minor": 5
}
