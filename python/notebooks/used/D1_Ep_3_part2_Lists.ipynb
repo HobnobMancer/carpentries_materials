{
 "cells": [
  {
   "cell_type": "markdown",
   "id": "b53c8461",
   "metadata": {},
   "source": [
    "# Episode 11: Lists\n",
    "\n",
    "## [Creating and using collections of values](https://librarycarpentry.org/lc-python-intro/11-lists/index.html)\n",
    " \n",
    "## LOs:\n",
    "\n",
    "- How can I store multiple values?\n",
    "- Explain why programs need collections of values\n",
    "- Write programs that create flat lists, index them, slice them and modify them through assignment and method calls\n",
    " \n",
    "&nbsp;  \n",
    "\n",
    "&nbsp;  \n",
    "\n",
    "&nbsp;  \n",
    "&nbsp;  \n",
    "\n",
    "&nbsp;  \n",
    "&nbsp;  \n",
    "\n",
    "&nbsp;  \n",
    "\n",
    "&nbsp;  \n",
    "&nbsp;  \n",
    "\n",
    "&nbsp;  \n",
    "&nbsp;  \n",
    "\n",
    "&nbsp;  \n",
    "\n",
    "&nbsp;  \n",
    "&nbsp;  \n",
    "\n",
    "&nbsp;  \n",
    "&nbsp;  \n",
    "\n",
    "&nbsp;  \n",
    "\n",
    "&nbsp;  \n",
    "&nbsp;  \n",
    "&nbsp;  \n",
    "&nbsp;  \n",
    "\n",
    "&nbsp;  \n",
    "\n",
    "&nbsp;  \n",
    "&nbsp;  \n",
    "\n",
    "## A list stores many values in a single structure"
   ]
  },
  {
   "cell_type": "code",
   "execution_count": 1,
   "id": "a45981ff",
   "metadata": {},
   "outputs": [],
   "source": [
    "student_1 = 'Mark'\n",
    "student_2 = 'Susan'"
   ]
  },
  {
   "cell_type": "code",
   "execution_count": 2,
   "id": "de5ea2b2",
   "metadata": {},
   "outputs": [
    {
     "data": {
      "text/plain": [
       "['Mark', 'Susan']"
      ]
     },
     "execution_count": 2,
     "metadata": {},
     "output_type": "execute_result"
    }
   ],
   "source": [
    "student_names = ['Mark', 'Susan']\n",
    "student_names"
   ]
  },
  {
   "cell_type": "code",
   "execution_count": 3,
   "id": "dadca273",
   "metadata": {},
   "outputs": [
    {
     "data": {
      "text/plain": [
       "['Mark', 'Susan']"
      ]
     },
     "execution_count": 3,
     "metadata": {},
     "output_type": "execute_result"
    }
   ],
   "source": [
    "list_of_students = [student_1, student_2]\n",
    "list_of_students"
   ]
  },
  {
   "cell_type": "code",
   "execution_count": 4,
   "id": "ac790d77",
   "metadata": {},
   "outputs": [
    {
     "data": {
      "text/plain": [
       "[17.3, 17.5, 16.2]"
      ]
     },
     "execution_count": 4,
     "metadata": {},
     "output_type": "execute_result"
    }
   ],
   "source": [
    "temperatures = [17.3, 17.5, 16.2]\n",
    "temperatures"
   ]
  },
  {
   "cell_type": "code",
   "execution_count": 5,
   "id": "7024609c",
   "metadata": {},
   "outputs": [
    {
     "data": {
      "text/plain": [
       "4"
      ]
     },
     "execution_count": 5,
     "metadata": {},
     "output_type": "execute_result"
    }
   ],
   "source": [
    "# len\n",
    "len('Mark')"
   ]
  },
  {
   "cell_type": "code",
   "execution_count": 7,
   "id": "271ea760",
   "metadata": {},
   "outputs": [
    {
     "data": {
      "text/plain": [
       "3"
      ]
     },
     "execution_count": 7,
     "metadata": {},
     "output_type": "execute_result"
    }
   ],
   "source": [
    "len(temperatures)"
   ]
  },
  {
   "cell_type": "code",
   "execution_count": 8,
   "id": "4723b28c",
   "metadata": {},
   "outputs": [
    {
     "ename": "TypeError",
     "evalue": "object of type 'int' has no len()",
     "output_type": "error",
     "traceback": [
      "\u001b[0;31m---------------------------------------------------------------------------\u001b[0m",
      "\u001b[0;31mTypeError\u001b[0m                                 Traceback (most recent call last)",
      "\u001b[0;32m<ipython-input-8-e4c2bd9bfca4>\u001b[0m in \u001b[0;36m<module>\u001b[0;34m\u001b[0m\n\u001b[0;32m----> 1\u001b[0;31m \u001b[0mlen\u001b[0m\u001b[0;34m(\u001b[0m\u001b[0;36m52\u001b[0m\u001b[0;34m)\u001b[0m\u001b[0;34m\u001b[0m\u001b[0;34m\u001b[0m\u001b[0m\n\u001b[0m",
      "\u001b[0;31mTypeError\u001b[0m: object of type 'int' has no len()"
     ]
    }
   ],
   "source": [
    "len(52)"
   ]
  },
  {
   "cell_type": "code",
   "execution_count": null,
   "id": "8bf35974",
   "metadata": {},
   "outputs": [],
   "source": []
  },
  {
   "cell_type": "markdown",
   "id": "f9331021",
   "metadata": {},
   "source": [
    "&nbsp;  \n",
    "\n",
    "&nbsp;  \n",
    "&nbsp;  \n",
    "\n",
    "&nbsp;  \n",
    "&nbsp;  \n",
    "\n",
    "&nbsp;  \n",
    "&nbsp;  \n",
    "\n",
    "&nbsp;  \n",
    "&nbsp;  \n",
    "\n",
    "&nbsp;  \n",
    "&nbsp;  \n",
    "\n",
    "&nbsp;  \n",
    "\n",
    "&nbsp;  \n",
    "&nbsp;\n",
    "&nbsp;  \n",
    "\n",
    "&nbsp;  \n",
    "&nbsp;  \n",
    "\n",
    "&nbsp;  \n",
    "&nbsp;  \n",
    "\n",
    "&nbsp;  \n",
    "\n",
    "&nbsp;  \n",
    "&nbsp;\n",
    "\n",
    "&nbsp;  \n",
    "&nbsp;  \n",
    "\n",
    "## Use an item's index to fetch it from a list\n",
    "\n",
    "*Remember when we used index numbers to retrieve specific characters from a string*"
   ]
  },
  {
   "cell_type": "code",
   "execution_count": 9,
   "id": "eb18c983",
   "metadata": {},
   "outputs": [
    {
     "name": "stdout",
     "output_type": "stream",
     "text": [
      "first char h\n"
     ]
    }
   ],
   "source": [
    "atom_name = 'helium'\n",
    "print('first char', atom_name[0])"
   ]
  },
  {
   "cell_type": "code",
   "execution_count": 10,
   "id": "fbbd1801",
   "metadata": {},
   "outputs": [
    {
     "data": {
      "text/plain": [
       "17.3"
      ]
     },
     "execution_count": 10,
     "metadata": {},
     "output_type": "execute_result"
    }
   ],
   "source": [
    "temperatures[0]"
   ]
  },
  {
   "cell_type": "code",
   "execution_count": 11,
   "id": "03a91583",
   "metadata": {},
   "outputs": [
    {
     "data": {
      "text/plain": [
       "17.5"
      ]
     },
     "execution_count": 11,
     "metadata": {},
     "output_type": "execute_result"
    }
   ],
   "source": [
    "temperatures[1]"
   ]
  },
  {
   "cell_type": "markdown",
   "id": "ae944569",
   "metadata": {},
   "source": [
    "&nbsp;  \n",
    "\n",
    "&nbsp;  \n",
    "\n",
    "&nbsp;  \n",
    "&nbsp;  \n",
    "\n",
    "&nbsp;  \n",
    "&nbsp;  \n",
    "\n",
    "&nbsp;  \n",
    "\n",
    "&nbsp;  \n",
    "&nbsp;  \n",
    "\n",
    "&nbsp;  \n",
    "\n",
    "&nbsp;  \n",
    "&nbsp;  \n",
    "\n",
    "&nbsp;  \n",
    "&nbsp;  \n",
    "\n",
    "&nbsp;  \n",
    "\n",
    "&nbsp;  \n",
    "&nbsp;  \n",
    "\n",
    "&nbsp;  \n",
    "&nbsp;  \n",
    "\n",
    "&nbsp;  \n",
    "&nbsp;  \n",
    "\n",
    "&nbsp;  \n",
    "\n",
    "&nbsp;  \n",
    "&nbsp;  \n",
    "\n",
    "## Lists' values can be replaced by assigning to them "
   ]
  },
  {
   "cell_type": "code",
   "execution_count": 12,
   "id": "3e99f3e4",
   "metadata": {},
   "outputs": [
    {
     "name": "stdout",
     "output_type": "stream",
     "text": [
      "[17.3, 17.5, 16.2]\n"
     ]
    }
   ],
   "source": [
    "print(temperatures)"
   ]
  },
  {
   "cell_type": "code",
   "execution_count": 13,
   "id": "fa2b4cf3",
   "metadata": {},
   "outputs": [
    {
     "name": "stdout",
     "output_type": "stream",
     "text": [
      "second item 17.5\n"
     ]
    }
   ],
   "source": [
    "print('second item', temperatures[1])"
   ]
  },
  {
   "cell_type": "code",
   "execution_count": 14,
   "id": "f3686d46",
   "metadata": {},
   "outputs": [
    {
     "name": "stdout",
     "output_type": "stream",
     "text": [
      "[17.3, 16.5, 16.2]\n"
     ]
    }
   ],
   "source": [
    "temperatures[1] = 16.5\n",
    "print(temperatures)"
   ]
  },
  {
   "cell_type": "code",
   "execution_count": 48,
   "id": "2a94a677",
   "metadata": {},
   "outputs": [
    {
     "data": {
      "text/plain": [
       "[0, 0, 0, 0, 0, 0, 0, 0, 0, 0]"
      ]
     },
     "execution_count": 48,
     "metadata": {},
     "output_type": "execute_result"
    }
   ],
   "source": [
    "empty_list = []\n",
    "new_list = [0] * 10\n",
    "new_list"
   ]
  },
  {
   "cell_type": "code",
   "execution_count": 49,
   "id": "d43a7987",
   "metadata": {},
   "outputs": [
    {
     "data": {
      "text/plain": [
       "10"
      ]
     },
     "execution_count": 49,
     "metadata": {},
     "output_type": "execute_result"
    }
   ],
   "source": [
    "len(new_list)"
   ]
  },
  {
   "cell_type": "markdown",
   "id": "7abb92ea",
   "metadata": {},
   "source": [
    "&nbsp;  \n",
    "\n",
    "&nbsp;  \n",
    "&nbsp;  \n",
    "\n",
    "&nbsp;  \n",
    "&nbsp;  \n",
    "\n",
    "&nbsp;  \n",
    "\n",
    "&nbsp;  \n",
    "&nbsp;  \n",
    "&nbsp;  \n",
    "\n",
    "&nbsp;  \n",
    "&nbsp;  \n",
    "\n",
    "&nbsp;  \n",
    "&nbsp;  \n",
    "\n",
    "&nbsp;  \n",
    "\n",
    "&nbsp;  \n",
    "&nbsp;  \n",
    "&nbsp;  \n",
    "\n",
    "&nbsp;  \n",
    "&nbsp;  \n",
    "\n",
    "&nbsp;  \n",
    "&nbsp;  \n",
    "\n",
    "&nbsp;  \n",
    "\n",
    "&nbsp;  \n",
    "&nbsp;    \n",
    "\n",
    "&nbsp;  \n",
    "&nbsp;  \n",
    "\n",
    "&nbsp;  \n",
    "&nbsp;  \n",
    "\n",
    "&nbsp;  \n",
    "\n",
    "&nbsp;  \n",
    "&nbsp;  \n",
    "## Appending items to a list lengthens it\n"
   ]
  },
  {
   "cell_type": "code",
   "execution_count": 15,
   "id": "95140717",
   "metadata": {},
   "outputs": [
    {
     "data": {
      "text/plain": [
       "[17.3, 16.5, 16.2]"
      ]
     },
     "execution_count": 15,
     "metadata": {},
     "output_type": "execute_result"
    }
   ],
   "source": [
    "temperatures"
   ]
  },
  {
   "cell_type": "code",
   "execution_count": null,
   "id": "e58c5f04",
   "metadata": {},
   "outputs": [],
   "source": [
    "# list_name.append()"
   ]
  },
  {
   "cell_type": "code",
   "execution_count": 16,
   "id": "0fefae6c",
   "metadata": {},
   "outputs": [],
   "source": [
    "temperatures.append(17.5)"
   ]
  },
  {
   "cell_type": "code",
   "execution_count": 18,
   "id": "0df2550f",
   "metadata": {},
   "outputs": [
    {
     "data": {
      "text/plain": [
       "[17.3, 16.5, 16.2, 17.5]"
      ]
     },
     "execution_count": 18,
     "metadata": {},
     "output_type": "execute_result"
    }
   ],
   "source": [
    "temperatures"
   ]
  },
  {
   "cell_type": "code",
   "execution_count": 19,
   "id": "4ad4b7a8",
   "metadata": {},
   "outputs": [
    {
     "data": {
      "text/plain": [
       "[17.3, 16.5, 16.2, 17.5, 18.2, 3.6, 4.5]"
      ]
     },
     "execution_count": 19,
     "metadata": {},
     "output_type": "execute_result"
    }
   ],
   "source": [
    "alex_temperatures = [18.2, 3.6, 4.5]\n",
    "all_temperatures = temperatures + alex_temperatures\n",
    "all_temperatures"
   ]
  },
  {
   "cell_type": "code",
   "execution_count": 20,
   "id": "898b8ad2",
   "metadata": {},
   "outputs": [],
   "source": [
    "# list_name.extend()\n",
    "temperatures.extend(alex_temperatures)"
   ]
  },
  {
   "cell_type": "code",
   "execution_count": 21,
   "id": "8bcf85a9",
   "metadata": {},
   "outputs": [
    {
     "data": {
      "text/plain": [
       "[17.3, 16.5, 16.2, 17.5, 18.2, 3.6, 4.5]"
      ]
     },
     "execution_count": 21,
     "metadata": {},
     "output_type": "execute_result"
    }
   ],
   "source": [
    "temperatures"
   ]
  },
  {
   "cell_type": "markdown",
   "id": "5a71b53e",
   "metadata": {},
   "source": [
    "&nbsp;  \n",
    "&nbsp;  \n",
    "\n",
    "&nbsp;  \n",
    "&nbsp;  \n",
    "\n",
    "&nbsp;  \n",
    "&nbsp;  \n",
    "\n",
    "&nbsp;  \n",
    "\n",
    "&nbsp;  \n",
    "&nbsp;  \n",
    "&nbsp;  \n",
    "\n",
    "&nbsp;  \n",
    "&nbsp;  \n",
    "\n",
    "&nbsp;  \n",
    "&nbsp;  \n",
    "\n",
    "&nbsp;  \n",
    "\n",
    "&nbsp;  \n",
    "&nbsp;  \n",
    "&nbsp;  \n",
    "\n",
    "&nbsp;  \n",
    "&nbsp;  \n",
    "\n",
    "&nbsp;  \n",
    "&nbsp;  \n",
    "\n",
    "&nbsp;  \n",
    "\n",
    "&nbsp;  \n",
    "&nbsp;  \n",
    "&nbsp;  \n",
    "&nbsp;  \n",
    "\n",
    "&nbsp;  \n",
    "&nbsp;  \n",
    "\n",
    "&nbsp;  \n",
    "\n",
    "&nbsp;  \n",
    "&nbsp;  \n",
    "\n",
    "## Use `del` to remove items from a list entirely\n",
    "\n",
    "`del` is **not** a function or method, it is a **statement**"
   ]
  },
  {
   "cell_type": "code",
   "execution_count": 22,
   "id": "7c95f18e",
   "metadata": {},
   "outputs": [
    {
     "data": {
      "text/plain": [
       "[17.3, 16.5, 16.2, 17.5, 18.2, 3.6, 4.5]"
      ]
     },
     "execution_count": 22,
     "metadata": {},
     "output_type": "execute_result"
    }
   ],
   "source": [
    "temperatures"
   ]
  },
  {
   "cell_type": "code",
   "execution_count": 23,
   "id": "51145391",
   "metadata": {},
   "outputs": [],
   "source": [
    "# del the third item from our list\n",
    "# del - deletes an item based on its index or position in the list\n",
    "del temperatures[2]"
   ]
  },
  {
   "cell_type": "code",
   "execution_count": 24,
   "id": "92d6bda8",
   "metadata": {},
   "outputs": [
    {
     "data": {
      "text/plain": [
       "[17.3, 16.5, 17.5, 18.2, 3.6, 4.5]"
      ]
     },
     "execution_count": 24,
     "metadata": {},
     "output_type": "execute_result"
    }
   ],
   "source": [
    "temperatures"
   ]
  },
  {
   "cell_type": "code",
   "execution_count": 25,
   "id": "4e3c96c6",
   "metadata": {},
   "outputs": [],
   "source": [
    "# list_name.remove() - removes a specific item, based on its value\n",
    "temperatures.remove(17.5)"
   ]
  },
  {
   "cell_type": "code",
   "execution_count": 26,
   "id": "e8fdf1b8",
   "metadata": {},
   "outputs": [
    {
     "data": {
      "text/plain": [
       "[17.3, 16.5, 18.2, 3.6, 4.5]"
      ]
     },
     "execution_count": 26,
     "metadata": {},
     "output_type": "execute_result"
    }
   ],
   "source": [
    "temperatures"
   ]
  },
  {
   "cell_type": "code",
   "execution_count": 32,
   "id": "cac56ef2",
   "metadata": {},
   "outputs": [
    {
     "data": {
      "text/plain": [
       "[1, 2, 3, 4, 4, 5]"
      ]
     },
     "execution_count": 32,
     "metadata": {},
     "output_type": "execute_result"
    }
   ],
   "source": [
    "new_list = [1,2,3,4,4,5]\n",
    "new_list"
   ]
  },
  {
   "cell_type": "code",
   "execution_count": 33,
   "id": "da9cc35d",
   "metadata": {},
   "outputs": [
    {
     "data": {
      "text/plain": [
       "[1, 2, 3, 4, 5]"
      ]
     },
     "execution_count": 33,
     "metadata": {},
     "output_type": "execute_result"
    }
   ],
   "source": [
    "new_list.remove(4)\n",
    "new_list"
   ]
  },
  {
   "cell_type": "code",
   "execution_count": 34,
   "id": "df287594",
   "metadata": {},
   "outputs": [
    {
     "data": {
      "text/plain": [
       "[1, 2, 3, 5]"
      ]
     },
     "execution_count": 34,
     "metadata": {},
     "output_type": "execute_result"
    }
   ],
   "source": [
    "new_list.remove(4)\n",
    "new_list"
   ]
  },
  {
   "cell_type": "code",
   "execution_count": 35,
   "id": "a7a40327",
   "metadata": {},
   "outputs": [
    {
     "ename": "ValueError",
     "evalue": "list.remove(x): x not in list",
     "output_type": "error",
     "traceback": [
      "\u001b[0;31m---------------------------------------------------------------------------\u001b[0m",
      "\u001b[0;31mValueError\u001b[0m                                Traceback (most recent call last)",
      "\u001b[0;32m<ipython-input-35-1b78040ffbf5>\u001b[0m in \u001b[0;36m<module>\u001b[0;34m\u001b[0m\n\u001b[0;32m----> 1\u001b[0;31m \u001b[0mnew_list\u001b[0m\u001b[0;34m.\u001b[0m\u001b[0mremove\u001b[0m\u001b[0;34m(\u001b[0m\u001b[0;36m4\u001b[0m\u001b[0;34m)\u001b[0m\u001b[0;34m\u001b[0m\u001b[0;34m\u001b[0m\u001b[0m\n\u001b[0m",
      "\u001b[0;31mValueError\u001b[0m: list.remove(x): x not in list"
     ]
    }
   ],
   "source": [
    "new_list.remove(4)"
   ]
  },
  {
   "cell_type": "markdown",
   "id": "9c1eeb70",
   "metadata": {},
   "source": [
    "&nbsp;  \n",
    "\n",
    "&nbsp;  \n",
    "&nbsp;  \n",
    "\n",
    "&nbsp;  \n",
    "&nbsp;  \n",
    "\n",
    "&nbsp;  \n",
    "\n",
    "&nbsp;  \n",
    "&nbsp;  \n",
    "&nbsp;  \n",
    "\n",
    "&nbsp;  \n",
    "&nbsp;  \n",
    "\n",
    "&nbsp;  \n",
    "&nbsp;  \n",
    "\n",
    "&nbsp;  \n",
    "\n",
    "&nbsp;  \n",
    "&nbsp;  \n",
    "&nbsp;  \n",
    "\n",
    "&nbsp;  \n",
    "&nbsp;  \n",
    "\n",
    "&nbsp;  \n",
    "&nbsp;  \n",
    "\n",
    "&nbsp;  \n",
    "\n",
    "&nbsp;  \n",
    "&nbsp;  \n",
    "\n",
    "## The empty list contains no values"
   ]
  },
  {
   "cell_type": "code",
   "execution_count": 50,
   "id": "2ca16748",
   "metadata": {},
   "outputs": [
    {
     "data": {
      "text/plain": [
       "[1]"
      ]
     },
     "execution_count": 50,
     "metadata": {},
     "output_type": "execute_result"
    }
   ],
   "source": [
    "new_list = [1, 2, 3, 4]\n",
    "new_list[0:1]"
   ]
  },
  {
   "cell_type": "code",
   "execution_count": 52,
   "id": "51f4137d",
   "metadata": {},
   "outputs": [
    {
     "data": {
      "text/plain": [
       "[1, 2]"
      ]
     },
     "execution_count": 52,
     "metadata": {},
     "output_type": "execute_result"
    }
   ],
   "source": [
    "new_list[0:2]"
   ]
  },
  {
   "cell_type": "code",
   "execution_count": 51,
   "id": "30dd29f0",
   "metadata": {},
   "outputs": [
    {
     "data": {
      "text/plain": [
       "'Emm'"
      ]
     },
     "execution_count": 51,
     "metadata": {},
     "output_type": "execute_result"
    }
   ],
   "source": [
    "new_string = 'Emma'\n",
    "new_string[0:3]"
   ]
  },
  {
   "cell_type": "code",
   "execution_count": 27,
   "id": "80ac9246",
   "metadata": {},
   "outputs": [
    {
     "data": {
      "text/plain": [
       "['Mark']"
      ]
     },
     "execution_count": 27,
     "metadata": {},
     "output_type": "execute_result"
    }
   ],
   "source": [
    "student_names = ['Mark']\n",
    "student_names"
   ]
  },
  {
   "cell_type": "code",
   "execution_count": 28,
   "id": "9829432e",
   "metadata": {},
   "outputs": [
    {
     "data": {
      "text/plain": [
       "[]"
      ]
     },
     "execution_count": 28,
     "metadata": {},
     "output_type": "execute_result"
    }
   ],
   "source": [
    "empty_list = []\n",
    "empty_list"
   ]
  },
  {
   "cell_type": "code",
   "execution_count": 29,
   "id": "4a484638",
   "metadata": {},
   "outputs": [],
   "source": [
    "empty_list.append('Mark')"
   ]
  },
  {
   "cell_type": "code",
   "execution_count": 30,
   "id": "cd9770e3",
   "metadata": {},
   "outputs": [
    {
     "data": {
      "text/plain": [
       "['Mark']"
      ]
     },
     "execution_count": 30,
     "metadata": {},
     "output_type": "execute_result"
    }
   ],
   "source": [
    "empty_list"
   ]
  },
  {
   "cell_type": "code",
   "execution_count": 31,
   "id": "4e4ffc39",
   "metadata": {},
   "outputs": [
    {
     "data": {
      "text/plain": [
       "1"
      ]
     },
     "execution_count": 31,
     "metadata": {},
     "output_type": "execute_result"
    }
   ],
   "source": [
    "len(empty_list)"
   ]
  },
  {
   "cell_type": "markdown",
   "id": "6b2e081e",
   "metadata": {},
   "source": [
    "&nbsp;  \n",
    "\n",
    "&nbsp;  \n",
    "&nbsp;  \n",
    "\n",
    "&nbsp;  \n",
    "&nbsp;  \n",
    "\n",
    "&nbsp;  \n",
    "\n",
    "&nbsp;  \n",
    "&nbsp;  \n",
    "&nbsp;  \n",
    "\n",
    "&nbsp;  \n",
    "&nbsp;  \n",
    "\n",
    "&nbsp;  \n",
    "&nbsp;  \n",
    "\n",
    "&nbsp;  \n",
    "\n",
    "&nbsp;  \n",
    "&nbsp;  \n",
    "\n",
    "&nbsp;  \n",
    "\n",
    "&nbsp;  \n",
    "&nbsp;  \n",
    "\n",
    "&nbsp;  \n",
    "&nbsp;  \n",
    "\n",
    "&nbsp;  \n",
    "\n",
    "&nbsp;  \n",
    "&nbsp;  \n",
    "\n",
    "\n",
    "## Lists may contain values of different types\n"
   ]
  },
  {
   "cell_type": "code",
   "execution_count": 37,
   "id": "b01350b4",
   "metadata": {},
   "outputs": [],
   "source": [
    "goals = [1, 'create lists', 2, 'extract items', 3.1]"
   ]
  },
  {
   "cell_type": "markdown",
   "id": "6b30e463",
   "metadata": {},
   "source": [
    "&nbsp;  \n",
    "\n",
    "&nbsp;  \n",
    "&nbsp;  \n",
    "\n",
    "&nbsp;  \n",
    "&nbsp;  \n",
    "\n",
    "&nbsp;  \n",
    "\n",
    "&nbsp;  \n",
    "&nbsp;  \n",
    "\n",
    "&nbsp;  \n",
    "&nbsp;  \n",
    "\n",
    "&nbsp;  \n",
    "&nbsp;  \n",
    "\n",
    "&nbsp;  \n",
    "\n",
    "&nbsp;  \n",
    "&nbsp;  \n",
    "&nbsp;  \n",
    "\n",
    "&nbsp;  \n",
    "&nbsp;  \n",
    "\n",
    "&nbsp;  \n",
    "&nbsp;  \n",
    "\n",
    "&nbsp;  \n",
    "\n",
    "&nbsp;  \n",
    "&nbsp;  \n",
    "\n",
    "&nbsp;  \n",
    "\n",
    "## (Reminder) Character strings can be indexed like lists"
   ]
  },
  {
   "cell_type": "code",
   "execution_count": 38,
   "id": "0f20866c",
   "metadata": {},
   "outputs": [
    {
     "data": {
      "text/plain": [
       "[17.3, 16.5, 18.2, 3.6, 4.5]"
      ]
     },
     "execution_count": 38,
     "metadata": {},
     "output_type": "execute_result"
    }
   ],
   "source": [
    "temperatures"
   ]
  },
  {
   "cell_type": "code",
   "execution_count": 39,
   "id": "b9c35e26",
   "metadata": {},
   "outputs": [
    {
     "data": {
      "text/plain": [
       "17.3"
      ]
     },
     "execution_count": 39,
     "metadata": {},
     "output_type": "execute_result"
    }
   ],
   "source": [
    "temperatures[0]  # first item"
   ]
  },
  {
   "cell_type": "code",
   "execution_count": 40,
   "id": "c2759b57",
   "metadata": {},
   "outputs": [
    {
     "data": {
      "text/plain": [
       "'E'"
      ]
     },
     "execution_count": 40,
     "metadata": {},
     "output_type": "execute_result"
    }
   ],
   "source": [
    "student_name = 'Emma'\n",
    "student_name[0]"
   ]
  },
  {
   "cell_type": "code",
   "execution_count": 41,
   "id": "e8c4accb",
   "metadata": {},
   "outputs": [
    {
     "data": {
      "text/plain": [
       "[20, 16.5, 18.2, 3.6, 4.5]"
      ]
     },
     "execution_count": 41,
     "metadata": {},
     "output_type": "execute_result"
    }
   ],
   "source": [
    "# use indexing to overwrite or change items in a list\n",
    "temperatures[0] = 20\n",
    "temperatures"
   ]
  },
  {
   "cell_type": "code",
   "execution_count": 42,
   "id": "30f68f75",
   "metadata": {},
   "outputs": [
    {
     "name": "stdout",
     "output_type": "stream",
     "text": [
      "original name: Emma\n"
     ]
    },
    {
     "ename": "TypeError",
     "evalue": "'str' object does not support item assignment",
     "output_type": "error",
     "traceback": [
      "\u001b[0;31m---------------------------------------------------------------------------\u001b[0m",
      "\u001b[0;31mTypeError\u001b[0m                                 Traceback (most recent call last)",
      "\u001b[0;32m<ipython-input-42-f6d1de0ad450>\u001b[0m in \u001b[0;36m<module>\u001b[0;34m\u001b[0m\n\u001b[1;32m      2\u001b[0m \u001b[0;31m# strings are immutable\u001b[0m\u001b[0;34m\u001b[0m\u001b[0;34m\u001b[0m\u001b[0;34m\u001b[0m\u001b[0m\n\u001b[1;32m      3\u001b[0m \u001b[0mprint\u001b[0m\u001b[0;34m(\u001b[0m\u001b[0;34m'original name:'\u001b[0m\u001b[0;34m,\u001b[0m \u001b[0mstudent_name\u001b[0m\u001b[0;34m)\u001b[0m\u001b[0;34m\u001b[0m\u001b[0;34m\u001b[0m\u001b[0m\n\u001b[0;32m----> 4\u001b[0;31m \u001b[0mstudent_name\u001b[0m\u001b[0;34m[\u001b[0m\u001b[0;36m0\u001b[0m\u001b[0;34m]\u001b[0m \u001b[0;34m=\u001b[0m \u001b[0;34m'A'\u001b[0m\u001b[0;34m\u001b[0m\u001b[0;34m\u001b[0m\u001b[0m\n\u001b[0m\u001b[1;32m      5\u001b[0m \u001b[0mprint\u001b[0m\u001b[0;34m(\u001b[0m\u001b[0;34m'new name:'\u001b[0m\u001b[0;34m,\u001b[0m \u001b[0mstudent_name\u001b[0m\u001b[0;34m)\u001b[0m\u001b[0;34m\u001b[0m\u001b[0;34m\u001b[0m\u001b[0m\n",
      "\u001b[0;31mTypeError\u001b[0m: 'str' object does not support item assignment"
     ]
    }
   ],
   "source": [
    "# THIS DOES NOT WORK FOR STRINGS\n",
    "# strings are immutable\n",
    "print('original name:', student_name)\n",
    "student_name[0] = 'A'\n",
    "print('new name:', student_name)"
   ]
  },
  {
   "cell_type": "markdown",
   "id": "26d2f7d1",
   "metadata": {},
   "source": [
    "&nbsp;  \n",
    "\n",
    "&nbsp;  \n",
    "&nbsp;  \n",
    "\n",
    "&nbsp;  \n",
    "&nbsp;  \n",
    "&nbsp;  \n",
    "\n",
    "&nbsp;  \n",
    "&nbsp;  \n",
    "\n",
    "&nbsp;  \n",
    "&nbsp;  &nbsp;  \n",
    "\n",
    "&nbsp;  \n",
    "&nbsp;  \n",
    "\n",
    "&nbsp;  \n",
    "&nbsp;  &nbsp;  \n",
    "\n",
    "&nbsp;  \n",
    "&nbsp;  \n",
    "\n",
    "&nbsp;  \n",
    "&nbsp;  \n",
    "&nbsp;  \n",
    "\n",
    "&nbsp;  \n",
    "&nbsp;  \n",
    "\n",
    "## Character strings are immutable\n",
    "\n",
    "*Immutable*: can't be changed after creation\n",
    "*Mutable*: can be changed affter creation"
   ]
  },
  {
   "cell_type": "code",
   "execution_count": null,
   "id": "c01a959e",
   "metadata": {},
   "outputs": [],
   "source": []
  },
  {
   "cell_type": "code",
   "execution_count": null,
   "id": "5c2b523d",
   "metadata": {},
   "outputs": [],
   "source": []
  },
  {
   "cell_type": "markdown",
   "id": "92cd2c70",
   "metadata": {},
   "source": [
    "&nbsp;  \n",
    "\n",
    "&nbsp;  \n",
    "&nbsp;  \n",
    "\n",
    "&nbsp;  \n",
    "&nbsp;  \n",
    "\n",
    "&nbsp;  \n",
    "\n",
    "&nbsp;  \n",
    "&nbsp;  \n",
    "\n",
    "&nbsp;  \n",
    "&nbsp;  \n",
    "\n",
    "&nbsp;  \n",
    "&nbsp;  \n",
    "\n",
    "&nbsp;  \n",
    "\n",
    "&nbsp;  \n",
    "&nbsp;  \n",
    "\n",
    "&nbsp;  \n",
    "\n",
    "&nbsp;  \n",
    "&nbsp;  \n",
    "\n",
    "&nbsp;  \n",
    "&nbsp;  \n",
    "\n",
    "&nbsp;  \n",
    "\n",
    "&nbsp;  \n",
    "&nbsp;  \n",
    "\n",
    "&nbsp;  \n",
    "\n",
    "&nbsp;  \n",
    "&nbsp;  \n",
    "\n",
    "&nbsp;  \n",
    "&nbsp;  \n",
    "\n",
    "&nbsp;  \n",
    "\n",
    "&nbsp;  \n",
    "&nbsp;  \n",
    "\n",
    "&nbsp;  \n",
    "\n",
    "## Indexing beyond the end of the collection is an error"
   ]
  },
  {
   "cell_type": "code",
   "execution_count": 43,
   "id": "ac2ccda4",
   "metadata": {},
   "outputs": [
    {
     "data": {
      "text/plain": [
       "[1, 2, 3, 5]"
      ]
     },
     "execution_count": 43,
     "metadata": {},
     "output_type": "execute_result"
    }
   ],
   "source": [
    "new_list"
   ]
  },
  {
   "cell_type": "code",
   "execution_count": 44,
   "id": "39b4fcf9",
   "metadata": {},
   "outputs": [
    {
     "ename": "ValueError",
     "evalue": "list.remove(x): x not in list",
     "output_type": "error",
     "traceback": [
      "\u001b[0;31m---------------------------------------------------------------------------\u001b[0m",
      "\u001b[0;31mValueError\u001b[0m                                Traceback (most recent call last)",
      "\u001b[0;32m<ipython-input-44-1b78040ffbf5>\u001b[0m in \u001b[0;36m<module>\u001b[0;34m\u001b[0m\n\u001b[0;32m----> 1\u001b[0;31m \u001b[0mnew_list\u001b[0m\u001b[0;34m.\u001b[0m\u001b[0mremove\u001b[0m\u001b[0;34m(\u001b[0m\u001b[0;36m4\u001b[0m\u001b[0;34m)\u001b[0m\u001b[0;34m\u001b[0m\u001b[0;34m\u001b[0m\u001b[0m\n\u001b[0m",
      "\u001b[0;31mValueError\u001b[0m: list.remove(x): x not in list"
     ]
    }
   ],
   "source": [
    "new_list.remove(4)"
   ]
  },
  {
   "cell_type": "code",
   "execution_count": 45,
   "id": "688fcba8",
   "metadata": {},
   "outputs": [
    {
     "ename": "TypeError",
     "evalue": "'str' object does not support item assignment",
     "output_type": "error",
     "traceback": [
      "\u001b[0;31m---------------------------------------------------------------------------\u001b[0m",
      "\u001b[0;31mTypeError\u001b[0m                                 Traceback (most recent call last)",
      "\u001b[0;32m<ipython-input-45-c3de9e197f9a>\u001b[0m in \u001b[0;36m<module>\u001b[0;34m\u001b[0m\n\u001b[0;32m----> 1\u001b[0;31m \u001b[0mstudent_name\u001b[0m\u001b[0;34m[\u001b[0m\u001b[0;36m0\u001b[0m\u001b[0;34m]\u001b[0m \u001b[0;34m=\u001b[0m \u001b[0;34m'A'\u001b[0m\u001b[0;34m\u001b[0m\u001b[0;34m\u001b[0m\u001b[0m\n\u001b[0m",
      "\u001b[0;31mTypeError\u001b[0m: 'str' object does not support item assignment"
     ]
    }
   ],
   "source": [
    "student_name[0] = 'A'"
   ]
  },
  {
   "cell_type": "code",
   "execution_count": null,
   "id": "39638a7e",
   "metadata": {},
   "outputs": [],
   "source": [
    "# index error - index does not exist"
   ]
  },
  {
   "cell_type": "code",
   "execution_count": 46,
   "id": "638c709f",
   "metadata": {},
   "outputs": [
    {
     "data": {
      "text/plain": [
       "4"
      ]
     },
     "execution_count": 46,
     "metadata": {},
     "output_type": "execute_result"
    }
   ],
   "source": [
    "len(new_list)"
   ]
  },
  {
   "cell_type": "code",
   "execution_count": 47,
   "id": "848c04c0",
   "metadata": {},
   "outputs": [
    {
     "ename": "IndexError",
     "evalue": "list index out of range",
     "output_type": "error",
     "traceback": [
      "\u001b[0;31m---------------------------------------------------------------------------\u001b[0m",
      "\u001b[0;31mIndexError\u001b[0m                                Traceback (most recent call last)",
      "\u001b[0;32m<ipython-input-47-9cfa1d815677>\u001b[0m in \u001b[0;36m<module>\u001b[0;34m\u001b[0m\n\u001b[0;32m----> 1\u001b[0;31m \u001b[0mnew_list\u001b[0m\u001b[0;34m[\u001b[0m\u001b[0;36m6\u001b[0m\u001b[0;34m]\u001b[0m\u001b[0;34m\u001b[0m\u001b[0;34m\u001b[0m\u001b[0m\n\u001b[0m",
      "\u001b[0;31mIndexError\u001b[0m: list index out of range"
     ]
    }
   ],
   "source": [
    "new_list[6]"
   ]
  },
  {
   "cell_type": "markdown",
   "id": "190593c9",
   "metadata": {},
   "source": [
    "&nbsp;  \n",
    "\n",
    "&nbsp;  \n",
    "&nbsp;  \n",
    "\n",
    "&nbsp;  \n",
    "&nbsp;  \n",
    "\n",
    "&nbsp;  \n",
    "\n",
    "&nbsp;  \n",
    "\n",
    "&nbsp;  \n",
    "&nbsp;  \n",
    "\n",
    "&nbsp;  \n",
    "&nbsp;  \n",
    "\n",
    "&nbsp;  \n",
    "\n",
    "&nbsp;  \n",
    "&nbsp;  \n",
    "&nbsp;  \n",
    "\n",
    "&nbsp;  \n",
    "&nbsp;  \n",
    "\n",
    "&nbsp;  \n",
    "&nbsp;  \n",
    "\n",
    "&nbsp;  \n",
    "\n",
    "&nbsp;  \n",
    "&nbsp;  \n",
    "&nbsp;  \n",
    "\n",
    "&nbsp;  \n",
    "&nbsp;  \n",
    "\n",
    "&nbsp;  \n",
    "&nbsp;  \n",
    "\n",
    "&nbsp;  \n",
    "\n",
    "&nbsp;  \n",
    "&nbsp;  \n",
    "&nbsp;  \n",
    "&nbsp;  \n",
    "\n",
    "## (Ex) Fill in the Blanks\n",
    "\n",
    "Fill in the blanks so that the program below produces the output shown"
   ]
  },
  {
   "cell_type": "code",
   "execution_count": null,
   "id": "47217450",
   "metadata": {},
   "outputs": [],
   "source": [
    "values = ____\n",
    "values.____(1)\n",
    "values.____(3)\n",
    "values.____(5)\n",
    "print('first time:', values)\n",
    "values = values[____]\n",
    "print('second time:', values)"
   ]
  },
  {
   "cell_type": "markdown",
   "id": "d249c98f",
   "metadata": {},
   "source": [
    "Output:\n",
    "```\n",
    "first time: [1, 3, 5]\n",
    "second time: [3, 5]\n",
    "```"
   ]
  },
  {
   "cell_type": "markdown",
   "id": "928e19bc",
   "metadata": {},
   "source": [
    "&nbsp;  \n",
    "\n",
    "&nbsp;  \n",
    "&nbsp;  \n",
    "\n",
    "&nbsp;  \n",
    "&nbsp;  \n",
    "\n",
    "&nbsp;  \n",
    "\n",
    "&nbsp;  \n",
    "&nbsp;  \n",
    "\n",
    "## (Ex) How large is a slice?\n",
    "\n",
    "If `start` and `stop` are both non-negative integers, how long is the list `values[start:stop]`?"
   ]
  },
  {
   "cell_type": "code",
   "execution_count": null,
   "id": "1d154999",
   "metadata": {},
   "outputs": [],
   "source": []
  },
  {
   "cell_type": "markdown",
   "id": "cdd61e4b",
   "metadata": {},
   "source": [
    "&nbsp;  \n",
    "\n",
    "&nbsp;  \n",
    "&nbsp;  \n",
    "\n",
    "&nbsp;  \n",
    "&nbsp;  \n",
    "\n",
    "&nbsp;  \n",
    "\n",
    "&nbsp;  \n",
    "&nbsp;  \n",
    "\n",
    "## (Ex) From strings to lists and back\n",
    "\n",
    "Given this:\n",
    "```\n",
    "print('string to list:', list('tin'))\n",
    "print('list to string:', ''.join(['g, 'o', 'l', 'd']))\n",
    "```\n",
    "Outputs this:\n",
    "```\n",
    "string to list ['t', 'i', 'n']\n",
    "list to string: gold\n",
    "```\n",
    "1. What does `list('some string')` do?\n",
    "2. What does `'-'.join(['x', 'y', 'z'])` generate?"
   ]
  },
  {
   "cell_type": "code",
   "execution_count": null,
   "id": "21a256b4",
   "metadata": {},
   "outputs": [],
   "source": []
  },
  {
   "cell_type": "markdown",
   "id": "de6d9050",
   "metadata": {},
   "source": [
    "&nbsp;  \n",
    "\n",
    "&nbsp;  \n",
    "&nbsp;  \n",
    "\n",
    "&nbsp;  \n",
    "&nbsp;  \n",
    "\n",
    "&nbsp;  \n",
    "\n",
    "&nbsp;  \n",
    "&nbsp;  \n",
    "\n",
    "## (Ex) Working with the end\n",
    "\n",
    "What does the following program print?\n",
    "```\n",
    "element = 'helium'\n",
    "print(element[-1])\n",
    "```\n",
    "\n",
    "1. How does Python interpret a negative index?\n",
    "2. If a list or string has N element, what is the most negative index that can safely be used with it, and what location does that index represent?\n",
    "3. If `values` is a list, what does `del values[-1]` do?\n",
    "4. How can you display all elements but the last one without changing `values`? (Hint: *you will need to combine slicing and negative indexing*)"
   ]
  },
  {
   "cell_type": "code",
   "execution_count": null,
   "id": "07c37a41",
   "metadata": {},
   "outputs": [],
   "source": []
  },
  {
   "cell_type": "code",
   "execution_count": null,
   "id": "98d39ddf",
   "metadata": {},
   "outputs": [],
   "source": []
  },
  {
   "cell_type": "code",
   "execution_count": null,
   "id": "f741d076",
   "metadata": {},
   "outputs": [],
   "source": []
  },
  {
   "cell_type": "code",
   "execution_count": null,
   "id": "d4c671b9",
   "metadata": {},
   "outputs": [],
   "source": []
  },
  {
   "cell_type": "code",
   "execution_count": null,
   "id": "2b931796",
   "metadata": {},
   "outputs": [],
   "source": []
  },
  {
   "cell_type": "markdown",
   "id": "ad97b865",
   "metadata": {},
   "source": [
    "&nbsp;  \n",
    "\n",
    "&nbsp;  \n",
    "&nbsp;  \n",
    "\n",
    "&nbsp;  \n",
    "&nbsp;  \n",
    "\n",
    "&nbsp;  \n",
    "\n",
    "&nbsp;  \n",
    "&nbsp;  \n",
    "\n",
    "## Stepping through a list\n",
    "\n",
    "What does the following program print?\n",
    "\n",
    "```\n",
    "element = 'fluorine'\n",
    "print(element[::2])\n",
    "print(element[::-1])\n",
    "```\n",
    "\n",
    "1. If we write a slice as `low:high:stride`, what does `stride` do?\n",
    "2. What expression would select all of the even-numbered items from a collection?"
   ]
  },
  {
   "cell_type": "code",
   "execution_count": null,
   "id": "de666566",
   "metadata": {},
   "outputs": [],
   "source": []
  },
  {
   "cell_type": "markdown",
   "id": "add10c29",
   "metadata": {},
   "source": [
    "&nbsp;  \n",
    "\n",
    "&nbsp;  \n",
    "&nbsp;  \n",
    "\n",
    "&nbsp;  \n",
    "&nbsp;  \n",
    "\n",
    "&nbsp;  \n",
    "\n",
    "&nbsp;  \n",
    "&nbsp;  \n",
    "\n",
    "## (Ex) Slice bounds\n",
    "\n",
    "What does the following program print?\n",
    "```\n",
    "element = 'lithium'\n",
    "print(element[0:20])\n",
    "print(element[-1:3])\n",
    "```"
   ]
  },
  {
   "cell_type": "code",
   "execution_count": null,
   "id": "86844d55",
   "metadata": {},
   "outputs": [],
   "source": []
  },
  {
   "cell_type": "markdown",
   "id": "9586ea1b",
   "metadata": {},
   "source": [
    "&nbsp;  \n",
    "\n",
    "&nbsp;  \n",
    "&nbsp;  \n",
    "\n",
    "&nbsp;  \n",
    "&nbsp;  \n",
    "\n",
    "&nbsp;  \n",
    "\n",
    "&nbsp;  \n",
    "&nbsp;  \n",
    "\n",
    "## Sort and sorted\n",
    "\n",
    "What do these two programs print?\n",
    "\n",
    "In simple terms, explain the difference between `sorted(letters)` and `letters.sort()`.\n",
    "\n",
    "```\n",
    "# Program A\n",
    "letters = list('gold')\n",
    "result = sorted(letters)\n",
    "print('letters is', letters, 'and result is', result)\n",
    "```\n",
    "\n",
    "```\n",
    "# Program B\n",
    "letters = list('gold')\n",
    "result = letters.sort()\n",
    "print('letters is', letters, 'and result is', result)\n",
    "```"
   ]
  },
  {
   "cell_type": "code",
   "execution_count": null,
   "id": "1ab72c96",
   "metadata": {},
   "outputs": [],
   "source": []
  },
  {
   "cell_type": "code",
   "execution_count": null,
   "id": "658a671d",
   "metadata": {},
   "outputs": [],
   "source": []
  },
  {
   "cell_type": "markdown",
   "id": "1a4eaa6c",
   "metadata": {},
   "source": [
    "&nbsp;  \n",
    "\n",
    "&nbsp;  \n",
    "&nbsp;  \n",
    "\n",
    "&nbsp;  \n",
    "&nbsp;  \n",
    "\n",
    "&nbsp;  \n",
    "\n",
    "&nbsp;  \n",
    "&nbsp;  \n",
    "\n",
    "## (Ex) Copying (or not)\n",
    "\n",
    "What do these two programs print?\n",
    "\n",
    "In simple terms, explain the difference between `new = old` and `new = old[:]`\n",
    "\n",
    "```\n",
    "# Program A\n",
    "old = list('gold')\n",
    "new = old      # simple assignment\n",
    "new[0] = 'D'\n",
    "print('new is', new, 'and old is', old)\n",
    "```\n",
    "\n",
    "```\n",
    "# Program B\n",
    "old = list('gold')\n",
    "new = old[:]   # assigning a slice\n",
    "new[0] = 'D'\n",
    "print('new is', new, 'and old is', old)\n",
    "```"
   ]
  },
  {
   "cell_type": "code",
   "execution_count": 56,
   "id": "521125a4",
   "metadata": {},
   "outputs": [
    {
     "data": {
      "text/plain": [
       "[0, 2, 1]"
      ]
     },
     "execution_count": 56,
     "metadata": {},
     "output_type": "execute_result"
    }
   ],
   "source": [
    "old =[ 0,2,1]\n",
    "old"
   ]
  },
  {
   "cell_type": "code",
   "execution_count": 57,
   "id": "9e3401ae",
   "metadata": {},
   "outputs": [
    {
     "data": {
      "text/plain": [
       "[0, 2, 1]"
      ]
     },
     "execution_count": 57,
     "metadata": {},
     "output_type": "execute_result"
    }
   ],
   "source": [
    "new = old\n",
    "new"
   ]
  },
  {
   "cell_type": "code",
   "execution_count": 58,
   "id": "443dac4b",
   "metadata": {},
   "outputs": [
    {
     "data": {
      "text/plain": [
       "[0, 1, 2]"
      ]
     },
     "execution_count": 58,
     "metadata": {},
     "output_type": "execute_result"
    }
   ],
   "source": [
    "old.sort()\n",
    "old"
   ]
  },
  {
   "cell_type": "code",
   "execution_count": 59,
   "id": "a0f69e57",
   "metadata": {},
   "outputs": [
    {
     "data": {
      "text/plain": [
       "[0, 1, 2]"
      ]
     },
     "execution_count": 59,
     "metadata": {},
     "output_type": "execute_result"
    }
   ],
   "source": [
    "new"
   ]
  },
  {
   "cell_type": "code",
   "execution_count": 65,
   "id": "c2ef82a6",
   "metadata": {},
   "outputs": [],
   "source": [
    "new.sort(reverse=True)"
   ]
  },
  {
   "cell_type": "code",
   "execution_count": 66,
   "id": "7b737a05",
   "metadata": {},
   "outputs": [
    {
     "data": {
      "text/plain": [
       "[2, 1, 0]"
      ]
     },
     "execution_count": 66,
     "metadata": {},
     "output_type": "execute_result"
    }
   ],
   "source": [
    "old"
   ]
  },
  {
   "cell_type": "code",
   "execution_count": 67,
   "id": "fd9eae17",
   "metadata": {},
   "outputs": [
    {
     "data": {
      "text/plain": [
       "[2, 1, 0]"
      ]
     },
     "execution_count": 67,
     "metadata": {},
     "output_type": "execute_result"
    }
   ],
   "source": [
    "new"
   ]
  },
  {
   "cell_type": "code",
   "execution_count": 68,
   "id": "336c4c0a",
   "metadata": {},
   "outputs": [],
   "source": [
    "from copy import copy"
   ]
  },
  {
   "cell_type": "code",
   "execution_count": 69,
   "id": "2a8abe55",
   "metadata": {},
   "outputs": [],
   "source": [
    "new = copy(old)"
   ]
  },
  {
   "cell_type": "code",
   "execution_count": 70,
   "id": "a624e343",
   "metadata": {},
   "outputs": [
    {
     "name": "stdout",
     "output_type": "stream",
     "text": [
      "[2, 1, 0] [2, 1, 0]\n"
     ]
    }
   ],
   "source": [
    "print(old, new)"
   ]
  },
  {
   "cell_type": "code",
   "execution_count": 71,
   "id": "9ce58b2f",
   "metadata": {},
   "outputs": [],
   "source": [
    "new.sort()"
   ]
  },
  {
   "cell_type": "code",
   "execution_count": 72,
   "id": "3d5cf836",
   "metadata": {},
   "outputs": [
    {
     "name": "stdout",
     "output_type": "stream",
     "text": [
      "[2, 1, 0] [0, 1, 2]\n"
     ]
    }
   ],
   "source": [
    "print(old, new)"
   ]
  },
  {
   "cell_type": "code",
   "execution_count": 74,
   "id": "c00ccf55",
   "metadata": {},
   "outputs": [],
   "source": [
    "new.sort?\n"
   ]
  },
  {
   "cell_type": "markdown",
   "id": "2c18761c",
   "metadata": {},
   "source": [
    "&nbsp;  \n",
    "\n",
    "&nbsp;  \n",
    "&nbsp;  \n",
    "\n",
    "&nbsp;  \n",
    "&nbsp;  \n",
    "\n",
    "&nbsp;  \n",
    "\n",
    "&nbsp;  \n",
    "&nbsp;  \n",
    "\n",
    "## Key points\n",
    "\n",
    "- A list stores many values in a single structure.\n",
    "\n",
    "- Use an item’s index to fetch it from a list.\n",
    "\n",
    "- Lists’ values can be replaced by assigning to them.\n",
    "\n",
    "- Appending items to a list lengthens it.\n",
    "\n",
    "- Use `del` to remove items from a list entirely.\n",
    "\n",
    "- The empty list contains no values.\n",
    "\n",
    "- Lists may contain values of different types.\n",
    "\n",
    "- Character strings can be indexed like lists.\n",
    "\n",
    "- Character strings are immutable.\n",
    "\n",
    "- Indexing beyond the end of the collection is an error.\n",
    "\n",
    "## LOs\n",
    "\n",
    "- How can I store multiple values?\n",
    "- Explain why programs need collections of values\n",
    "- Write programs that create flat lists, index them, slice them and modify them through assignment and method calls"
   ]
  }
 ],
 "metadata": {
  "interpreter": {
   "hash": "916dbcbb3f70747c44a77c7bcd40155683ae19c65e1c03b4aa3499c5328201f1"
  },
  "kernelspec": {
   "display_name": "Python 3",
   "language": "python",
   "name": "python3"
  },
  "language_info": {
   "codemirror_mode": {
    "name": "ipython",
    "version": 3
   },
   "file_extension": ".py",
   "mimetype": "text/x-python",
   "name": "python",
   "nbconvert_exporter": "python",
   "pygments_lexer": "ipython3",
   "version": "3.8.10"
  }
 },
 "nbformat": 4,
 "nbformat_minor": 5
}
