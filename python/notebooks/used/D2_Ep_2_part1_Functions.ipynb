{
 "cells": [
  {
   "cell_type": "markdown",
   "id": "cd323f0e",
   "metadata": {},
   "source": [
    "# Episode 16: Writing Functions\n",
    "\n",
    "## [Creating our own functions](http://swcarpentry.github.io/python-novice-gapminder/16-writing-functions/index.html)\n",
    " \n",
    "## LOs:\n",
    "\n",
    "- How can I create my own functions?\n",
    "- Explain and identify the difference between definition and function call\n",
    "- Write a function that takes a small, fixed number of arguments and produces a single result\n",
    "&nbsp;  \n",
    "\n",
    "&nbsp;  \n",
    "\n",
    "&nbsp;  \n",
    "&nbsp;  \n",
    "\n",
    "&nbsp;  \n",
    "&nbsp;  \n",
    "\n",
    "&nbsp;  \n",
    "\n",
    "&nbsp;  \n",
    "&nbsp;  \n",
    "\n",
    "## Break programs down into functions to make them easier to understand\n",
    "\n",
    "\n",
    "&nbsp;  \n",
    "\n",
    "&nbsp;  \n",
    "\n",
    "&nbsp;  \n",
    "&nbsp;  \n",
    "\n",
    "&nbsp;  \n",
    "&nbsp;  \n",
    "\n",
    "&nbsp;  \n",
    "\n",
    "&nbsp;  \n",
    "&nbsp;  &nbsp;  \n",
    "\n",
    "&nbsp;  \n",
    "\n",
    "&nbsp;  \n",
    "&nbsp;  \n",
    "\n",
    "&nbsp;  \n",
    "&nbsp;  \n",
    "\n",
    "&nbsp;  \n",
    "\n",
    "&nbsp;  \n",
    "&nbsp;  &nbsp;  \n",
    "\n",
    "&nbsp;  \n",
    "\n",
    "&nbsp;  \n",
    "&nbsp;  \n",
    "\n",
    "&nbsp;  \n",
    "&nbsp;  \n",
    "\n",
    "&nbsp;  \n",
    "\n",
    "&nbsp;  \n",
    "&nbsp;  \n",
    "\n",
    "## Define a function using `def` with a name, parameters, and a block of code"
   ]
  },
  {
   "cell_type": "code",
   "execution_count": 1,
   "id": "ab5239d3",
   "metadata": {},
   "outputs": [],
   "source": [
    "# print()\n",
    "# min()\n",
    "# max()\n",
    "# len()\n",
    "# range()\n",
    "def print_greetings():\n",
    "    # indented\n",
    "    print('Hello!')"
   ]
  },
  {
   "cell_type": "markdown",
   "id": "19b474e9",
   "metadata": {},
   "source": [
    "&nbsp;  \n",
    "&nbsp;  \n",
    "\n",
    "&nbsp;  \n",
    "&nbsp;  \n",
    "\n",
    "&nbsp;  \n",
    "\n",
    "&nbsp;  \n",
    "&nbsp;  \n",
    "&nbsp;  \n",
    "&nbsp;  \n",
    "\n",
    "&nbsp;  \n",
    "&nbsp;  \n",
    "\n",
    "&nbsp;  \n",
    "\n",
    "&nbsp;  \n",
    "&nbsp;  \n",
    "&nbsp;  \n",
    "\n",
    "&nbsp;  \n",
    "&nbsp;  \n",
    "\n",
    "&nbsp;  \n",
    "\n",
    "&nbsp;  \n",
    "&nbsp;  \n",
    "\n",
    "&nbsp;  \n",
    "&nbsp;  \n",
    "\n",
    "&nbsp;  \n",
    "\n",
    "&nbsp;  \n",
    "\n",
    "## Defining a function does not run it"
   ]
  },
  {
   "cell_type": "code",
   "execution_count": 2,
   "id": "d179011e",
   "metadata": {},
   "outputs": [
    {
     "name": "stdout",
     "output_type": "stream",
     "text": [
      "Hello!\n"
     ]
    }
   ],
   "source": [
    "print_greetings()"
   ]
  },
  {
   "cell_type": "code",
   "execution_count": null,
   "id": "cdabce68",
   "metadata": {},
   "outputs": [],
   "source": []
  },
  {
   "cell_type": "markdown",
   "id": "522d980a",
   "metadata": {},
   "source": [
    "&nbsp;  \n",
    "&nbsp;  \n",
    "\n",
    "&nbsp;  \n",
    "&nbsp;  \n",
    "\n",
    "&nbsp;  \n",
    "\n",
    "&nbsp;  \n",
    "&nbsp;  \n",
    "&nbsp;  \n",
    "\n",
    "&nbsp;  \n",
    "&nbsp;  \n",
    "&nbsp;  \n",
    "&nbsp;  \n",
    "\n",
    "&nbsp;  \n",
    "&nbsp;  \n",
    "\n",
    "&nbsp;  \n",
    "\n",
    "&nbsp;  \n",
    "\n",
    "&nbsp;  \n",
    "\n",
    "&nbsp;  \n",
    "&nbsp;  \n",
    "&nbsp;  \n",
    "\n",
    "&nbsp;  \n",
    "&nbsp;  \n",
    "\n",
    "&nbsp;  \n",
    "\n",
    "&nbsp;  \n",
    "&nbsp;  \n",
    "&nbsp;  \n",
    "\n",
    "&nbsp;  \n",
    "&nbsp;  \n",
    "\n",
    "&nbsp;  \n",
    "\n",
    "&nbsp;  \n",
    "\n",
    "## Arguments in a function call are matched to its defined parameters"
   ]
  },
  {
   "cell_type": "code",
   "execution_count": 3,
   "id": "65c4d687",
   "metadata": {},
   "outputs": [],
   "source": [
    "def print_date(year, month, day):\n",
    "    joined = str(year) + '/' + str(month) + '/' + str(day)\n",
    "    print(joined)"
   ]
  },
  {
   "cell_type": "code",
   "execution_count": 4,
   "id": "19872e9b",
   "metadata": {},
   "outputs": [
    {
     "ename": "TypeError",
     "evalue": "print_date() missing 3 required positional arguments: 'year', 'month', and 'day'",
     "output_type": "error",
     "traceback": [
      "\u001b[0;31m---------------------------------------------------------------------------\u001b[0m",
      "\u001b[0;31mTypeError\u001b[0m                                 Traceback (most recent call last)",
      "\u001b[0;32m<ipython-input-4-c9ebb36b0e07>\u001b[0m in \u001b[0;36m<module>\u001b[0;34m\u001b[0m\n\u001b[0;32m----> 1\u001b[0;31m \u001b[0mprint_date\u001b[0m\u001b[0;34m(\u001b[0m\u001b[0;34m)\u001b[0m\u001b[0;34m\u001b[0m\u001b[0;34m\u001b[0m\u001b[0m\n\u001b[0m",
      "\u001b[0;31mTypeError\u001b[0m: print_date() missing 3 required positional arguments: 'year', 'month', and 'day'"
     ]
    }
   ],
   "source": [
    "print_date()"
   ]
  },
  {
   "cell_type": "code",
   "execution_count": 5,
   "id": "aff0de20",
   "metadata": {},
   "outputs": [
    {
     "name": "stdout",
     "output_type": "stream",
     "text": [
      "1871/3/19\n"
     ]
    }
   ],
   "source": [
    "print_date(1871, 3, 19)"
   ]
  },
  {
   "cell_type": "markdown",
   "id": "cb5f3e8a",
   "metadata": {},
   "source": [
    "&nbsp;  \n",
    "&nbsp;  \n",
    "\n",
    "&nbsp;  \n",
    "&nbsp;  \n",
    "\n",
    "&nbsp;  \n",
    "&nbsp;  \n",
    "&nbsp;  \n",
    "\n",
    "&nbsp;  \n",
    "&nbsp;  \n",
    "\n",
    "&nbsp;  \n",
    "\n",
    "&nbsp;  \n",
    "&nbsp;  \n",
    "&nbsp;  \n",
    "\n",
    "&nbsp;  \n",
    "&nbsp;  \n",
    "\n",
    "&nbsp;  \n",
    "\n",
    "&nbsp;  \n",
    "&nbsp;  \n",
    "&nbsp;  \n",
    "\n",
    "&nbsp;  \n",
    "&nbsp;  \n",
    "\n",
    "&nbsp;  \n",
    "\n",
    "&nbsp;  \n",
    "\n",
    "&nbsp;  \n",
    "\n",
    "## Functions may return a result to their caller using `return`"
   ]
  },
  {
   "cell_type": "code",
   "execution_count": 6,
   "id": "ce265ee2",
   "metadata": {},
   "outputs": [
    {
     "name": "stdout",
     "output_type": "stream",
     "text": [
      "1852/6/9\n"
     ]
    }
   ],
   "source": [
    "returned_output = print_date(1852, 6, 9)"
   ]
  },
  {
   "cell_type": "code",
   "execution_count": 7,
   "id": "920043ad",
   "metadata": {},
   "outputs": [],
   "source": [
    "returned_output"
   ]
  },
  {
   "cell_type": "code",
   "execution_count": null,
   "id": "4032837c",
   "metadata": {},
   "outputs": [],
   "source": [
    "# None - special type"
   ]
  },
  {
   "cell_type": "code",
   "execution_count": 8,
   "id": "1e1593cb",
   "metadata": {},
   "outputs": [],
   "source": [
    "numbers = [1,2,3,4]\n",
    "\n",
    "def average(values):\n",
    "    if len(values) == 0:\n",
    "        return None\n",
    "    return sum(values) / len(values)\n",
    "\n",
    "my_average = average(numbers)"
   ]
  },
  {
   "cell_type": "code",
   "execution_count": 9,
   "id": "37748481",
   "metadata": {},
   "outputs": [
    {
     "data": {
      "text/plain": [
       "2.5"
      ]
     },
     "execution_count": 9,
     "metadata": {},
     "output_type": "execute_result"
    }
   ],
   "source": [
    "my_average"
   ]
  },
  {
   "cell_type": "code",
   "execution_count": 10,
   "id": "ccec6833",
   "metadata": {},
   "outputs": [
    {
     "ename": "NameError",
     "evalue": "name 'cal_average' is not defined",
     "output_type": "error",
     "traceback": [
      "\u001b[0;31m---------------------------------------------------------------------------\u001b[0m",
      "\u001b[0;31mNameError\u001b[0m                                 Traceback (most recent call last)",
      "\u001b[0;32m<ipython-input-10-82522650b85d>\u001b[0m in \u001b[0;36m<module>\u001b[0;34m\u001b[0m\n\u001b[1;32m      1\u001b[0m \u001b[0mnumbers\u001b[0m \u001b[0;34m=\u001b[0m \u001b[0;34m[\u001b[0m\u001b[0;36m0\u001b[0m\u001b[0;34m,\u001b[0m\u001b[0;36m1\u001b[0m\u001b[0;34m,\u001b[0m\u001b[0;36m2\u001b[0m\u001b[0;34m]\u001b[0m\u001b[0;34m\u001b[0m\u001b[0;34m\u001b[0m\u001b[0m\n\u001b[1;32m      2\u001b[0m \u001b[0;34m\u001b[0m\u001b[0m\n\u001b[0;32m----> 3\u001b[0;31m \u001b[0mcal_average\u001b[0m\u001b[0;34m(\u001b[0m\u001b[0mnumbers\u001b[0m\u001b[0;34m)\u001b[0m\u001b[0;34m\u001b[0m\u001b[0;34m\u001b[0m\u001b[0m\n\u001b[0m\u001b[1;32m      4\u001b[0m \u001b[0;34m\u001b[0m\u001b[0m\n\u001b[1;32m      5\u001b[0m \u001b[0;32mdef\u001b[0m \u001b[0mcal_average\u001b[0m\u001b[0;34m(\u001b[0m\u001b[0mvalues\u001b[0m\u001b[0;34m)\u001b[0m\u001b[0;34m:\u001b[0m\u001b[0;34m\u001b[0m\u001b[0;34m\u001b[0m\u001b[0m\n",
      "\u001b[0;31mNameError\u001b[0m: name 'cal_average' is not defined"
     ]
    }
   ],
   "source": [
    "numbers = [0,1,2]\n",
    "\n",
    "cal_average(numbers)\n",
    "\n",
    "def cal_average(values):\n",
    "    if len(values) == 0:\n",
    "        return None\n",
    "    return sum(values) / len(values)"
   ]
  },
  {
   "cell_type": "code",
   "execution_count": 11,
   "id": "12b0274b",
   "metadata": {},
   "outputs": [
    {
     "name": "stdout",
     "output_type": "stream",
     "text": [
      "average_1 None\n",
      "average_2 2.0\n"
     ]
    }
   ],
   "source": [
    "def average(values):\n",
    "    if len(values) == 0:\n",
    "        return None\n",
    "    return sum(values) / len(values)\n",
    "\n",
    "numbers_1 = []\n",
    "numbers_2 = [1,2,3]\n",
    "\n",
    "average_1 = average(numbers_1)\n",
    "average_2 = average(numbers_2)\n",
    "\n",
    "print('average_1', average_1)\n",
    "print('average_2', average_2)"
   ]
  },
  {
   "cell_type": "code",
   "execution_count": 12,
   "id": "9872898e",
   "metadata": {},
   "outputs": [],
   "source": [
    "names = ['Mark', 'Zaynah']\n",
    "marks = [0.1, 0.6]\n",
    "\n",
    "student_data = [\n",
    "    [['Mark', 'Zaynah'], [0.1, 0.6]],  # classroom 1\n",
    "    [['Ally', 'Ahmed'], [0.5, 0.2]],  # classroom 2\n",
    "]  # [[[names], [marks]]]\n",
    "\n",
    "# one list of student names\n",
    "# one list of student marks\n",
    "# one list of pass/fails\n",
    "# one list of perc marks\n",
    "\n",
    "def get_pass_fail(names, marks):\n",
    "    \"\"\"Doctstring - first line - dec of func.\n",
    "    Calc perc mark and check if passed\n",
    "    \n",
    "    names - list\n",
    "    :param names: list, student names\n",
    "    :param marks: list, marks of students\n",
    "    \n",
    "    Returns two lists:\n",
    "    * list of pass/fails\n",
    "    * list of percentage marks\n",
    "    \"\"\"\n",
    "    # names is a list\n",
    "    pass_fail = []\n",
    "    perc_mark = []\n",
    "    \n",
    "    for i in range(len(names)):\n",
    "        # cal perc mark\n",
    "        percentage = marks[i] * 100\n",
    "        \n",
    "        # pass or fail?\n",
    "        pass_mark = 50\n",
    "        if percentage >= pass_mark:\n",
    "            student_pass = True  # true\n",
    "        else:\n",
    "            student_pass = False\n",
    "            \n",
    "        pass_fail.append(student_pass)\n",
    "        perc_mark.append(percentage)\n",
    "            \n",
    "    return pass_fail, perc_mark\n",
    "\n"
   ]
  },
  {
   "cell_type": "code",
   "execution_count": 13,
   "id": "9f7ea84a",
   "metadata": {},
   "outputs": [
    {
     "data": {
      "text/plain": [
       "[['Mark', 'Zaynah'], [0.1, 0.6]]"
      ]
     },
     "execution_count": 13,
     "metadata": {},
     "output_type": "execute_result"
    }
   ],
   "source": [
    "student_data[0]"
   ]
  },
  {
   "cell_type": "code",
   "execution_count": 14,
   "id": "658a5094",
   "metadata": {},
   "outputs": [
    {
     "data": {
      "text/plain": [
       "['Mark', 'Zaynah']"
      ]
     },
     "execution_count": 14,
     "metadata": {},
     "output_type": "execute_result"
    }
   ],
   "source": [
    "student_data[0][0]\n",
    "# student_data[0[0]]"
   ]
  },
  {
   "cell_type": "code",
   "execution_count": 15,
   "id": "a618849d",
   "metadata": {},
   "outputs": [
    {
     "name": "stdout",
     "output_type": "stream",
     "text": [
      "['Mark', 'Zaynah'] [0.1, 0.6]\n"
     ]
    }
   ],
   "source": [
    "student_names = student_data[0][0]\n",
    "student_marks = student_data[0][1]\n",
    "print(student_names, student_marks)"
   ]
  },
  {
   "cell_type": "code",
   "execution_count": 16,
   "id": "bac5c97a",
   "metadata": {},
   "outputs": [
    {
     "data": {
      "text/plain": [
       "([False, True], [10.0, 60.0])"
      ]
     },
     "execution_count": 16,
     "metadata": {},
     "output_type": "execute_result"
    }
   ],
   "source": [
    "get_pass_fail(student_names, student_marks)"
   ]
  },
  {
   "cell_type": "code",
   "execution_count": 17,
   "id": "cbfe6830",
   "metadata": {},
   "outputs": [
    {
     "name": "stdout",
     "output_type": "stream",
     "text": [
      "1 2\n"
     ]
    }
   ],
   "source": [
    "a, b = 1, 2\n",
    "print(a, b)"
   ]
  },
  {
   "cell_type": "code",
   "execution_count": 18,
   "id": "640120e4",
   "metadata": {},
   "outputs": [],
   "source": [
    "pass_fail_marks, percentage_marks = get_pass_fail(student_names, student_marks)"
   ]
  },
  {
   "cell_type": "code",
   "execution_count": 19,
   "id": "426a7799",
   "metadata": {},
   "outputs": [
    {
     "data": {
      "text/plain": [
       "[False, True]"
      ]
     },
     "execution_count": 19,
     "metadata": {},
     "output_type": "execute_result"
    }
   ],
   "source": [
    "pass_fail_marks"
   ]
  },
  {
   "cell_type": "code",
   "execution_count": 21,
   "id": "a39116de",
   "metadata": {},
   "outputs": [
    {
     "data": {
      "text/plain": [
       "[10.0, 60.0]"
      ]
     },
     "execution_count": 21,
     "metadata": {},
     "output_type": "execute_result"
    }
   ],
   "source": [
    "percentage_marks"
   ]
  },
  {
   "cell_type": "code",
   "execution_count": 22,
   "id": "946a8ea7",
   "metadata": {},
   "outputs": [
    {
     "data": {
      "text/plain": [
       "[[['Mark', 'Zaynah'], [0.1, 0.6]], [['Ally', 'Ahmed'], [0.5, 0.2]]]"
      ]
     },
     "execution_count": 22,
     "metadata": {},
     "output_type": "execute_result"
    }
   ],
   "source": [
    "# iterate throuhg student data\n",
    "student_data"
   ]
  },
  {
   "cell_type": "code",
   "execution_count": 26,
   "id": "df6d87af",
   "metadata": {},
   "outputs": [
    {
     "name": "stdout",
     "output_type": "stream",
     "text": [
      "[['Mark', 'Zaynah'], [0.1, 0.6]]\n",
      "<class 'list'>\n",
      "['Mark', 'Zaynah']\n",
      "[0.1, 0.6]\n",
      "[['Ally', 'Ahmed'], [0.5, 0.2]]\n",
      "<class 'list'>\n",
      "['Ally', 'Ahmed']\n",
      "[0.5, 0.2]\n",
      "[False, True, True, False] [10.0, 60.0, 50.0, 20.0]\n"
     ]
    }
   ],
   "source": [
    "# pass_failes = list\n",
    "# perc_marks = list\n",
    "\n",
    "all_pass_fails = []\n",
    "all_perc_marks = []\n",
    "\n",
    "for classroom in student_data:\n",
    "    print(classroom)\n",
    "    print(type(classroom))\n",
    "    student_names = classroom[0]\n",
    "    student_marks = classroom[1]\n",
    "    print(student_names)\n",
    "    print(student_marks)\n",
    "    \n",
    "    classroom_passes, classroom_marks = get_pass_fail(student_names, student_marks)\n",
    "    \n",
    "    all_pass_fails.extend(classroom_passes)\n",
    "    all_perc_marks.extend(classroom_marks)\n",
    "    \n",
    "print(all_pass_fails, all_perc_marks)"
   ]
  },
  {
   "cell_type": "code",
   "execution_count": 27,
   "id": "e595abd7",
   "metadata": {},
   "outputs": [
    {
     "name": "stdout",
     "output_type": "stream",
     "text": [
      "[1]\n"
     ]
    }
   ],
   "source": [
    "a = []\n",
    "a.append(1)\n",
    "print(a)"
   ]
  },
  {
   "cell_type": "code",
   "execution_count": 28,
   "id": "a78e654e",
   "metadata": {},
   "outputs": [
    {
     "name": "stdout",
     "output_type": "stream",
     "text": [
      "[[1]]\n"
     ]
    }
   ],
   "source": [
    "a = []\n",
    "a.append([1])\n",
    "print(a)"
   ]
  },
  {
   "cell_type": "code",
   "execution_count": 29,
   "id": "4e037201",
   "metadata": {},
   "outputs": [
    {
     "name": "stdout",
     "output_type": "stream",
     "text": [
      "[[1], [2]]\n"
     ]
    }
   ],
   "source": [
    "a.append([2])\n",
    "print(a)"
   ]
  },
  {
   "cell_type": "code",
   "execution_count": 30,
   "id": "6f33f2d7",
   "metadata": {},
   "outputs": [
    {
     "name": "stdout",
     "output_type": "stream",
     "text": [
      "[1]\n"
     ]
    }
   ],
   "source": [
    "a = []\n",
    "a.extend([1])\n",
    "print(a)"
   ]
  },
  {
   "cell_type": "code",
   "execution_count": 31,
   "id": "8de6edab",
   "metadata": {},
   "outputs": [
    {
     "name": "stdout",
     "output_type": "stream",
     "text": [
      "[1]\n"
     ]
    }
   ],
   "source": [
    "a = []\n",
    "b = [1]\n",
    "a = a + b\n",
    "print(a)"
   ]
  },
  {
   "cell_type": "code",
   "execution_count": null,
   "id": "e2589679",
   "metadata": {},
   "outputs": [],
   "source": []
  },
  {
   "cell_type": "code",
   "execution_count": null,
   "id": "0525b368",
   "metadata": {},
   "outputs": [],
   "source": []
  },
  {
   "cell_type": "code",
   "execution_count": 32,
   "id": "4b2133d3",
   "metadata": {},
   "outputs": [],
   "source": [
    "def average(values):\n",
    "    \"\"\"Return average of values in list\"\"\"\n",
    "    if len(values)  == 0:\n",
    "        return None\n",
    "    return sum(values) / len(values)\n"
   ]
  },
  {
   "cell_type": "code",
   "execution_count": 33,
   "id": "e12d4a53",
   "metadata": {},
   "outputs": [
    {
     "name": "stdout",
     "output_type": "stream",
     "text": [
      "Help on function average in module __main__:\n",
      "\n",
      "average(values)\n",
      "    Return average of values in list\n",
      "\n"
     ]
    }
   ],
   "source": [
    "help(average)"
   ]
  },
  {
   "cell_type": "code",
   "execution_count": 34,
   "id": "6cb6ae4d",
   "metadata": {},
   "outputs": [],
   "source": [
    "def average(values):\n",
    "    \"\"\"Return average of values in list\n",
    "    \n",
    "    :param values: list, list of numbers\n",
    "    \n",
    "    Returns an intger\n",
    "    \"\"\"\n",
    "    if len(values)  == 0:\n",
    "        return None\n",
    "    return sum(values) / len(values)"
   ]
  },
  {
   "cell_type": "code",
   "execution_count": 35,
   "id": "45f90799",
   "metadata": {},
   "outputs": [
    {
     "name": "stdout",
     "output_type": "stream",
     "text": [
      "Help on function average in module __main__:\n",
      "\n",
      "average(values)\n",
      "    Return average of values in list\n",
      "    \n",
      "    :param values: list, list of numbers\n",
      "    \n",
      "    Returns an intger\n",
      "\n"
     ]
    }
   ],
   "source": [
    "help(average)"
   ]
  },
  {
   "cell_type": "code",
   "execution_count": 43,
   "id": "19638abf",
   "metadata": {},
   "outputs": [],
   "source": [
    "\"Find maximum edit distance between multiple sequences.\"\n",
    "# This finds the maximum distance between all sequences.\n",
    "\n",
    "def overall_max(sequences):\n",
    "    '''Determine overall maximum edit distance.\n",
    "    \n",
    "    lllllllllllll'''\n",
    "\n",
    "    highest = 0\n",
    "    for left in sequences:\n",
    "        for right in sequences:\n",
    "            '''Avoid checking sequence against itself.'''\n",
    "            if left != right:\n",
    "                this = edit_distance(left, right)\n",
    "                highest = max(highest, this)\n",
    "\n",
    "    # Report.\n",
    "    return highest"
   ]
  },
  {
   "cell_type": "code",
   "execution_count": null,
   "id": "8818965a",
   "metadata": {},
   "outputs": [],
   "source": [
    "== # exactly equal\n",
    "!= # does not equal"
   ]
  },
  {
   "cell_type": "code",
   "execution_count": 44,
   "id": "c92c00b0",
   "metadata": {},
   "outputs": [
    {
     "data": {
      "text/plain": [
       "0"
      ]
     },
     "execution_count": 44,
     "metadata": {},
     "output_type": "execute_result"
    }
   ],
   "source": [
    "overall_max([0,0,0])"
   ]
  },
  {
   "cell_type": "code",
   "execution_count": 40,
   "id": "4e3fa51b",
   "metadata": {},
   "outputs": [
    {
     "name": "stdout",
     "output_type": "stream",
     "text": [
      "Help on function overall_max in module __main__:\n",
      "\n",
      "overall_max(sequences)\n",
      "    Determine overall maximum edit distance.\n",
      "    \n",
      "    lllllllllllll\n",
      "\n"
     ]
    }
   ],
   "source": [
    "help(overall_max)"
   ]
  },
  {
   "cell_type": "code",
   "execution_count": 37,
   "id": "cf3d7c92",
   "metadata": {},
   "outputs": [
    {
     "data": {
      "text/plain": [
       "'Find maximum edit distance between multiple sequences.'"
      ]
     },
     "execution_count": 37,
     "metadata": {},
     "output_type": "execute_result"
    }
   ],
   "source": [
    "\"Find maximum edit distance between multiple sequences.\""
   ]
  },
  {
   "cell_type": "code",
   "execution_count": 45,
   "id": "9d13fada",
   "metadata": {},
   "outputs": [
    {
     "name": "stdout",
     "output_type": "stream",
     "text": [
      "-f\n"
     ]
    }
   ],
   "source": [
    "import sys\n",
    "\n",
    "print(sys.argv[1])"
   ]
  },
  {
   "cell_type": "code",
   "execution_count": 46,
   "id": "bd3a0648",
   "metadata": {},
   "outputs": [
    {
     "ename": "ValueError",
     "evalue": "invalid literal for int() with base 10: '-f'",
     "output_type": "error",
     "traceback": [
      "\u001b[0;31m---------------------------------------------------------------------------\u001b[0m",
      "\u001b[0;31mValueError\u001b[0m                                Traceback (most recent call last)",
      "\u001b[0;32m<ipython-input-46-2b4979de88ea>\u001b[0m in \u001b[0;36m<module>\u001b[0;34m\u001b[0m\n\u001b[0;32m----> 1\u001b[0;31m \u001b[0mn\u001b[0m \u001b[0;34m=\u001b[0m \u001b[0mint\u001b[0m\u001b[0;34m(\u001b[0m\u001b[0msys\u001b[0m\u001b[0;34m.\u001b[0m\u001b[0margv\u001b[0m\u001b[0;34m[\u001b[0m\u001b[0;36m1\u001b[0m\u001b[0;34m]\u001b[0m\u001b[0;34m)\u001b[0m\u001b[0;34m\u001b[0m\u001b[0;34m\u001b[0m\u001b[0m\n\u001b[0m\u001b[1;32m      2\u001b[0m \u001b[0mprint\u001b[0m\u001b[0;34m(\u001b[0m\u001b[0mn\u001b[0m\u001b[0;34m)\u001b[0m\u001b[0;34m\u001b[0m\u001b[0;34m\u001b[0m\u001b[0m\n",
      "\u001b[0;31mValueError\u001b[0m: invalid literal for int() with base 10: '-f'"
     ]
    }
   ],
   "source": [
    "n = int(sys.argv[1])\n",
    "print(n)"
   ]
  },
  {
   "cell_type": "code",
   "execution_count": null,
   "id": "0db10993",
   "metadata": {},
   "outputs": [],
   "source": [
    "import sys\n",
    "print(sys.argv[1])\n",
    "n = int(sys.argv[1])\n",
    "\n",
    "s = sys.argv[2]\n",
    "print(s)\n",
    "i = 0\n",
    "while i < n:\n",
    "    # print('at', j)\n",
    "    new = ''\n",
    "    for j in range(len(s)):\n",
    "        left = j-1\n",
    "        right = (j+1)%len(s)\n",
    "        if s[left]==s[right]: new += '-'\n",
    "        else: new += '*'\n",
    "    s=''.join(new)\n",
    "    print(s)\n",
    "    i += 1"
   ]
  },
  {
   "cell_type": "markdown",
   "id": "22bf9f09",
   "metadata": {},
   "source": [
    "&nbsp;  \n",
    "&nbsp;  \n",
    "\n",
    "&nbsp;  \n",
    "&nbsp;  \n",
    "&nbsp;  \n",
    "&nbsp;  \n",
    "\n",
    "&nbsp;  \n",
    "\n",
    "&nbsp;  \n",
    "&nbsp;  \n",
    "&nbsp;  \n",
    "\n",
    "&nbsp;  \n",
    "&nbsp;  \n",
    "\n",
    "&nbsp;  \n",
    "\n",
    "&nbsp;  \n",
    "\n",
    "&nbsp;  \n",
    "&nbsp;  \n",
    "&nbsp;  \n",
    "\n",
    "&nbsp;  \n",
    "\n",
    "&nbsp;  \n",
    "&nbsp;  \n",
    "&nbsp;  \n",
    "\n",
    "&nbsp;  \n",
    "&nbsp;  \n",
    "\n",
    "&nbsp;  \n",
    "\n",
    "&nbsp;  \n",
    "\n",
    "&nbsp;  \n",
    "\n",
    "&nbsp;  \n",
    "\n",
    "&nbsp;  \n",
    "## (Ex) identifying syntax errors\n",
    "\n",
    "1. Read the code below and try to identify what the errors are *without* running it\n",
    "2. Run the code and read the error message. Is it a `SyntaxError` or an `IndentationError`?\n",
    "3. Fix the error\n",
    "4. Repeat steps 2 and 3 until you have fixed all the errors"
   ]
  },
  {
   "cell_type": "code",
   "execution_count": null,
   "id": "3f00889a",
   "metadata": {},
   "outputs": [],
   "source": []
  },
  {
   "cell_type": "code",
   "execution_count": null,
   "id": "3a04c9be",
   "metadata": {},
   "outputs": [],
   "source": [
    "def another_function\n",
    "  print(\"Syntax errors are annoying.\")\n",
    "   print(\"But at least python tells us about them!\")\n",
    "  print(\"So they are usually not too hard to fix.\")"
   ]
  },
  {
   "cell_type": "markdown",
   "id": "8edbd26c",
   "metadata": {},
   "source": [
    "&nbsp;  \n",
    "&nbsp;  \n",
    "\n",
    "&nbsp;  \n",
    "&nbsp;  \n",
    "\n",
    "&nbsp;  \n",
    "\n",
    "&nbsp;  \n",
    "\n",
    "## (Ex) Definition and use\n",
    "\n",
    "What does the following program print?"
   ]
  },
  {
   "cell_type": "code",
   "execution_count": null,
   "id": "4a985325",
   "metadata": {},
   "outputs": [],
   "source": [
    "def report(pressure):\n",
    "    print('pressure is', pressure)\n",
    "\n",
    "print('calling', report, 22.5)"
   ]
  },
  {
   "cell_type": "markdown",
   "id": "f4e977d0",
   "metadata": {},
   "source": [
    "&nbsp;  \n",
    "&nbsp;  \n",
    "\n",
    "\n",
    "&nbsp;  \n",
    "&nbsp;  \n",
    "&nbsp;  \n",
    "\n",
    "&nbsp;  \n",
    "&nbsp;  \n",
    "\n",
    "&nbsp;  \n",
    "\n",
    "&nbsp;  \n",
    "\n",
    "&nbsp;  \n",
    "&nbsp;  \n",
    "\n",
    "&nbsp;  \n",
    "\n",
    "## (Ex) Order of operations\n",
    "\n",
    "1. Whats wrong in this example?"
   ]
  },
  {
   "cell_type": "code",
   "execution_count": null,
   "id": "a6e3d209",
   "metadata": {},
   "outputs": [],
   "source": [
    "result = print_time(11, 37, 59)\n",
    "\n",
    "def print_time(hour, minute, second):\n",
    "    time_string = str(hour) + ':' + str(minute) + ':' + str(second)\n",
    "    print(time_string)"
   ]
  },
  {
   "cell_type": "markdown",
   "id": "08c372cb",
   "metadata": {},
   "source": [
    "2. After fixing the problem above, explain why running this example code:"
   ]
  },
  {
   "cell_type": "code",
   "execution_count": null,
   "id": "c5657312",
   "metadata": {},
   "outputs": [],
   "source": [
    "result = print_time(11, 37, 59)\n",
    "print('result of call is:', result)"
   ]
  },
  {
   "cell_type": "markdown",
   "id": "777fad82",
   "metadata": {},
   "source": [
    "give this output:\n",
    "\n",
    "```\n",
    "11:37:59\n",
    "result of call is: None\n",
    "```"
   ]
  },
  {
   "cell_type": "code",
   "execution_count": null,
   "id": "dfaf51a5",
   "metadata": {},
   "outputs": [],
   "source": []
  },
  {
   "cell_type": "markdown",
   "id": "10e8b550",
   "metadata": {},
   "source": [
    "3. Why is the result of the call `None`?"
   ]
  },
  {
   "cell_type": "code",
   "execution_count": null,
   "id": "5c22b787",
   "metadata": {},
   "outputs": [],
   "source": []
  },
  {
   "cell_type": "markdown",
   "id": "5e8ae84b",
   "metadata": {},
   "source": [
    "&nbsp;  \n",
    "&nbsp;  \n",
    "\n",
    "&nbsp;  \n",
    "&nbsp;  \n",
    "\n",
    "&nbsp;  \n",
    "\n",
    "&nbsp;  \n",
    "\n",
    "## (Ex) Encapsulation\n",
    "\n",
    "Fill in the blanks to create a function that takes a single filename as an argument, loads the data in the file names by the argument, and returns the minimum value in that data."
   ]
  },
  {
   "cell_type": "code",
   "execution_count": null,
   "id": "ba3f07ff",
   "metadata": {},
   "outputs": [],
   "source": [
    "import pandas as pd\n",
    "\n",
    "def min_in_data(____):\n",
    "    data = ____\n",
    "    return ____"
   ]
  },
  {
   "cell_type": "markdown",
   "id": "a1ebc0ce",
   "metadata": {},
   "source": [
    "&nbsp;  \n",
    "&nbsp;  \n",
    "\n",
    "&nbsp;  \n",
    "&nbsp;  \n",
    "\n",
    "&nbsp;  \n",
    "\n",
    "&nbsp;  \n",
    "\n",
    "## (Ex) Find the first\n",
    "\n",
    "Fill in the blanks to create a function that takes a list of numbers as an argument and returns the first negative value in the list. What does your function do if the list is empty? What if the list has no negative numbers?"
   ]
  },
  {
   "cell_type": "code",
   "execution_count": null,
   "id": "57262664",
   "metadata": {},
   "outputs": [],
   "source": [
    "def first_negative(values):\n",
    "    for v in ____:\n",
    "        if ____:\n",
    "            return ____"
   ]
  },
  {
   "cell_type": "markdown",
   "id": "0a82cd20",
   "metadata": {},
   "source": [
    "&nbsp;  \n",
    "&nbsp;  \n",
    "\n",
    "&nbsp;  \n",
    "&nbsp;  \n",
    "\n",
    "&nbsp;  \n",
    "\n",
    "&nbsp;  \n",
    "\n",
    "## (Ex) Calling by name\n",
    "\n",
    "Earlier we saw this function:"
   ]
  },
  {
   "cell_type": "code",
   "execution_count": null,
   "id": "41366430",
   "metadata": {},
   "outputs": [],
   "source": [
    "def print_date(year, month, day):\n",
    "    joined = str(year) + '/' + str(month) + '/' + str(day)\n",
    "    print(joined)"
   ]
  },
  {
   "cell_type": "markdown",
   "id": "34deea10",
   "metadata": {},
   "source": [
    "We saw that we can call the function using named arguments, like this:"
   ]
  },
  {
   "cell_type": "code",
   "execution_count": null,
   "id": "865eb6c7",
   "metadata": {},
   "outputs": [],
   "source": [
    "print_date(day=1, month=2, year=2003)"
   ]
  },
  {
   "cell_type": "markdown",
   "id": "ec053626",
   "metadata": {},
   "source": [
    "1. What does `print_date(day=1, month=2, year=2003)` print?\n",
    "2. When have you seen a function call like this before?\n",
    "3. When and why is it useful to all functions this way?"
   ]
  },
  {
   "cell_type": "code",
   "execution_count": null,
   "id": "5c64f8c1",
   "metadata": {},
   "outputs": [],
   "source": []
  },
  {
   "cell_type": "code",
   "execution_count": null,
   "id": "091cf682",
   "metadata": {},
   "outputs": [],
   "source": []
  },
  {
   "cell_type": "code",
   "execution_count": null,
   "id": "7c77945a",
   "metadata": {},
   "outputs": [],
   "source": []
  },
  {
   "cell_type": "markdown",
   "id": "cf222ad4",
   "metadata": {},
   "source": [
    "&nbsp;  \n",
    "&nbsp;  \n",
    "\n",
    "&nbsp;  \n",
    "&nbsp;  \n",
    "\n",
    "&nbsp;  \n",
    "\n",
    "&nbsp;  \n",
    "## (Ex) Encapsulation of an If/Print block\n",
    "\n",
    "The code below will run on a label-printer for chicken eggs. A digital scale will report a chicken egg mass (in grams) to the computer and then the computer will print a label."
   ]
  },
  {
   "cell_type": "code",
   "execution_count": null,
   "id": "da2019cc",
   "metadata": {},
   "outputs": [],
   "source": [
    "import random\n",
    "for i in range(10):\n",
    "\n",
    "    # simulating the mass of a chicken egg\n",
    "    # the (random) mass will be 70 +/- 20 grams\n",
    "    mass = 70 + 20.0 * (2.0 * random.random() - 1.0)\n",
    "\n",
    "    print(mass)\n",
    "\n",
    "    # egg sizing machinery prints a label\n",
    "    if mass >= 85:\n",
    "        print(\"jumbo\")\n",
    "    elif mass >= 70:\n",
    "        print(\"large\")\n",
    "    elif mass < 70 and mass >= 55:\n",
    "        print(\"medium\")\n",
    "    else:\n",
    "        print(\"small\")"
   ]
  },
  {
   "cell_type": "markdown",
   "id": "153d26e7",
   "metadata": {},
   "source": [
    "The if-block that classifies the eggs might be useful in other situations, so to avoid repeating it, we could fold it into a function, `get_egg_label()`. Revising the program to use the function would give us this:"
   ]
  },
  {
   "cell_type": "code",
   "execution_count": null,
   "id": "45b41703",
   "metadata": {},
   "outputs": [],
   "source": [
    "# revised version\n",
    "import random\n",
    "for i in range(10):\n",
    "\n",
    "    # simulating the mass of a chicken egg\n",
    "    # the (random) mass will be 70 +/- 20 grams\n",
    "    mass = 70 + 20.0 * (2.0 * random.random() - 1.0)\n",
    "\n",
    "    print(mass, get_egg_label(mass))"
   ]
  },
  {
   "cell_type": "markdown",
   "id": "fd26f952",
   "metadata": {},
   "source": [
    "1. Create a function definition for `get_egg_label()` that will work with he revised program above. Note that the `get_egg_label()` function's return value will be important. Sample output from the above program would be `71.23 large`.\n",
    "\n",
    "2. A dirty egg might have a mass of more than 90 grams, and a spoiled or broken eff will probably have a mass that's less than 50 grams. Modify your `get_egg_label()` function to account for these error conditions. Sample output could be `25 too light, probably spoiled`."
   ]
  },
  {
   "cell_type": "code",
   "execution_count": null,
   "id": "e06cfafe",
   "metadata": {},
   "outputs": [],
   "source": []
  },
  {
   "cell_type": "code",
   "execution_count": null,
   "id": "6faa68cf",
   "metadata": {},
   "outputs": [],
   "source": []
  },
  {
   "cell_type": "markdown",
   "id": "9d44d3dd",
   "metadata": {},
   "source": [
    "&nbsp;  \n",
    "&nbsp;  \n",
    "\n",
    "&nbsp;  \n",
    "&nbsp;  \n",
    "\n",
    "&nbsp;  \n",
    "\n",
    "&nbsp;  \n",
    "\n",
    "## (Ex) Encapsulating data analysis\n",
    "\n",
    "Assume that the following code has been executed:"
   ]
  },
  {
   "cell_type": "code",
   "execution_count": null,
   "id": "faea9774",
   "metadata": {},
   "outputs": [],
   "source": [
    "import pandas as pd\n",
    "\n",
    "df = pd.read_csv('data/gapminder_gdp_asia.csv', index_col=0)\n",
    "japan = df.loc['Japan']"
   ]
  },
  {
   "cell_type": "markdown",
   "id": "3a4d2111",
   "metadata": {},
   "source": [
    "1. Complete the statements below to obtain the average GDP for Japan across the years reported for the 1980s"
   ]
  },
  {
   "cell_type": "code",
   "execution_count": null,
   "id": "19d4f151",
   "metadata": {},
   "outputs": [],
   "source": [
    "year = 1983\n",
    "gdp_decade = 'gdpPercap_' + str(year // ____)\n",
    "avg = (japan.loc[gdp_decade + ___] + japan.loc[gdp_decade + ___]) / 2\n"
   ]
  },
  {
   "cell_type": "markdown",
   "id": "d05e6c1e",
   "metadata": {},
   "source": [
    "2. Abstract the code above into a single function"
   ]
  },
  {
   "cell_type": "code",
   "execution_count": null,
   "id": "16f0bab3",
   "metadata": {},
   "outputs": [],
   "source": [
    "def avg_gdp_in_decade(country, continent, year):\n",
    "    df = pd.read_csv('data/gapminder_gdp_'+___+'.csv',delimiter=',',index_col=0)\n",
    "    ____\n",
    "    ____\n",
    "    ____\n",
    "    return avg"
   ]
  },
  {
   "cell_type": "markdown",
   "id": "384fe7e2",
   "metadata": {},
   "source": [
    "3. How would you generalize this function if you did not know beforehand which specific years occurred as columns in the data? For instance, what if we also had data from years ending in 1 and 9 for each decade? (Hint: use the columns to filter out the ones that correspond to the decade, instead of enumerating them in the code.)"
   ]
  },
  {
   "cell_type": "code",
   "execution_count": null,
   "id": "fdf587c1",
   "metadata": {},
   "outputs": [],
   "source": []
  },
  {
   "cell_type": "markdown",
   "id": "a9fb7e23",
   "metadata": {},
   "source": [
    "&nbsp;  \n",
    "&nbsp;  \n",
    "\n",
    "&nbsp;  \n",
    "&nbsp;  \n",
    "\n",
    "&nbsp;  \n",
    "\n",
    "&nbsp; \n",
    "\n",
    "## (Ex) Simulating a dynamical system\n",
    "\n",
    "In mathematics, a [dynamical system](https://en.wikipedia.org/wiki/Dynamical_system) is a system in which a function describes the time dependence of a point in a geometrical space. A canonical example of a dynamical system is the [logistic map](https://en.wikipedia.org/wiki/Logistic_map), a growth model that computes a new population density (between 0 and 1) based on the current density. In the model, time takes discrete values 0, 1, 2, …\n",
    "\n",
    "1. Define a function called `logistic_map` that takes two inputs: `x`, representing the current population (at time `t`), and a parameter `r = 1`. This function should return a value representing the state of the system (population) at time `t + 1`, using the mapping function:\n",
    "\n",
    "`f(t+1) = r * f(t) * [1 - f(t)]`\n",
    "\n",
    "2. Using a `for` or `while` loop, iterate the `logistic_map` function defined in part 1, starting from an initial population of 0.5, for a period of time `t_final = 10`. Store the intermediate results in a list so that after the loop terminates you have accumulated a sequence of values representing the state of the logistic map at times `t = [0,1,...,t_final]` (11 values in total). Print this list to see the evolution of the population.\n",
    "\n",
    "3. Encapsulate the logic of your loop into a function called `iterate` that takes the initial population as its first input, the parameter `t_final` as its second input and the parameter `r` as its third input. The function should return the list of values representing the state of the logistic map at times `t = [0,1,...,t_final]`. Run this function for periods `t_final = 100` and `1000` and print some of the values. Is the population trending toward a steady state?"
   ]
  },
  {
   "cell_type": "code",
   "execution_count": null,
   "id": "dffe35c9",
   "metadata": {},
   "outputs": [],
   "source": []
  },
  {
   "cell_type": "markdown",
   "id": "73c63f86",
   "metadata": {},
   "source": [
    "&nbsp;  \n",
    "&nbsp;  \n",
    "\n",
    "&nbsp;  \n",
    "&nbsp;  \n",
    "&nbsp;  \n",
    "&nbsp;  \n",
    "\n",
    "&nbsp;  \n",
    "\n",
    "&nbsp;  \n",
    "&nbsp;  \n",
    "&nbsp;  \n",
    "\n",
    "&nbsp;  \n",
    "&nbsp;  \n",
    "\n",
    "&nbsp;  \n",
    "\n",
    "&nbsp;  \n",
    "\n",
    "&nbsp;  \n",
    "&nbsp;  \n",
    "&nbsp;  \n",
    "\n",
    "&nbsp;  \n",
    "\n",
    "&nbsp;  \n",
    "&nbsp;  \n",
    "&nbsp;  \n",
    "\n",
    "&nbsp;  \n",
    "&nbsp;  \n",
    "\n",
    "&nbsp;  \n",
    "\n",
    "&nbsp;  \n",
    "\n",
    "&nbsp;  \n",
    "\n",
    "\n",
    "&nbsp;  \n",
    "\n",
    "&nbsp; \n",
    "\n",
    "## Using function with conditionals in Pandas"
   ]
  },
  {
   "cell_type": "code",
   "execution_count": null,
   "id": "757faaa3",
   "metadata": {},
   "outputs": [],
   "source": []
  },
  {
   "cell_type": "markdown",
   "id": "22f04e91",
   "metadata": {},
   "source": [
    "&nbsp;  \n",
    "&nbsp;  \n",
    "\n",
    "&nbsp;  \n",
    "&nbsp;  \n",
    "&nbsp;  \n",
    "&nbsp;  \n",
    "\n",
    "&nbsp;  \n",
    "\n",
    "&nbsp;  \n",
    "&nbsp;  \n",
    "&nbsp;  \n",
    "\n",
    "&nbsp;  \n",
    "&nbsp;  \n",
    "\n",
    "&nbsp;  \n",
    "\n",
    "&nbsp;  \n",
    "\n",
    "&nbsp;  \n",
    "&nbsp;  \n",
    "&nbsp;  \n",
    "\n",
    "&nbsp;  \n",
    "\n",
    "&nbsp;  \n",
    "&nbsp;  \n",
    "&nbsp;  \n",
    "\n",
    "&nbsp;  \n",
    "&nbsp;  \n",
    "\n",
    "&nbsp;  \n",
    "\n",
    "&nbsp;  \n",
    "\n",
    "&nbsp;  \n",
    "\n",
    "&nbsp;  \n",
    "\n",
    "&nbsp; \n",
    "\n",
    "## Key Points\n",
    "\n",
    "* Break programs down into functions to make them easier to understand.\n",
    "\n",
    "* Define a function using `def` with a name, parameters, and a block of code.\n",
    "\n",
    "* Defining a function does not run it.\n",
    "\n",
    "* Arguments in a function call are matched to its defined parameters.\n",
    "\n",
    "* Functions may return a result to their caller using `return`.\n",
    "\n",
    "## LOs:\n",
    "\n",
    "- How can I create my own functions?\n",
    "- Explain and identify the difference between definition and function call\n",
    "- Write a function that takes a small, fixed number of arguments and produces a single result"
   ]
  }
 ],
 "metadata": {
  "interpreter": {
   "hash": "916dbcbb3f70747c44a77c7bcd40155683ae19c65e1c03b4aa3499c5328201f1"
  },
  "kernelspec": {
   "display_name": "Python 3",
   "language": "python",
   "name": "python3"
  },
  "language_info": {
   "codemirror_mode": {
    "name": "ipython",
    "version": 3
   },
   "file_extension": ".py",
   "mimetype": "text/x-python",
   "name": "python",
   "nbconvert_exporter": "python",
   "pygments_lexer": "ipython3",
   "version": "3.8.10"
  }
 },
 "nbformat": 4,
 "nbformat_minor": 5
}
