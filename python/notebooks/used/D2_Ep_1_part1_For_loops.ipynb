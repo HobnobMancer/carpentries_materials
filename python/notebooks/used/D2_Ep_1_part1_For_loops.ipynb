{
 "cells": [
  {
   "cell_type": "markdown",
   "id": "e25f982e",
   "metadata": {},
   "source": [
    "# Episode 12: For Loops\n",
    "\n",
    "## [Iterating over objects](http://swcarpentry.github.io/python-novice-gapminder/12-for-loops/index.html)\n",
    " \n",
    "## LOs:\n",
    "\n",
    "- How can I make a program do many things?\n",
    "- Explain what loops are normally used for\n",
    "- Trace the execution of a simple (unnested) loop and correctly state the values of variables in each iteraction\n",
    "- Write for loops that use the Accumulator pattern to aggregate values\n",
    "\n",
    "&nbsp;  \n",
    "&nbsp;  \n",
    "\n",
    "&nbsp;  \n",
    "\n",
    "&nbsp;  \n",
    "&nbsp;  \n",
    "\n",
    "&nbsp;  \n",
    "&nbsp;  \n",
    "\n",
    "&nbsp;  \n",
    "\n",
    "&nbsp;  \n",
    "&nbsp;  \n",
    "\n",
    "&nbsp;  \n",
    "\n",
    "&nbsp;  \n",
    "&nbsp;  \n",
    "\n",
    "&nbsp;  \n",
    "&nbsp;  \n",
    "\n",
    "&nbsp;  \n",
    "\n",
    "&nbsp;  \n",
    "&nbsp;  \n",
    "\n",
    "&nbsp;  \n",
    "&nbsp;  \n",
    "\n",
    "&nbsp;  \n",
    "&nbsp;  \n",
    "\n",
    "&nbsp;  \n",
    "\n",
    "&nbsp;  \n",
    "&nbsp;  \n",
    "\n",
    "## A *for loop* executes commands once for each value in a collection"
   ]
  },
  {
   "cell_type": "code",
   "execution_count": 1,
   "id": "a0ea9b0c",
   "metadata": {},
   "outputs": [
    {
     "name": "stdout",
     "output_type": "stream",
     "text": [
      "Mark\n",
      "Ahmed\n"
     ]
    }
   ],
   "source": [
    "student_1 = 'Mark'\n",
    "student_2 = 'Ahmed'\n",
    "print(student_1)\n",
    "print(student_2)"
   ]
  },
  {
   "cell_type": "code",
   "execution_count": 2,
   "id": "2dc27459",
   "metadata": {},
   "outputs": [
    {
     "name": "stdout",
     "output_type": "stream",
     "text": [
      "Mark\n",
      "Ahmed\n"
     ]
    }
   ],
   "source": [
    "student_names = ['Mark', 'Ahmed']\n",
    "print(student_names[0])\n",
    "print(student_names[1])"
   ]
  },
  {
   "cell_type": "code",
   "execution_count": 3,
   "id": "f1d83b4e",
   "metadata": {},
   "outputs": [
    {
     "name": "stdout",
     "output_type": "stream",
     "text": [
      "2\n",
      "3\n",
      "5\n"
     ]
    }
   ],
   "source": [
    "numbers = [2, 3, 5]\n",
    "for number in numbers:\n",
    "    print(number)"
   ]
  },
  {
   "cell_type": "markdown",
   "id": "6fa425da",
   "metadata": {},
   "source": [
    "&nbsp;  \n",
    "\n",
    "&nbsp;  \n",
    "\n",
    "&nbsp;  \n",
    "&nbsp;  \n",
    "\n",
    "&nbsp;  \n",
    "&nbsp;  \n",
    "\n",
    "&nbsp;  \n",
    "\n",
    "&nbsp;  \n",
    "&nbsp;  \n",
    "&nbsp;  \n",
    "\n",
    "&nbsp;  \n",
    "\n",
    "&nbsp;  \n",
    "&nbsp;  \n",
    "\n",
    "&nbsp;  \n",
    "&nbsp;  \n",
    "\n",
    "&nbsp;  \n",
    "\n",
    "&nbsp;  \n",
    "&nbsp;  \n",
    "&nbsp;  \n",
    "\n",
    "&nbsp;  \n",
    "\n",
    "&nbsp;  \n",
    "&nbsp;  \n",
    "\n",
    "&nbsp;  \n",
    "&nbsp;  \n",
    "\n",
    "&nbsp;  \n",
    "\n",
    "&nbsp;  \n",
    "&nbsp;  \n",
    "\n",
    "## A `for` loop is made up of a collection, a loop variable, and a body\n",
    "\n",
    "for for_loop_variable in collection_of_items:"
   ]
  },
  {
   "cell_type": "code",
   "execution_count": 4,
   "id": "d9be5346",
   "metadata": {},
   "outputs": [
    {
     "name": "stdout",
     "output_type": "stream",
     "text": [
      "2\n",
      "3\n",
      "5\n"
     ]
    }
   ],
   "source": [
    "for number in numbers:\n",
    "    print(number)"
   ]
  },
  {
   "cell_type": "code",
   "execution_count": 5,
   "id": "db64bd38",
   "metadata": {},
   "outputs": [
    {
     "name": "stdout",
     "output_type": "stream",
     "text": [
      "2\n",
      "5\n",
      "6\n"
     ]
    }
   ],
   "source": [
    "for number in [2,5,6]:\n",
    "    print(number)"
   ]
  },
  {
   "cell_type": "markdown",
   "id": "cfc8390f",
   "metadata": {},
   "source": [
    "    \n",
    "&nbsp;  \n",
    "\n",
    "&nbsp;  \n",
    "\n",
    "&nbsp;  \n",
    "&nbsp;  \n",
    "\n",
    "&nbsp;  \n",
    "&nbsp;  \n",
    "\n",
    "&nbsp;  \n",
    "\n",
    "&nbsp;  \n",
    "&nbsp;  \n",
    "    \n",
    "&nbsp;  \n",
    "\n",
    "&nbsp;  \n",
    "\n",
    "&nbsp;  \n",
    "&nbsp;  \n",
    "\n",
    "&nbsp;  \n",
    "&nbsp;  \n",
    "\n",
    "&nbsp;  \n",
    "\n",
    "&nbsp;  \n",
    "&nbsp;  \n",
    "&nbsp;  \n",
    "\n",
    "&nbsp;  \n",
    "\n",
    "&nbsp;  \n",
    "&nbsp;  \n",
    "\n",
    "&nbsp;  \n",
    "&nbsp;  \n",
    "\n",
    "&nbsp;  \n",
    "\n",
    "&nbsp;  \n",
    "&nbsp;  \n",
    "\n",
    "## The first line of the `for` loop must end with a colon, and the body must be indented\n",
    "\n"
   ]
  },
  {
   "cell_type": "code",
   "execution_count": 6,
   "id": "7a0822d9",
   "metadata": {},
   "outputs": [
    {
     "ename": "SyntaxError",
     "evalue": "invalid syntax (<ipython-input-6-499e4d0d0cbb>, line 1)",
     "output_type": "error",
     "traceback": [
      "\u001b[0;36m  File \u001b[0;32m\"<ipython-input-6-499e4d0d0cbb>\"\u001b[0;36m, line \u001b[0;32m1\u001b[0m\n\u001b[0;31m    for number in numbers\u001b[0m\n\u001b[0m                         ^\u001b[0m\n\u001b[0;31mSyntaxError\u001b[0m\u001b[0;31m:\u001b[0m invalid syntax\n"
     ]
    }
   ],
   "source": [
    "for number in numbers\n",
    "    print(number)"
   ]
  },
  {
   "cell_type": "code",
   "execution_count": 7,
   "id": "7fcb5ae7",
   "metadata": {},
   "outputs": [
    {
     "name": "stdout",
     "output_type": "stream",
     "text": [
      "2\n",
      "3\n",
      "5\n"
     ]
    }
   ],
   "source": [
    "for number in numbers:\n",
    "    print(number)"
   ]
  },
  {
   "cell_type": "code",
   "execution_count": 8,
   "id": "75d86d9f",
   "metadata": {},
   "outputs": [
    {
     "name": "stdout",
     "output_type": "stream",
     "text": [
      "3\n",
      "4\n",
      "6\n",
      "Original numbers [2, 3, 5]\n"
     ]
    }
   ],
   "source": [
    "# for for_loop_variable in collection:\n",
    "    # line 1\n",
    "    # line 2\n",
    "    # line 3\n",
    "    \n",
    "# code outside of the for loop\n",
    "for number in numbers:\n",
    "    new_number = number + 1\n",
    "    print(new_number)\n",
    "    \n",
    "print('Original numbers', numbers)"
   ]
  },
  {
   "cell_type": "code",
   "execution_count": 9,
   "id": "4732a32b",
   "metadata": {},
   "outputs": [],
   "source": [
    "# unintenional indentation\n",
    "first_name = 'Mark'\n",
    "last_name = 'Smith'"
   ]
  },
  {
   "cell_type": "code",
   "execution_count": 10,
   "id": "80b2d486",
   "metadata": {},
   "outputs": [
    {
     "ename": "IndentationError",
     "evalue": "unexpected indent (<ipython-input-10-4124ce23cc8d>, line 2)",
     "output_type": "error",
     "traceback": [
      "\u001b[0;36m  File \u001b[0;32m\"<ipython-input-10-4124ce23cc8d>\"\u001b[0;36m, line \u001b[0;32m2\u001b[0m\n\u001b[0;31m    last_name = 'Smith'\u001b[0m\n\u001b[0m    ^\u001b[0m\n\u001b[0;31mIndentationError\u001b[0m\u001b[0;31m:\u001b[0m unexpected indent\n"
     ]
    }
   ],
   "source": [
    "first_name = 'Mark'\n",
    "    last_name = 'Smith'"
   ]
  },
  {
   "cell_type": "code",
   "execution_count": 11,
   "id": "dd86e223",
   "metadata": {},
   "outputs": [
    {
     "ename": "IndentationError",
     "evalue": "expected an indented block (<ipython-input-11-19398c5f89de>, line 2)",
     "output_type": "error",
     "traceback": [
      "\u001b[0;36m  File \u001b[0;32m\"<ipython-input-11-19398c5f89de>\"\u001b[0;36m, line \u001b[0;32m2\u001b[0m\n\u001b[0;31m    print(number)\u001b[0m\n\u001b[0m    ^\u001b[0m\n\u001b[0;31mIndentationError\u001b[0m\u001b[0;31m:\u001b[0m expected an indented block\n"
     ]
    }
   ],
   "source": [
    "for number in numbers:\n",
    "print(number)"
   ]
  },
  {
   "cell_type": "markdown",
   "id": "7cc141bc",
   "metadata": {},
   "source": [
    "&nbsp;  \n",
    "\n",
    "&nbsp;  \n",
    "\n",
    "&nbsp;  \n",
    "&nbsp;  \n",
    "\n",
    "&nbsp;  \n",
    "&nbsp;  \n",
    "\n",
    "&nbsp;  \n",
    "\n",
    "&nbsp;  \n",
    "&nbsp;  \n",
    "&nbsp;  \n",
    "\n",
    "&nbsp;  \n",
    "\n",
    "&nbsp;  \n",
    "&nbsp;  \n",
    "\n",
    "&nbsp;  \n",
    "&nbsp;  \n",
    "\n",
    "&nbsp;  \n",
    "\n",
    "&nbsp;  \n",
    "&nbsp;  \n",
    "&nbsp;  \n",
    "\n",
    "&nbsp;  \n",
    "\n",
    "&nbsp;  \n",
    "&nbsp;  \n",
    "\n",
    "&nbsp;  \n",
    "&nbsp;  \n",
    "\n",
    "&nbsp;  \n",
    "\n",
    "&nbsp;  \n",
    "&nbsp;  \n",
    "\n",
    "## Loop variables can be called anything"
   ]
  },
  {
   "cell_type": "code",
   "execution_count": 12,
   "id": "7416cdf7",
   "metadata": {},
   "outputs": [
    {
     "name": "stdout",
     "output_type": "stream",
     "text": [
      "2\n",
      "3\n",
      "5\n"
     ]
    }
   ],
   "source": [
    "for number in numbers:\n",
    "    print(number)"
   ]
  },
  {
   "cell_type": "code",
   "execution_count": 13,
   "id": "4980b0f9",
   "metadata": {},
   "outputs": [
    {
     "name": "stdout",
     "output_type": "stream",
     "text": [
      "2\n",
      "3\n",
      "5\n"
     ]
    }
   ],
   "source": [
    "# for for_loop_variable in collection:\n",
    "for n in numbers:\n",
    "    print(n)"
   ]
  },
  {
   "cell_type": "code",
   "execution_count": null,
   "id": "f969836c",
   "metadata": {},
   "outputs": [],
   "source": []
  },
  {
   "cell_type": "markdown",
   "id": "bc8151dd",
   "metadata": {},
   "source": [
    "&nbsp;  \n",
    "\n",
    "&nbsp;  \n",
    "\n",
    "&nbsp;  \n",
    "&nbsp;  \n",
    "\n",
    "&nbsp;  \n",
    "&nbsp;  \n",
    "\n",
    "&nbsp;  \n",
    "\n",
    "&nbsp;  \n",
    "&nbsp;  \n",
    "&nbsp;  \n",
    "\n",
    "&nbsp;  \n",
    "\n",
    "&nbsp;  \n",
    "&nbsp;  \n",
    "\n",
    "&nbsp;  \n",
    "&nbsp;  \n",
    "\n",
    "&nbsp;  \n",
    "\n",
    "&nbsp;  \n",
    "&nbsp;  \n",
    "&nbsp;  \n",
    "\n",
    "&nbsp;  \n",
    "\n",
    "&nbsp;  \n",
    "&nbsp;  \n",
    "\n",
    "&nbsp;  \n",
    "&nbsp;  \n",
    "\n",
    "&nbsp;  \n",
    "\n",
    "&nbsp;  \n",
    "&nbsp;  \n",
    "\n",
    "## The body of a loop can contain many statements"
   ]
  },
  {
   "cell_type": "code",
   "execution_count": 14,
   "id": "69aba203",
   "metadata": {},
   "outputs": [
    {
     "name": "stdout",
     "output_type": "stream",
     "text": [
      "2\n",
      "3\n",
      "5\n"
     ]
    }
   ],
   "source": [
    "for number in numbers:\n",
    "    print(number)"
   ]
  },
  {
   "cell_type": "code",
   "execution_count": 15,
   "id": "e196b971",
   "metadata": {},
   "outputs": [
    {
     "name": "stdout",
     "output_type": "stream",
     "text": [
      "2 4 8\n",
      "3 9 27\n",
      "5 25 125\n"
     ]
    }
   ],
   "source": [
    "primes = [2, 3, 5]\n",
    "for p in primes:\n",
    "    squared = p ** 2 # * = multiple, ** raise to the power\n",
    "    cubed = p ** 3\n",
    "    print(p, squared, cubed)"
   ]
  },
  {
   "cell_type": "markdown",
   "id": "135780c5",
   "metadata": {},
   "source": [
    "&nbsp;  \n",
    "\n",
    "&nbsp;  \n",
    "\n",
    "&nbsp;  \n",
    "&nbsp;  \n",
    "\n",
    "&nbsp;  \n",
    "&nbsp;  \n",
    "\n",
    "&nbsp;  \n",
    "\n",
    "&nbsp;  \n",
    "&nbsp;  \n",
    "&nbsp;  \n",
    "\n",
    "&nbsp;  \n",
    "\n",
    "&nbsp;  \n",
    "&nbsp;  \n",
    "\n",
    "&nbsp;  \n",
    "&nbsp;  \n",
    "\n",
    "&nbsp;  \n",
    "\n",
    "&nbsp;  \n",
    "&nbsp;  \n",
    "\n",
    "&nbsp;  \n",
    "\n",
    "&nbsp;  \n",
    "\n",
    "&nbsp;  \n",
    "&nbsp;  \n",
    "\n",
    "&nbsp;  \n",
    "&nbsp;  \n",
    "\n",
    "&nbsp;  \n",
    "\n",
    "&nbsp;  \n",
    "&nbsp;  \n",
    "\n",
    "\n",
    "## Use `range` to iterate over a sequence of numbers\n",
    "\n"
   ]
  },
  {
   "cell_type": "code",
   "execution_count": 16,
   "id": "468756b8",
   "metadata": {},
   "outputs": [
    {
     "name": "stdout",
     "output_type": "stream",
     "text": [
      "Help on class range in module builtins:\n",
      "\n",
      "class range(object)\n",
      " |  range(stop) -> range object\n",
      " |  range(start, stop[, step]) -> range object\n",
      " |  \n",
      " |  Return an object that produces a sequence of integers from start (inclusive)\n",
      " |  to stop (exclusive) by step.  range(i, j) produces i, i+1, i+2, ..., j-1.\n",
      " |  start defaults to 0, and stop is omitted!  range(4) produces 0, 1, 2, 3.\n",
      " |  These are exactly the valid indices for a list of 4 elements.\n",
      " |  When step is given, it specifies the increment (or decrement).\n",
      " |  \n",
      " |  Methods defined here:\n",
      " |  \n",
      " |  __bool__(self, /)\n",
      " |      self != 0\n",
      " |  \n",
      " |  __contains__(self, key, /)\n",
      " |      Return key in self.\n",
      " |  \n",
      " |  __eq__(self, value, /)\n",
      " |      Return self==value.\n",
      " |  \n",
      " |  __ge__(self, value, /)\n",
      " |      Return self>=value.\n",
      " |  \n",
      " |  __getattribute__(self, name, /)\n",
      " |      Return getattr(self, name).\n",
      " |  \n",
      " |  __getitem__(self, key, /)\n",
      " |      Return self[key].\n",
      " |  \n",
      " |  __gt__(self, value, /)\n",
      " |      Return self>value.\n",
      " |  \n",
      " |  __hash__(self, /)\n",
      " |      Return hash(self).\n",
      " |  \n",
      " |  __iter__(self, /)\n",
      " |      Implement iter(self).\n",
      " |  \n",
      " |  __le__(self, value, /)\n",
      " |      Return self<=value.\n",
      " |  \n",
      " |  __len__(self, /)\n",
      " |      Return len(self).\n",
      " |  \n",
      " |  __lt__(self, value, /)\n",
      " |      Return self<value.\n",
      " |  \n",
      " |  __ne__(self, value, /)\n",
      " |      Return self!=value.\n",
      " |  \n",
      " |  __reduce__(...)\n",
      " |      Helper for pickle.\n",
      " |  \n",
      " |  __repr__(self, /)\n",
      " |      Return repr(self).\n",
      " |  \n",
      " |  __reversed__(...)\n",
      " |      Return a reverse iterator.\n",
      " |  \n",
      " |  count(...)\n",
      " |      rangeobject.count(value) -> integer -- return number of occurrences of value\n",
      " |  \n",
      " |  index(...)\n",
      " |      rangeobject.index(value) -> integer -- return index of value.\n",
      " |      Raise ValueError if the value is not present.\n",
      " |  \n",
      " |  ----------------------------------------------------------------------\n",
      " |  Static methods defined here:\n",
      " |  \n",
      " |  __new__(*args, **kwargs) from builtins.type\n",
      " |      Create and return a new object.  See help(type) for accurate signature.\n",
      " |  \n",
      " |  ----------------------------------------------------------------------\n",
      " |  Data descriptors defined here:\n",
      " |  \n",
      " |  start\n",
      " |  \n",
      " |  step\n",
      " |  \n",
      " |  stop\n",
      "\n"
     ]
    }
   ],
   "source": [
    "help(range)"
   ]
  },
  {
   "cell_type": "code",
   "execution_count": 17,
   "id": "6efca1c2",
   "metadata": {},
   "outputs": [
    {
     "name": "stdout",
     "output_type": "stream",
     "text": [
      "range(0, 10)\n"
     ]
    }
   ],
   "source": [
    "print(range(0,10))"
   ]
  },
  {
   "cell_type": "code",
   "execution_count": 19,
   "id": "1ac186fd",
   "metadata": {},
   "outputs": [
    {
     "name": "stdout",
     "output_type": "stream",
     "text": [
      "[2, 3, 5]\n"
     ]
    }
   ],
   "source": [
    "print(numbers)"
   ]
  },
  {
   "cell_type": "code",
   "execution_count": 20,
   "id": "25c85407",
   "metadata": {},
   "outputs": [
    {
     "name": "stdout",
     "output_type": "stream",
     "text": [
      "0\n",
      "1\n",
      "2\n",
      "3\n",
      "4\n",
      "5\n",
      "6\n",
      "7\n",
      "8\n",
      "9\n"
     ]
    }
   ],
   "source": [
    "for number in range(0, 10):  # range(i, j) i is inclusive, j is exclusive\n",
    "    print(number)"
   ]
  },
  {
   "cell_type": "code",
   "execution_count": 21,
   "id": "569d2cc4",
   "metadata": {},
   "outputs": [
    {
     "data": {
      "text/plain": [
       "range(0, 10)"
      ]
     },
     "execution_count": 21,
     "metadata": {},
     "output_type": "execute_result"
    }
   ],
   "source": [
    "range(10)"
   ]
  },
  {
   "cell_type": "code",
   "execution_count": 22,
   "id": "d31e7ef4",
   "metadata": {},
   "outputs": [
    {
     "name": "stdout",
     "output_type": "stream",
     "text": [
      "0\n",
      "1\n",
      "2\n",
      "3\n",
      "4\n",
      "5\n",
      "6\n",
      "7\n",
      "8\n",
      "9\n"
     ]
    }
   ],
   "source": [
    "for number in range(10):\n",
    "    print(number)"
   ]
  },
  {
   "cell_type": "code",
   "execution_count": 24,
   "id": "0527d4a0",
   "metadata": {},
   "outputs": [
    {
     "name": "stdout",
     "output_type": "stream",
     "text": [
      "index 0\n",
      "number 1\n",
      "index 1\n",
      "number 3\n",
      "index 2\n",
      "number 5\n",
      "index 3\n",
      "number 4\n",
      "index 4\n",
      "number 8\n",
      "index 5\n",
      "number 2\n",
      "index 6\n",
      "number 6\n",
      "index 7\n",
      "number 9\n"
     ]
    }
   ],
   "source": [
    "numbers = [1,3,5,4,8,2,6,9]\n",
    "for i in range(len(numbers)):\n",
    "    print('index', i)\n",
    "    print('number', numbers[i])"
   ]
  },
  {
   "cell_type": "code",
   "execution_count": 26,
   "id": "173133cb",
   "metadata": {},
   "outputs": [
    {
     "name": "stdout",
     "output_type": "stream",
     "text": [
      "index 0\n",
      "Student Ally Mark 10.0\n",
      "index 1\n",
      "Student Mark Mark 50.0\n",
      "index 2\n",
      "Student Zaynah Mark 80.0\n"
     ]
    }
   ],
   "source": [
    "student_names = ['Ally', 'Mark', 'Zaynah']\n",
    "student_marks = [0.1, 0.5, 0.8]\n",
    "\n",
    "for i in range(len(student_names)):\n",
    "    print('index', i)\n",
    "    percentage = student_marks[i] * 100\n",
    "    print('Student', student_names[i], 'Mark', percentage)"
   ]
  },
  {
   "cell_type": "code",
   "execution_count": 27,
   "id": "c8a5b0ca",
   "metadata": {},
   "outputs": [
    {
     "name": "stdout",
     "output_type": "stream",
     "text": [
      "index 0\n",
      "Student Ally Mark 10.0\n",
      "index 1\n",
      "Student Mark Mark 50.0\n",
      "index 2\n"
     ]
    },
    {
     "ename": "IndexError",
     "evalue": "list index out of range",
     "output_type": "error",
     "traceback": [
      "\u001b[0;31m---------------------------------------------------------------------------\u001b[0m",
      "\u001b[0;31mIndexError\u001b[0m                                Traceback (most recent call last)",
      "\u001b[0;32m<ipython-input-27-9a46d0a4839e>\u001b[0m in \u001b[0;36m<module>\u001b[0;34m\u001b[0m\n\u001b[1;32m      4\u001b[0m \u001b[0;32mfor\u001b[0m \u001b[0mi\u001b[0m \u001b[0;32min\u001b[0m \u001b[0mrange\u001b[0m\u001b[0;34m(\u001b[0m\u001b[0mlen\u001b[0m\u001b[0;34m(\u001b[0m\u001b[0mstudent_names\u001b[0m\u001b[0;34m)\u001b[0m\u001b[0;34m)\u001b[0m\u001b[0;34m:\u001b[0m\u001b[0;34m\u001b[0m\u001b[0;34m\u001b[0m\u001b[0m\n\u001b[1;32m      5\u001b[0m     \u001b[0mprint\u001b[0m\u001b[0;34m(\u001b[0m\u001b[0;34m'index'\u001b[0m\u001b[0;34m,\u001b[0m \u001b[0mi\u001b[0m\u001b[0;34m)\u001b[0m\u001b[0;34m\u001b[0m\u001b[0;34m\u001b[0m\u001b[0m\n\u001b[0;32m----> 6\u001b[0;31m     \u001b[0mpercentage\u001b[0m \u001b[0;34m=\u001b[0m \u001b[0mstudent_marks\u001b[0m\u001b[0;34m[\u001b[0m\u001b[0mi\u001b[0m\u001b[0;34m]\u001b[0m \u001b[0;34m*\u001b[0m \u001b[0;36m100\u001b[0m\u001b[0;34m\u001b[0m\u001b[0;34m\u001b[0m\u001b[0m\n\u001b[0m\u001b[1;32m      7\u001b[0m     \u001b[0mprint\u001b[0m\u001b[0;34m(\u001b[0m\u001b[0;34m'Student'\u001b[0m\u001b[0;34m,\u001b[0m \u001b[0mstudent_names\u001b[0m\u001b[0;34m[\u001b[0m\u001b[0mi\u001b[0m\u001b[0;34m]\u001b[0m\u001b[0;34m,\u001b[0m \u001b[0;34m'Mark'\u001b[0m\u001b[0;34m,\u001b[0m \u001b[0mpercentage\u001b[0m\u001b[0;34m)\u001b[0m\u001b[0;34m\u001b[0m\u001b[0;34m\u001b[0m\u001b[0m\n",
      "\u001b[0;31mIndexError\u001b[0m: list index out of range"
     ]
    }
   ],
   "source": [
    "student_names = ['Ally', 'Mark', 'Zaynah']\n",
    "student_marks = [0.1, 0.5]\n",
    "\n",
    "for i in range(len(student_names)):\n",
    "    print('index', i)\n",
    "    percentage = student_marks[i] * 100\n",
    "    print('Student', student_names[i], 'Mark', percentage)\n",
    "    # try:\n",
    "        # statement\n",
    "    # except IndexError:\n",
    "        # do something"
   ]
  },
  {
   "cell_type": "markdown",
   "id": "798588f2",
   "metadata": {},
   "source": [
    "&nbsp;  \n",
    "\n",
    "&nbsp;  \n",
    "\n",
    "&nbsp;  \n",
    "&nbsp;  \n",
    "\n",
    "&nbsp;  \n",
    "\n",
    "&nbsp;  \n",
    "\n",
    "&nbsp;  \n",
    "&nbsp;  \n",
    "\n",
    "&nbsp;  \n",
    "&nbsp;  \n",
    "\n",
    "&nbsp;  \n",
    "\n",
    "&nbsp;  \n",
    "&nbsp;  \n",
    "&nbsp;  \n",
    "\n",
    "&nbsp;  \n",
    "\n",
    "&nbsp;  \n",
    "&nbsp;  \n",
    "\n",
    "&nbsp;  \n",
    "&nbsp;  \n",
    "\n",
    "&nbsp;  \n",
    "\n",
    "&nbsp;  \n",
    "&nbsp;  \n",
    "&nbsp;  \n",
    "&nbsp;  \n",
    "\n",
    "&nbsp;  \n",
    "\n",
    "&nbsp;  \n",
    "&nbsp;  \n",
    "\n",
    "## The Accumulator pattern turns values into one\n"
   ]
  },
  {
   "cell_type": "code",
   "execution_count": 28,
   "id": "fb04d2ac",
   "metadata": {},
   "outputs": [
    {
     "name": "stdout",
     "output_type": "stream",
     "text": [
      "45\n"
     ]
    }
   ],
   "source": [
    "# counting\n",
    "total = 0\n",
    "for number in range(10):\n",
    "    total = total + number\n",
    "print(total)"
   ]
  },
  {
   "cell_type": "code",
   "execution_count": 29,
   "id": "0c1b282f",
   "metadata": {},
   "outputs": [
    {
     "name": "stdout",
     "output_type": "stream",
     "text": [
      "number 0\n",
      "new total 0\n",
      "number 1\n",
      "new total 1\n",
      "number 2\n",
      "new total 3\n",
      "number 3\n",
      "new total 6\n",
      "number 4\n",
      "new total 10\n",
      "number 5\n",
      "new total 15\n",
      "number 6\n",
      "new total 21\n",
      "number 7\n",
      "new total 28\n",
      "number 8\n",
      "new total 36\n",
      "number 9\n",
      "new total 45\n",
      "final total 45\n"
     ]
    }
   ],
   "source": [
    "total = 0\n",
    "for number in range(10):\n",
    "    print('number', number)\n",
    "    total = total + number\n",
    "    print('new total', total)\n",
    "print('final total', total)"
   ]
  },
  {
   "cell_type": "code",
   "execution_count": 30,
   "id": "c386b050",
   "metadata": {},
   "outputs": [
    {
     "name": "stdout",
     "output_type": "stream",
     "text": [
      "index 0\n",
      "index 1\n",
      "index 2\n",
      "['Ally 10.0', 'Mark 50.0', 'Ahmed 80.0']\n"
     ]
    }
   ],
   "source": [
    "# adding to a list\n",
    "student_names_marks = []  # empty list [student names and marks]\n",
    "student_names = ['Ally', 'Mark', 'Ahmed']\n",
    "student_marks = [0.1, 0.5, 0.8]\n",
    "\n",
    "for i in range(len(student_names)):\n",
    "    print('index', i)\n",
    "    percentage = student_marks[i] * 100  # data type of float\n",
    "    information = student_names[i] + ' ' + str(percentage)\n",
    "    student_names_marks.append(information)\n",
    "    \n",
    "print(student_names_marks)"
   ]
  },
  {
   "cell_type": "markdown",
   "id": "abbe255b",
   "metadata": {},
   "source": [
    "&nbsp;  \n",
    "\n",
    "&nbsp;  \n",
    "\n",
    "&nbsp;  \n",
    "&nbsp;  \n",
    "&nbsp;  \n",
    "\n",
    "&nbsp;  \n",
    "\n",
    "&nbsp;  \n",
    "&nbsp;  \n",
    "\n",
    "&nbsp;  \n",
    "&nbsp;  \n",
    "\n",
    "&nbsp;  \n",
    "\n",
    "&nbsp;  \n",
    "&nbsp;  \n",
    "\n",
    "&nbsp;  \n",
    "\n",
    "&nbsp;  \n",
    "\n",
    "&nbsp;  \n",
    "&nbsp;  \n",
    "\n",
    "&nbsp;  \n",
    "&nbsp;  \n",
    "\n",
    "&nbsp;  \n",
    "\n",
    "&nbsp;  \n",
    "&nbsp;  \n",
    "&nbsp;  \n",
    "\n",
    "&nbsp;  \n",
    "\n",
    "&nbsp;  \n",
    "&nbsp;  \n",
    "\n",
    "&nbsp;  \n",
    "&nbsp;  \n",
    "\n",
    "&nbsp;  \n",
    "\n",
    "&nbsp;  \n",
    "&nbsp;  \n",
    "\n",
    "&nbsp;  \n",
    "&nbsp;  \n",
    "\n",
    "&nbsp;  \n",
    "\n",
    "&nbsp;  \n",
    "&nbsp;  \n",
    "\n",
    "## (Ex) Classifying errors\n",
    "\n",
    "Is an indentation error a syntax error or a runtime error?"
   ]
  },
  {
   "cell_type": "code",
   "execution_count": null,
   "id": "2760a620",
   "metadata": {},
   "outputs": [],
   "source": []
  },
  {
   "cell_type": "markdown",
   "id": "a534d8c5",
   "metadata": {},
   "source": [
    "&nbsp;  \n",
    "\n",
    "&nbsp;  \n",
    "\n",
    "&nbsp;  \n",
    "&nbsp;  \n",
    "\n",
    "&nbsp;  \n",
    "&nbsp;  \n",
    "\n",
    "&nbsp;  \n",
    "\n",
    "&nbsp;  \n",
    "&nbsp;  \n",
    "\n",
    "## (Ex) Tracing execution\n",
    "\n",
    "Create a table showing the numbers of the lines that are executed when this program runs, and the values of the variables after each line is executed."
   ]
  },
  {
   "cell_type": "code",
   "execution_count": null,
   "id": "7908c47f",
   "metadata": {},
   "outputs": [],
   "source": [
    "total = 0\n",
    "for char in \"tin\":\n",
    "    total = total + 1"
   ]
  },
  {
   "cell_type": "markdown",
   "id": "80ed1af6",
   "metadata": {},
   "source": [
    "&nbsp;  \n",
    "\n",
    "&nbsp;  \n",
    "\n",
    "&nbsp;  \n",
    "&nbsp;  \n",
    "\n",
    "&nbsp;  \n",
    "&nbsp;  \n",
    "\n",
    "&nbsp;  \n",
    "\n",
    "&nbsp;  \n",
    "&nbsp;  \n",
    "\n",
    "## (Ex) Reversing a string\n",
    "\n",
    "Fill in the blanks in the program below so that it prints “nit” (the reverse of the original character string “tin”)."
   ]
  },
  {
   "cell_type": "code",
   "execution_count": null,
   "id": "2509d9b9",
   "metadata": {},
   "outputs": [],
   "source": [
    "original = \"tin\"\n",
    "result = ____\n",
    "for char in original:\n",
    "    result = ____\n",
    "print(result)"
   ]
  },
  {
   "cell_type": "markdown",
   "id": "c04b8883",
   "metadata": {},
   "source": [
    "&nbsp;  \n",
    "\n",
    "&nbsp;  \n",
    "\n",
    "&nbsp;  \n",
    "&nbsp;  \n",
    "\n",
    "&nbsp;  \n",
    "&nbsp;  \n",
    "\n",
    "&nbsp;  \n",
    "\n",
    "&nbsp;  \n",
    "&nbsp;  \n",
    "\n",
    "## (Ex) Practice accumulating\n",
    "\n",
    "Fill in the blanks in each of the programs below to produce the indicated result."
   ]
  },
  {
   "cell_type": "code",
   "execution_count": null,
   "id": "711ad502",
   "metadata": {},
   "outputs": [],
   "source": [
    "# Total length of the strings in the list: [\"red\", \"green\", \"blue\"] => 12\n",
    "total = 0\n",
    "for word in [\"red\", \"green\", \"blue\"]:\n",
    "    ____ = ____ + len(word)\n",
    "print(total)"
   ]
  },
  {
   "cell_type": "code",
   "execution_count": null,
   "id": "f574fb0e",
   "metadata": {},
   "outputs": [],
   "source": [
    "# List of word lengths: [\"red\", \"green\", \"blue\"] => [3, 5, 4]\n",
    "lengths = ____\n",
    "for word in [\"red\", \"green\", \"blue\"]:\n",
    "    lengths.____(____)\n",
    "print(lengths)"
   ]
  },
  {
   "cell_type": "code",
   "execution_count": null,
   "id": "53506db1",
   "metadata": {},
   "outputs": [],
   "source": [
    "# Concatenate all words: [\"red\", \"green\", \"blue\"] => \"redgreenblue\"\n",
    "words = [\"red\", \"green\", \"blue\"]\n",
    "result = ____\n",
    "for ____ in ____:\n",
    "    ____\n",
    "print(result)"
   ]
  },
  {
   "cell_type": "markdown",
   "id": "850bfa75",
   "metadata": {},
   "source": [
    "&nbsp;  \n",
    "\n",
    "&nbsp;  \n",
    "\n",
    "&nbsp;  \n",
    "&nbsp;  \n",
    "\n",
    "&nbsp;  \n",
    "&nbsp;  \n",
    "\n",
    "&nbsp;  \n",
    "\n",
    "&nbsp;  \n",
    "&nbsp;  \n",
    "\n",
    "## (Ex) Create an acronym\n",
    "\n",
    "Starting from the list `['red', 'green', 'blue']`, create the acryonym \"RBG\" using a for loop.\n",
    "\n",
    "*Hint: You may need to use a string method to properly format the acronym*"
   ]
  },
  {
   "cell_type": "code",
   "execution_count": null,
   "id": "7f37aad0",
   "metadata": {},
   "outputs": [],
   "source": []
  },
  {
   "cell_type": "markdown",
   "id": "bc4f736e",
   "metadata": {},
   "source": [
    "&nbsp;  \n",
    "\n",
    "&nbsp;  \n",
    "\n",
    "&nbsp;  \n",
    "&nbsp;  \n",
    "\n",
    "&nbsp;  \n",
    "&nbsp;  \n",
    "\n",
    "&nbsp;  \n",
    "\n",
    "&nbsp;  \n",
    "&nbsp;  \n",
    "\n",
    "## (Ex) Cumulative sum\n",
    "\n",
    "Reorder and properly indent the lines of code below so that they print a list with the cumulative sum of data. The result should be `[1, 3, 5, 10]`."
   ]
  },
  {
   "cell_type": "code",
   "execution_count": null,
   "id": "b896579d",
   "metadata": {},
   "outputs": [],
   "source": [
    "cumulative.append(total)\n",
    "for number in data:\n",
    "cumulative = []\n",
    "total = total + number\n",
    "total = 0\n",
    "print(cumulative)\n",
    "data = [1,2,2,5]"
   ]
  },
  {
   "cell_type": "markdown",
   "id": "6dd293fc",
   "metadata": {},
   "source": [
    "&nbsp;  \n",
    "\n",
    "&nbsp;  \n",
    "\n",
    "&nbsp;  \n",
    "&nbsp;  \n",
    "\n",
    "&nbsp;  \n",
    "&nbsp;  \n",
    "\n",
    "&nbsp;  \n",
    "\n",
    "&nbsp;  \n",
    "&nbsp;  \n",
    "\n",
    "## (Ex) Identifying variable name errors\n",
    "\n",
    "1. Read the code below and try to identify what the errors are without running it.\n",
    "2. Run the code and read the error message. What type of `NameError` do you think this is? Is it a string with no quotes, a misspelled variable, or a variable that should have been defined but was not?\n",
    "3. Fix the error.\n",
    "4. Repeat steps 2 and 3, until you have fixed all the errors.\n"
   ]
  },
  {
   "cell_type": "code",
   "execution_count": null,
   "id": "c36c5c53",
   "metadata": {},
   "outputs": [],
   "source": [
    "for number in range(10):\n",
    "    # use a if the number is a multiple of 3, otherwise use b\n",
    "    if (Number % 3) == 0:\n",
    "        message = message + a\n",
    "    else:\n",
    "        message = message + \"b\"\n",
    "print(message)"
   ]
  },
  {
   "cell_type": "markdown",
   "id": "2c376a19",
   "metadata": {},
   "source": [
    "&nbsp;  \n",
    "\n",
    "&nbsp;  \n",
    "\n",
    "&nbsp;  \n",
    "&nbsp;  \n",
    "\n",
    "&nbsp;  \n",
    "&nbsp;  \n",
    "\n",
    "&nbsp;  \n",
    "\n",
    "&nbsp;  \n",
    "&nbsp;  \n",
    "\n",
    "## (Ex) Identifying item errors\n",
    "\n",
    "1. Read the code below and try to identify what the errors are *without* running it\n",
    "2. Run the code, and read the error message. What type of error is it?\n",
    "3. Fix the error"
   ]
  },
  {
   "cell_type": "code",
   "execution_count": null,
   "id": "1fb70972",
   "metadata": {},
   "outputs": [],
   "source": [
    "seasons = ['Spring', 'Summer', 'Fall', 'Winter']\n",
    "print('My favorite season is ', seasons[4])"
   ]
  },
  {
   "cell_type": "markdown",
   "id": "154c2770",
   "metadata": {},
   "source": [
    "&nbsp;  \n",
    "\n",
    "&nbsp;  \n",
    "\n",
    "&nbsp;  \n",
    "&nbsp;  \n",
    "\n",
    "&nbsp;  \n",
    "&nbsp;  \n",
    "\n",
    "&nbsp;  \n",
    "\n",
    "&nbsp;  \n",
    "&nbsp;  \n",
    "\n",
    "## Key points\n",
    "\n",
    "- A *for* loop executes commands once for each value in a collection.\n",
    "\n",
    "- A `for` loop is made up of a collection, a loop variable, and a body.\n",
    "\n",
    "- The first line of the for loop must end with a colon, and the body must be indented.\n",
    "\n",
    "- Indentation is always meaningful in Python.\n",
    "\n",
    "- Loop variables can be called anything (but it is strongly advised to have a meaningful name to the looping variable).\n",
    "\n",
    "- The body of a loop can contain many statements.\n",
    "\n",
    "- Use range to iterate over a sequence of numbers.\n",
    "\n",
    "- The Accumulator pattern turns many values into one.\n",
    "\n",
    "## LOs:\n",
    "\n",
    "- How can I make a program do many things?\n",
    "- Explain what loops are normally used for\n",
    "- Trace the execution of a simple (unnested) loop and correctly state the values of variables in each iteraction\n",
    "- Write for loops that use the Accumulator pattern to aggregate values\n"
   ]
  }
 ],
 "metadata": {
  "interpreter": {
   "hash": "916dbcbb3f70747c44a77c7bcd40155683ae19c65e1c03b4aa3499c5328201f1"
  },
  "kernelspec": {
   "display_name": "Python 3",
   "language": "python",
   "name": "python3"
  },
  "language_info": {
   "codemirror_mode": {
    "name": "ipython",
    "version": 3
   },
   "file_extension": ".py",
   "mimetype": "text/x-python",
   "name": "python",
   "nbconvert_exporter": "python",
   "pygments_lexer": "ipython3",
   "version": "3.8.10"
  }
 },
 "nbformat": 4,
 "nbformat_minor": 5
}
