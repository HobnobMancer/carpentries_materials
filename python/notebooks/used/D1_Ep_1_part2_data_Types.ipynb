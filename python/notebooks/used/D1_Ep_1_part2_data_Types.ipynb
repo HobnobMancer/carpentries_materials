{
 "cells": [
  {
   "cell_type": "markdown",
   "id": "f992d1a0",
   "metadata": {},
   "source": [
    "# Episode 3: Data Types and Type Conversion\n",
    "\n",
    "## [What are the different data types in Python?](https://librarycarpentry.org/lc-python-intro/03-types-conversion/index.html)\n",
    "\n",
    "## LOs:\n",
    "\n",
    "- What kinds of data to programs store?\n",
    "- How can I convert one type to another?\n",
    "- Explain key differences between\n",
    "    - Intergers and floating point numbers\n",
    "    - Numbers and character strings\n",
    "- Use built-in functions to convery between intergers, floating point numbers, and strings\n",
    "&nbsp;  \n",
    "&nbsp;  \n",
    "\n",
    "&nbsp;  \n",
    "\n",
    "&nbsp;  \n",
    "&nbsp;  \n",
    "\n",
    "&nbsp;  \n",
    "&nbsp;  \n",
    "\n",
    "&nbsp;  \n",
    "\n",
    "&nbsp;  \n",
    "&nbsp;  \n",
    "\n",
    "## Every value has a type\n",
    "\n",
    "**Interger**, `int`\n",
    "\n",
    "**Floating point number**, `float`\n",
    "\n",
    "**Character string (string)**, `str`  "
   ]
  },
  {
   "cell_type": "code",
   "execution_count": 1,
   "id": "aa386a66",
   "metadata": {},
   "outputs": [],
   "source": [
    "intergers = 3\n",
    "float_number = 0.3\n",
    "char_str = \"Jack\"\n",
    "char_str_two = 'Alex'"
   ]
  },
  {
   "cell_type": "markdown",
   "id": "36824e50",
   "metadata": {},
   "source": [
    "&nbsp; \n",
    "&nbsp;  \n",
    "&nbsp;  \n",
    "&nbsp;  \n",
    "&nbsp;  \n",
    "&nbsp;  \n",
    "\n",
    "&nbsp;  \n",
    "\n",
    "&nbsp;  \n",
    "&nbsp;  \n",
    "\n",
    "&nbsp;  \n",
    "&nbsp;  \n",
    "\n",
    "&nbsp;  \n",
    "\n",
    "&nbsp;  \n",
    "&nbsp;  \n",
    "## Use the built-in function `type` to find the type of a value\n",
    "\n",
    "*`type` works on variables as well...*"
   ]
  },
  {
   "cell_type": "code",
   "execution_count": null,
   "id": "2357c279",
   "metadata": {},
   "outputs": [],
   "source": [
    "# print() - prints output\n",
    "# len() - length of a strin\n",
    "# type() - tells the datatype of a variable or piece of data"
   ]
  },
  {
   "cell_type": "code",
   "execution_count": 2,
   "id": "2bdfdc68",
   "metadata": {},
   "outputs": [
    {
     "name": "stdout",
     "output_type": "stream",
     "text": [
      "<class 'int'>\n"
     ]
    }
   ],
   "source": [
    "age = 56\n",
    "print(type(age))"
   ]
  },
  {
   "cell_type": "code",
   "execution_count": 3,
   "id": "213015de",
   "metadata": {},
   "outputs": [
    {
     "name": "stdout",
     "output_type": "stream",
     "text": [
      "<class 'float'>\n"
     ]
    }
   ],
   "source": [
    "age = 16.3\n",
    "print(type(age))"
   ]
  },
  {
   "cell_type": "markdown",
   "id": "6d5f1be5",
   "metadata": {},
   "source": [
    "&nbsp;  \n",
    "&nbsp;  \n",
    "\n",
    "&nbsp;  \n",
    "\n",
    "&nbsp;  \n",
    "&nbsp;  \n",
    "\n",
    "&nbsp;  \n",
    "&nbsp;  \n",
    "\n",
    "&nbsp;  \n",
    "\n",
    "&nbsp;  \n",
    "&nbsp;  \n",
    "## Why should I care?\n"
   ]
  },
  {
   "cell_type": "code",
   "execution_count": 4,
   "id": "b8fd69fc",
   "metadata": {},
   "outputs": [
    {
     "name": "stdout",
     "output_type": "stream",
     "text": [
      "2\n"
     ]
    }
   ],
   "source": [
    "number_5 = 5\n",
    "number_3 = 3\n",
    "print(5 - 3)"
   ]
  },
  {
   "cell_type": "code",
   "execution_count": 5,
   "id": "b02bcee4",
   "metadata": {},
   "outputs": [
    {
     "ename": "TypeError",
     "evalue": "unsupported operand type(s) for -: 'str' and 'str'",
     "output_type": "error",
     "traceback": [
      "\u001b[0;31m---------------------------------------------------------------------------\u001b[0m",
      "\u001b[0;31mTypeError\u001b[0m                                 Traceback (most recent call last)",
      "\u001b[0;32m<ipython-input-5-35e8597b28d6>\u001b[0m in \u001b[0;36m<module>\u001b[0;34m\u001b[0m\n\u001b[0;32m----> 1\u001b[0;31m \u001b[0mprint\u001b[0m\u001b[0;34m(\u001b[0m\u001b[0;34m'hello'\u001b[0m \u001b[0;34m-\u001b[0m \u001b[0;34m'h'\u001b[0m\u001b[0;34m)\u001b[0m\u001b[0;34m\u001b[0m\u001b[0;34m\u001b[0m\u001b[0m\n\u001b[0m",
      "\u001b[0;31mTypeError\u001b[0m: unsupported operand type(s) for -: 'str' and 'str'"
     ]
    }
   ],
   "source": [
    "print('hello' - 'h')"
   ]
  },
  {
   "cell_type": "markdown",
   "id": "52005115",
   "metadata": {},
   "source": [
    "&nbsp;  \n",
    "&nbsp;  \n",
    "\n",
    "&nbsp;  \n",
    "\n",
    "&nbsp;  \n",
    "&nbsp;  \n",
    "&nbsp;  \n",
    "&nbsp;  \n",
    "\n",
    "&nbsp;  \n",
    "\n",
    "&nbsp;  \n",
    "&nbsp;  \n",
    "\n",
    "## You can use the '+' and '*' operators on strings\n",
    "\n",
    "### Adding strings together: Concatenating strings"
   ]
  },
  {
   "cell_type": "code",
   "execution_count": 6,
   "id": "5b11f2cc",
   "metadata": {},
   "outputs": [
    {
     "name": "stdout",
     "output_type": "stream",
     "text": [
      "Alex Alex Alex Alex\n"
     ]
    }
   ],
   "source": [
    "name = 'Alex'\n",
    "print(name, name, name, name)"
   ]
  },
  {
   "cell_type": "code",
   "execution_count": 7,
   "id": "e890ef05",
   "metadata": {},
   "outputs": [
    {
     "name": "stdout",
     "output_type": "stream",
     "text": [
      "AlexAlexAlexAlexAlexAlexAlexAlexAlexAlex\n"
     ]
    }
   ],
   "source": [
    "print(name * 10)"
   ]
  },
  {
   "cell_type": "code",
   "execution_count": 8,
   "id": "580a826d",
   "metadata": {},
   "outputs": [
    {
     "name": "stdout",
     "output_type": "stream",
     "text": [
      "==========\n"
     ]
    }
   ],
   "source": [
    "separator = '='*10\n",
    "print(separator)"
   ]
  },
  {
   "cell_type": "code",
   "execution_count": 9,
   "id": "5b4687c8",
   "metadata": {},
   "outputs": [
    {
     "name": "stdout",
     "output_type": "stream",
     "text": [
      "Lucy Hobbs LucyHobbs\n"
     ]
    }
   ],
   "source": [
    "# add strings together\n",
    "first_name = 'Lucy'\n",
    "surname_name = 'Hobbs'\n",
    "full_name = first_name + surname_name\n",
    "print(first_name, surname_name, full_name)"
   ]
  },
  {
   "cell_type": "code",
   "execution_count": 10,
   "id": "eefe548f",
   "metadata": {},
   "outputs": [
    {
     "name": "stdout",
     "output_type": "stream",
     "text": [
      "Lucy Hobbs\n"
     ]
    }
   ],
   "source": [
    "full_name = first_name + ' ' + surname_name\n",
    "print(full_name)"
   ]
  },
  {
   "cell_type": "markdown",
   "id": "57315013",
   "metadata": {},
   "source": [
    "&nbsp;  \n",
    "&nbsp;  \n",
    "\n",
    "&nbsp;  \n",
    "\n",
    "&nbsp;  \n",
    "\n",
    "&nbsp;  \n",
    "&nbsp;  \n",
    "\n",
    "&nbsp;  \n",
    "\n",
    "&nbsp;  \n",
    "&nbsp;  \n",
    "\n",
    "&nbsp;  \n",
    "\n",
    "\n",
    "### Multipling strings and characters\n",
    "\n"
   ]
  },
  {
   "cell_type": "code",
   "execution_count": null,
   "id": "3d2856f8",
   "metadata": {},
   "outputs": [],
   "source": []
  },
  {
   "cell_type": "markdown",
   "id": "a697ee3e",
   "metadata": {},
   "source": [
    "&nbsp;  \n",
    "&nbsp;  \n",
    "\n",
    "&nbsp;  \n",
    "\n",
    "&nbsp;  \n",
    "&nbsp;  \n",
    "&nbsp;  \n",
    "&nbsp;  \n",
    "\n",
    "&nbsp;  \n",
    "\n",
    "&nbsp;  \n",
    "&nbsp;  \n",
    "## Strings have a length (but numbers DON'T)\n",
    "*Recap on using the built-in function `len` from episode 2*"
   ]
  },
  {
   "cell_type": "code",
   "execution_count": 11,
   "id": "0ccda274",
   "metadata": {},
   "outputs": [
    {
     "name": "stdout",
     "output_type": "stream",
     "text": [
      "Lucy\n"
     ]
    }
   ],
   "source": [
    "# length() - R\n",
    "# len() - R\n",
    "print(first_name)"
   ]
  },
  {
   "cell_type": "code",
   "execution_count": 12,
   "id": "374a4535",
   "metadata": {},
   "outputs": [
    {
     "data": {
      "text/plain": [
       "4"
      ]
     },
     "execution_count": 12,
     "metadata": {},
     "output_type": "execute_result"
    }
   ],
   "source": [
    "len(first_name)"
   ]
  },
  {
   "cell_type": "code",
   "execution_count": 13,
   "id": "cf717eae",
   "metadata": {},
   "outputs": [
    {
     "name": "stdout",
     "output_type": "stream",
     "text": [
      "16.3\n"
     ]
    }
   ],
   "source": [
    "print(age)"
   ]
  },
  {
   "cell_type": "code",
   "execution_count": 14,
   "id": "1c17ca84",
   "metadata": {},
   "outputs": [
    {
     "ename": "TypeError",
     "evalue": "object of type 'float' has no len()",
     "output_type": "error",
     "traceback": [
      "\u001b[0;31m---------------------------------------------------------------------------\u001b[0m",
      "\u001b[0;31mTypeError\u001b[0m                                 Traceback (most recent call last)",
      "\u001b[0;32m<ipython-input-14-8051ad298bc4>\u001b[0m in \u001b[0;36m<module>\u001b[0;34m\u001b[0m\n\u001b[0;32m----> 1\u001b[0;31m \u001b[0mprint\u001b[0m\u001b[0;34m(\u001b[0m\u001b[0mlen\u001b[0m\u001b[0;34m(\u001b[0m\u001b[0mage\u001b[0m\u001b[0;34m)\u001b[0m\u001b[0;34m)\u001b[0m\u001b[0;34m\u001b[0m\u001b[0;34m\u001b[0m\u001b[0m\n\u001b[0m",
      "\u001b[0;31mTypeError\u001b[0m: object of type 'float' has no len()"
     ]
    }
   ],
   "source": [
    "print(len(age))"
   ]
  },
  {
   "cell_type": "code",
   "execution_count": 15,
   "id": "42aeffa1",
   "metadata": {},
   "outputs": [
    {
     "ename": "TypeError",
     "evalue": "object of type 'int' has no len()",
     "output_type": "error",
     "traceback": [
      "\u001b[0;31m---------------------------------------------------------------------------\u001b[0m",
      "\u001b[0;31mTypeError\u001b[0m                                 Traceback (most recent call last)",
      "\u001b[0;32m<ipython-input-15-951f339ddc96>\u001b[0m in \u001b[0;36m<module>\u001b[0;34m\u001b[0m\n\u001b[1;32m      1\u001b[0m \u001b[0mage\u001b[0m \u001b[0;34m=\u001b[0m \u001b[0;36m63\u001b[0m\u001b[0;34m\u001b[0m\u001b[0;34m\u001b[0m\u001b[0m\n\u001b[0;32m----> 2\u001b[0;31m \u001b[0mprint\u001b[0m\u001b[0;34m(\u001b[0m\u001b[0mlen\u001b[0m\u001b[0;34m(\u001b[0m\u001b[0mage\u001b[0m\u001b[0;34m)\u001b[0m\u001b[0;34m)\u001b[0m\u001b[0;34m\u001b[0m\u001b[0;34m\u001b[0m\u001b[0m\n\u001b[0m",
      "\u001b[0;31mTypeError\u001b[0m: object of type 'int' has no len()"
     ]
    }
   ],
   "source": [
    "age = 63\n",
    "print(len(age))"
   ]
  },
  {
   "cell_type": "markdown",
   "id": "f3e467a8",
   "metadata": {},
   "source": [
    "&nbsp;  \n",
    "&nbsp;  \n",
    "\n",
    "&nbsp;  \n",
    "\n",
    "&nbsp;  \n",
    "&nbsp;  \n",
    "&nbsp;  \n",
    "&nbsp;  \n",
    "\n",
    "&nbsp;  \n",
    "\n",
    "&nbsp;  \n",
    "&nbsp;  \n",
    "\n",
    "&nbsp;  \n",
    "&nbsp;  \n",
    "\n",
    "&nbsp;  \n",
    "\n",
    "&nbsp;  \n",
    "&nbsp;  \n",
    "## Converting between data types.\n"
   ]
  },
  {
   "cell_type": "code",
   "execution_count": 16,
   "id": "67cceb05",
   "metadata": {},
   "outputs": [
    {
     "ename": "TypeError",
     "evalue": "unsupported operand type(s) for +: 'int' and 'str'",
     "output_type": "error",
     "traceback": [
      "\u001b[0;31m---------------------------------------------------------------------------\u001b[0m",
      "\u001b[0;31mTypeError\u001b[0m                                 Traceback (most recent call last)",
      "\u001b[0;32m<ipython-input-16-44a4697c6e63>\u001b[0m in \u001b[0;36m<module>\u001b[0;34m\u001b[0m\n\u001b[1;32m      2\u001b[0m \u001b[0msection_group\u001b[0m \u001b[0;34m=\u001b[0m \u001b[0;34m'A'\u001b[0m\u001b[0;34m\u001b[0m\u001b[0;34m\u001b[0m\u001b[0m\n\u001b[1;32m      3\u001b[0m \u001b[0;31m# 1A\u001b[0m\u001b[0;34m\u001b[0m\u001b[0;34m\u001b[0m\u001b[0;34m\u001b[0m\u001b[0m\n\u001b[0;32m----> 4\u001b[0;31m \u001b[0mprint\u001b[0m\u001b[0;34m(\u001b[0m\u001b[0msection_num\u001b[0m \u001b[0;34m+\u001b[0m \u001b[0msection_group\u001b[0m\u001b[0;34m)\u001b[0m\u001b[0;34m\u001b[0m\u001b[0;34m\u001b[0m\u001b[0m\n\u001b[0m",
      "\u001b[0;31mTypeError\u001b[0m: unsupported operand type(s) for +: 'int' and 'str'"
     ]
    }
   ],
   "source": [
    "section_num = 1\n",
    "section_group = 'A'\n",
    "# 1A\n",
    "print(section_num + section_group)"
   ]
  },
  {
   "cell_type": "code",
   "execution_count": 17,
   "id": "e821c268",
   "metadata": {},
   "outputs": [
    {
     "name": "stdout",
     "output_type": "stream",
     "text": [
      "<class 'int'>\n"
     ]
    }
   ],
   "source": [
    "print(type(section_num))"
   ]
  },
  {
   "cell_type": "code",
   "execution_count": 18,
   "id": "3d4ee326",
   "metadata": {},
   "outputs": [
    {
     "name": "stdout",
     "output_type": "stream",
     "text": [
      "1A\n"
     ]
    }
   ],
   "source": [
    "# str()\n",
    "print(str(section_num) + section_group)"
   ]
  },
  {
   "cell_type": "code",
   "execution_count": 19,
   "id": "e38b0fe4",
   "metadata": {},
   "outputs": [
    {
     "name": "stdout",
     "output_type": "stream",
     "text": [
      "<class 'str'>\n"
     ]
    }
   ],
   "source": [
    "print(type(str(section_num)))"
   ]
  },
  {
   "cell_type": "code",
   "execution_count": null,
   "id": "3c900d2b",
   "metadata": {},
   "outputs": [],
   "source": []
  },
  {
   "cell_type": "code",
   "execution_count": 20,
   "id": "748a79e4",
   "metadata": {},
   "outputs": [
    {
     "name": "stdout",
     "output_type": "stream",
     "text": [
      "<class 'str'>\n"
     ]
    }
   ],
   "source": [
    "group_num = '2'\n",
    "print(type(group_num))"
   ]
  },
  {
   "cell_type": "code",
   "execution_count": 21,
   "id": "40d258cf",
   "metadata": {},
   "outputs": [
    {
     "ename": "TypeError",
     "evalue": "can only concatenate str (not \"int\") to str",
     "output_type": "error",
     "traceback": [
      "\u001b[0;31m---------------------------------------------------------------------------\u001b[0m",
      "\u001b[0;31mTypeError\u001b[0m                                 Traceback (most recent call last)",
      "\u001b[0;32m<ipython-input-21-dab88d5c9aa0>\u001b[0m in \u001b[0;36m<module>\u001b[0;34m\u001b[0m\n\u001b[0;32m----> 1\u001b[0;31m \u001b[0mprint\u001b[0m\u001b[0;34m(\u001b[0m\u001b[0mgroup_num\u001b[0m \u001b[0;34m+\u001b[0m \u001b[0;36m2\u001b[0m\u001b[0;34m)\u001b[0m\u001b[0;34m\u001b[0m\u001b[0;34m\u001b[0m\u001b[0m\n\u001b[0m",
      "\u001b[0;31mTypeError\u001b[0m: can only concatenate str (not \"int\") to str"
     ]
    }
   ],
   "source": [
    "print(group_num + 2)"
   ]
  },
  {
   "cell_type": "code",
   "execution_count": null,
   "id": "8ed290f0",
   "metadata": {},
   "outputs": [],
   "source": [
    "# str() - converts data to a string\n",
    "# int() - converts data to an interger"
   ]
  },
  {
   "cell_type": "code",
   "execution_count": 22,
   "id": "96188400",
   "metadata": {},
   "outputs": [
    {
     "name": "stdout",
     "output_type": "stream",
     "text": [
      "4\n"
     ]
    }
   ],
   "source": [
    "print(int(group_num) + 2)"
   ]
  },
  {
   "cell_type": "code",
   "execution_count": 23,
   "id": "ba80c061",
   "metadata": {},
   "outputs": [
    {
     "name": "stdout",
     "output_type": "stream",
     "text": [
      "<class 'int'>\n"
     ]
    }
   ],
   "source": [
    "print(type(int(group_num)))"
   ]
  },
  {
   "cell_type": "markdown",
   "id": "91492d5b",
   "metadata": {},
   "source": [
    "&nbsp;  \n",
    "&nbsp;  \n",
    "\n",
    "&nbsp;  \n",
    "\n",
    "&nbsp;  \n",
    "&nbsp;  \n",
    "&nbsp;  \n",
    "&nbsp;  \n",
    "\n",
    "&nbsp;  \n",
    "\n",
    "&nbsp;  \n",
    "&nbsp;  \n",
    "We can convert the data type by using the type name as a function...  \n",
    "`int()`  \n",
    "`float()`  \n",
    "`str()`  "
   ]
  },
  {
   "cell_type": "code",
   "execution_count": 24,
   "id": "14b090fb",
   "metadata": {},
   "outputs": [
    {
     "name": "stdout",
     "output_type": "stream",
     "text": [
      "2\n"
     ]
    }
   ],
   "source": [
    "print(group_num)"
   ]
  },
  {
   "cell_type": "code",
   "execution_count": 25,
   "id": "b7c5bc36",
   "metadata": {},
   "outputs": [
    {
     "name": "stdout",
     "output_type": "stream",
     "text": [
      "2.0\n"
     ]
    }
   ],
   "source": [
    "# float = decimals\n",
    "print(float(group_num))"
   ]
  },
  {
   "cell_type": "code",
   "execution_count": 26,
   "id": "52ef738c",
   "metadata": {},
   "outputs": [
    {
     "name": "stdout",
     "output_type": "stream",
     "text": [
      "2.0\n"
     ]
    }
   ],
   "source": [
    "group_num_float = float(group_num)\n",
    "print(group_num_float)"
   ]
  },
  {
   "cell_type": "code",
   "execution_count": 27,
   "id": "4fa0cc22",
   "metadata": {},
   "outputs": [
    {
     "data": {
      "text/plain": [
       "2.0"
      ]
     },
     "execution_count": 27,
     "metadata": {},
     "output_type": "execute_result"
    }
   ],
   "source": [
    "group_num_float"
   ]
  },
  {
   "cell_type": "code",
   "execution_count": 28,
   "id": "5b22283c",
   "metadata": {},
   "outputs": [
    {
     "data": {
      "text/plain": [
       "2.0"
      ]
     },
     "execution_count": 28,
     "metadata": {},
     "output_type": "execute_result"
    }
   ],
   "source": [
    "age\n",
    "group_num_float"
   ]
  },
  {
   "cell_type": "markdown",
   "id": "e081165c",
   "metadata": {},
   "source": [
    "&nbsp;  \n",
    "&nbsp;  \n",
    "\n",
    "&nbsp;  \n",
    "\n",
    "&nbsp;  \n",
    "&nbsp;  \n",
    "\n",
    "&nbsp;  \n",
    "&nbsp;  \n",
    "\n",
    "&nbsp;  \n",
    "\n",
    "&nbsp;  \n",
    "&nbsp;  \n",
    "\n",
    "## We can intermix number data types (intergers and floats)\n"
   ]
  },
  {
   "cell_type": "code",
   "execution_count": null,
   "id": "a5358d3d",
   "metadata": {},
   "outputs": [],
   "source": []
  },
  {
   "cell_type": "markdown",
   "id": "490f5a43",
   "metadata": {},
   "source": [
    "&nbsp;  \n",
    "&nbsp;  \n",
    "\n",
    "&nbsp;  \n",
    "\n",
    "&nbsp;  \n",
    "&nbsp;  \n",
    "&nbsp;  \n",
    "&nbsp;  \n",
    "\n",
    "&nbsp;  \n",
    "\n",
    "&nbsp;  \n",
    "&nbsp;  \n",
    "\n",
    "## Variables only change value when something is assigned to them\n",
    "*Think back to when we sliced strings in episode 2*  \n"
   ]
  },
  {
   "cell_type": "code",
   "execution_count": null,
   "id": "f498f08f",
   "metadata": {},
   "outputs": [],
   "source": []
  },
  {
   "cell_type": "markdown",
   "id": "4bb406d7",
   "metadata": {},
   "source": [
    "&nbsp;  \n",
    "&nbsp;  \n",
    "\n",
    "&nbsp;  \n",
    "\n",
    "&nbsp;  \n",
    "&nbsp;  \n",
    "&nbsp;  \n",
    "&nbsp;  \n",
    "\n",
    "&nbsp;  \n",
    "\n",
    "&nbsp;  \n",
    "&nbsp;  \n",
    "## (Ex) Fractions \n",
    "\n",
    "*Practise identifying data types.*\n",
    "\n",
    "What type of value is 3.4?  \n",
    "How can you find out?  \n"
   ]
  },
  {
   "cell_type": "code",
   "execution_count": null,
   "id": "9cabe534",
   "metadata": {},
   "outputs": [],
   "source": []
  },
  {
   "cell_type": "markdown",
   "id": "272ece6d",
   "metadata": {},
   "source": [
    "&nbsp;  \n",
    "&nbsp;  \n",
    "\n",
    "&nbsp;  \n",
    "\n",
    "&nbsp;  \n",
    "&nbsp;  \n",
    "## (Ex) Automatic Type Conversion\n",
    "\n",
    "*Practise identifying data types and using numeric data types.*\n",
    "\n",
    "What type of value is `3.25+4`?"
   ]
  },
  {
   "cell_type": "code",
   "execution_count": null,
   "id": "aa0e9c9d",
   "metadata": {},
   "outputs": [],
   "source": []
  },
  {
   "cell_type": "markdown",
   "id": "acc7f953",
   "metadata": {},
   "source": [
    "&nbsp;  \n",
    "&nbsp;  \n",
    "\n",
    "&nbsp;  \n",
    "\n",
    "&nbsp;  \n",
    "&nbsp;  \n",
    "\n",
    "## (Ex) Choose a Type\n",
    "\n",
    "*Practise identifying types, and understanding of the different operations applicable to the different data types.* \n",
    "\n",
    "What type of value (integer, floating point number, or character string) would you use to represent each of the following? Try to come up with more than one good answer for each problem. For example, in # 1, when would counting days with a floating point variable make more sense than using an integer?\n",
    "\n",
    "1. Number of days since the start of the year.\n",
    "2. Time elapsed from the start of the year until now in days.\n",
    "3. Serial number of a piece of lab equipment.\n",
    "4. A lab specimen’s age\n",
    "5. Current population of a city.\n",
    "6. Average population of a city over time.\n",
    "\n",
    "&nbsp;  \n",
    "&nbsp;  \n",
    "\n",
    "&nbsp;  \n",
    "\n",
    "&nbsp;  \n",
    "&nbsp;  \n",
    "&nbsp;  \n",
    "&nbsp;  \n",
    "\n",
    "&nbsp;  \n",
    "\n",
    "&nbsp;  \n",
    "&nbsp;  \n",
    "\n",
    "## (Ex) Division Types\n",
    "\n",
    "In Python 3, the `//` operator performs integer (whole-number) floor division, the `/` operator performs floating-point division, and the `%` (or modulo) operator calculates and returns the remainder from integer division:"
   ]
  },
  {
   "cell_type": "code",
   "execution_count": 1,
   "id": "5c44fb9a",
   "metadata": {},
   "outputs": [
    {
     "name": "stdout",
     "output_type": "stream",
     "text": [
      "5 // 3: 1\n",
      "5 / 3: 1.6666666666666667\n",
      "5 % 3: 2\n"
     ]
    }
   ],
   "source": [
    "print('5 // 3:', 5 // 3)\n",
    "print('5 / 3:', 5 / 3)\n",
    "print('5 % 3:', 5 % 3)"
   ]
  },
  {
   "cell_type": "markdown",
   "id": "2601ab24",
   "metadata": {},
   "source": [
    "If `num_subjects` is the number of subjects taking part in a study, and `num_per_survey` is the number that can take part in a single survey, write an expression that calculates the number of surveys needed to reach everyone once.\n",
    "\n"
   ]
  },
  {
   "cell_type": "code",
   "execution_count": null,
   "id": "913c50a7",
   "metadata": {},
   "outputs": [],
   "source": []
  },
  {
   "cell_type": "markdown",
   "id": "fd570332",
   "metadata": {},
   "source": [
    "&nbsp;  \n",
    "&nbsp;  \n",
    "\n",
    "&nbsp;  \n",
    "\n",
    "&nbsp;  \n",
    "&nbsp;  \n",
    "&nbsp;  \n",
    "&nbsp;  \n",
    "\n",
    "&nbsp;  \n",
    "\n",
    "&nbsp;  \n",
    "&nbsp;  \n",
    "## (Ex) Strings to Numbers\n",
    "\n",
    "Where reasonable `float()` will convert a string to a floating point number, and `int()` will convery a floating point number to an integer."
   ]
  },
  {
   "cell_type": "code",
   "execution_count": 2,
   "id": "641f20ee",
   "metadata": {},
   "outputs": [
    {
     "name": "stdout",
     "output_type": "stream",
     "text": [
      "string to float: 3.4\n",
      "float to int: 3\n"
     ]
    }
   ],
   "source": [
    "print(\"string to float:\", float(\"3.4\"))\n",
    "print(\"float to int:\", int(3.4))"
   ]
  },
  {
   "cell_type": "markdown",
   "id": "164b4771",
   "metadata": {},
   "source": [
    "If the conversion doesn't make sense, however, an error message will occur."
   ]
  },
  {
   "cell_type": "code",
   "execution_count": 3,
   "id": "99a9e6bd",
   "metadata": {},
   "outputs": [
    {
     "ename": "ValueError",
     "evalue": "could not convert string to float: 'Hello world!'",
     "output_type": "error",
     "traceback": [
      "\u001b[0;31m---------------------------------------------------------------------------\u001b[0m",
      "\u001b[0;31mValueError\u001b[0m                                Traceback (most recent call last)",
      "Input \u001b[0;32mIn [3]\u001b[0m, in \u001b[0;36m<cell line: 1>\u001b[0;34m()\u001b[0m\n\u001b[0;32m----> 1\u001b[0m \u001b[38;5;28mprint\u001b[39m(\u001b[38;5;124m\"\u001b[39m\u001b[38;5;124mstring to float:\u001b[39m\u001b[38;5;124m\"\u001b[39m, \u001b[38;5;28;43mfloat\u001b[39;49m\u001b[43m(\u001b[49m\u001b[38;5;124;43m\"\u001b[39;49m\u001b[38;5;124;43mHello world!\u001b[39;49m\u001b[38;5;124;43m\"\u001b[39;49m\u001b[43m)\u001b[49m)\n",
      "\u001b[0;31mValueError\u001b[0m: could not convert string to float: 'Hello world!'"
     ]
    }
   ],
   "source": [
    "print(\"string to float:\", float(\"Hello world!\"))"
   ]
  },
  {
   "cell_type": "markdown",
   "id": "7786733f",
   "metadata": {},
   "source": [
    "Given this information, what do you expect the following program to do?\n",
    "\n",
    "What does it actually do?\n",
    "\n",
    "Why do you think it does that?"
   ]
  },
  {
   "cell_type": "code",
   "execution_count": null,
   "id": "6eafcc1a",
   "metadata": {},
   "outputs": [],
   "source": [
    "print(\"fractional string to int:\", int(\"3.4\"))"
   ]
  },
  {
   "cell_type": "markdown",
   "id": "8cf19286",
   "metadata": {},
   "source": [
    "&nbsp;  \n",
    "&nbsp;  \n",
    "&nbsp;  \n",
    "&nbsp;  \n",
    "\n",
    "&nbsp;  \n",
    "\n",
    "&nbsp;  \n",
    "&nbsp;  \n",
    "## (Ex) Arithmetic with Different Types\n",
    "\n",
    "Which of the following will return the floating point number `2.0`?  \n",
    "*Note: there may be more than one right answer.*\n",
    "\n",
    "```\n",
    "first = 1.0\n",
    "second = \"1\"\n",
    "third = \"1.1\"\n",
    "```\n",
    "1. first + float(second)\n",
    "2. float(second) + float(third)\n",
    "3. first + int(third)\n",
    "4. first + int(float(third))\n",
    "5. int(first) + int(float(third))\n",
    "6. 2.0 * second"
   ]
  },
  {
   "cell_type": "code",
   "execution_count": null,
   "id": "7feb5087",
   "metadata": {},
   "outputs": [],
   "source": []
  },
  {
   "cell_type": "markdown",
   "id": "1ba539df",
   "metadata": {},
   "source": [
    "&nbsp;  \n",
    "&nbsp;  \n",
    "&nbsp;  \n",
    "&nbsp;  \n",
    "\n",
    "&nbsp;  \n",
    "\n",
    "&nbsp;  \n",
    "&nbsp;  \n",
    "\n",
    "## (Ex) Complex Numbers\n",
    "\n",
    "Python provides complex numbers, which are written as `1.0+2.0j`. If `val` is a complex number, its real and imaginary parts can be accessed using dot notation as `val.real` and `val.imag`."
   ]
  },
  {
   "cell_type": "code",
   "execution_count": 4,
   "id": "4b760ee3",
   "metadata": {},
   "outputs": [
    {
     "name": "stdout",
     "output_type": "stream",
     "text": [
      "6.0\n",
      "2.0\n"
     ]
    }
   ],
   "source": [
    "a_complex_number = 6 + 2j\n",
    "print(a_complex_number.real)\n",
    "print(a_complex_number.imag)"
   ]
  },
  {
   "cell_type": "markdown",
   "id": "4e6e2865",
   "metadata": {},
   "source": [
    "1. Why do you think Python uses `j` instead of `i` for the imaginary part?\n",
    "2. What do you expect `1 + 2j + 3` to produce?\n",
    "3. What do you expect `4j` to be? What about `4 j` or `4 + j`?"
   ]
  },
  {
   "cell_type": "code",
   "execution_count": null,
   "id": "ff7cad77",
   "metadata": {},
   "outputs": [],
   "source": []
  },
  {
   "cell_type": "markdown",
   "id": "d828183d",
   "metadata": {},
   "source": [
    "&nbsp;  \n",
    "&nbsp;  \n",
    "&nbsp;  \n",
    "&nbsp;  \n",
    "\n",
    "&nbsp;  \n",
    "\n",
    "&nbsp;  \n",
    "&nbsp;  \n",
    "\n",
    "## Key Points\n",
    "- Every value has a type\n",
    "- USe the built in function `type` to find the type of a value\n",
    "- Types ontrol what operations can be done on values\n",
    "- Strings can be added and multiplied\n",
    "- Strings have a length (but numbers don't)\n",
    "- Must convert numbers to strings or vice versa when operating on them\n",
    "- Can mix integers and floats freely in operations\n",
    "- Variables only change value when something is assigned to them\n",
    "\n",
    "## LOs:\n",
    "\n",
    "- What kinds of data to programs store?\n",
    "- How can I convert one type to another?\n",
    "- Explain key differences between\n",
    "    - Intergers and floating point numbers\n",
    "    - Numbers and character strings\n",
    "- Use built-in functions to convery between intergers, floating point numbers, and strings\n"
   ]
  }
 ],
 "metadata": {
  "kernelspec": {
   "display_name": "Python 3",
   "language": "python",
   "name": "python3"
  },
  "language_info": {
   "codemirror_mode": {
    "name": "ipython",
    "version": 3
   },
   "file_extension": ".py",
   "mimetype": "text/x-python",
   "name": "python",
   "nbconvert_exporter": "python",
   "pygments_lexer": "ipython3",
   "version": "3.8.10"
  }
 },
 "nbformat": 4,
 "nbformat_minor": 5
}
