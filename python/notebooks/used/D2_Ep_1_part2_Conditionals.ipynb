{
 "cells": [
  {
   "cell_type": "markdown",
   "id": "c88255e5",
   "metadata": {},
   "source": [
    "# Episode 13: Conditionals\n",
    "\n",
    "## [Doing different things for different data](http://swcarpentry.github.io/python-novice-gapminder/13-conditionals/index.html)\n",
    " \n",
    "## LOs:\n",
    "\n",
    "- How can programs do different things for different data?\n",
    "- Correctly write programs that use if and else statements and simple Boolean expressions (without logical operators)\n",
    "- Trace the execution of unnested conditionals and conditionals inside loops\n",
    " \n",
    "&nbsp;  \n",
    "\n",
    "&nbsp;  \n",
    "\n",
    "&nbsp;  \n",
    "&nbsp;  \n",
    "\n",
    "&nbsp;  \n",
    "&nbsp;  \n",
    "\n",
    "&nbsp;  \n",
    "&nbsp;  \n",
    "\n",
    "&nbsp;  \n",
    "\n",
    "&nbsp;  \n",
    "&nbsp;  \n",
    "\n",
    "&nbsp;  \n",
    "&nbsp;  \n",
    "\n",
    "&nbsp;  \n",
    "\n",
    "&nbsp;  \n",
    "&nbsp;  \n",
    "&nbsp;  \n",
    "\n",
    "&nbsp;  \n",
    "\n",
    "&nbsp;  \n",
    "&nbsp;  \n",
    "\n",
    "&nbsp;  \n",
    "&nbsp;  \n",
    "\n",
    "&nbsp;  \n",
    "\n",
    "&nbsp;  \n",
    "&nbsp;  \n",
    "\n",
    "&nbsp;  \n",
    "&nbsp;  \n",
    "\n",
    "## Use `if` statements to control whether or not a block of code is executed\n"
   ]
  },
  {
   "cell_type": "code",
   "execution_count": 1,
   "id": "9cdb305c",
   "metadata": {},
   "outputs": [
    {
     "name": "stdout",
     "output_type": "stream",
     "text": [
      "3.54 is large\n"
     ]
    }
   ],
   "source": [
    "# for loop\n",
    "# for for_loop_variable in collection:\n",
    "# if statement\n",
    "mass = 3.54\n",
    "\n",
    "# is mass greater than 3?\n",
    "if mass > 3.0:  # ends with a colon\n",
    "    # indented like a for loop\n",
    "    print(mass, 'is large')"
   ]
  },
  {
   "cell_type": "code",
   "execution_count": 2,
   "id": "40f25501",
   "metadata": {},
   "outputs": [
    {
     "name": "stdout",
     "output_type": "stream",
     "text": [
      "5.54 is large\n"
     ]
    }
   ],
   "source": [
    "# use indenting to indicate the start and end of the if code block\n",
    "mass = 5.54\n",
    "if mass > 3.0:\n",
    "    print(mass, 'is large')\n",
    "\n",
    "mass = 2.1\n",
    "if mass > 3.0:\n",
    "    print(mass, 'is large')"
   ]
  },
  {
   "cell_type": "code",
   "execution_count": 3,
   "id": "bc7c80b5",
   "metadata": {},
   "outputs": [
    {
     "ename": "IndentationError",
     "evalue": "expected an indented block (<ipython-input-3-89522c3e953e>, line 2)",
     "output_type": "error",
     "traceback": [
      "\u001b[0;36m  File \u001b[0;32m\"<ipython-input-3-89522c3e953e>\"\u001b[0;36m, line \u001b[0;32m2\u001b[0m\n\u001b[0;31m    print(number)\u001b[0m\n\u001b[0m    ^\u001b[0m\n\u001b[0;31mIndentationError\u001b[0m\u001b[0;31m:\u001b[0m expected an indented block\n"
     ]
    }
   ],
   "source": [
    "for number in range(10):\n",
    "print(number)"
   ]
  },
  {
   "cell_type": "code",
   "execution_count": 4,
   "id": "4da6d09d",
   "metadata": {},
   "outputs": [
    {
     "ename": "IndentationError",
     "evalue": "expected an indented block (<ipython-input-4-b5caf4ff2aa4>, line 3)",
     "output_type": "error",
     "traceback": [
      "\u001b[0;36m  File \u001b[0;32m\"<ipython-input-4-b5caf4ff2aa4>\"\u001b[0;36m, line \u001b[0;32m3\u001b[0m\n\u001b[0;31m    print(mass)\u001b[0m\n\u001b[0m    ^\u001b[0m\n\u001b[0;31mIndentationError\u001b[0m\u001b[0;31m:\u001b[0m expected an indented block\n"
     ]
    }
   ],
   "source": [
    "mass = 2\n",
    "if mass > 1:\n",
    "print(mass)"
   ]
  },
  {
   "cell_type": "markdown",
   "id": "9ed62880",
   "metadata": {},
   "source": [
    "&nbsp;  \n",
    "\n",
    "&nbsp;  \n",
    "\n",
    "&nbsp;  \n",
    "&nbsp;  \n",
    "\n",
    "&nbsp;  \n",
    "&nbsp;  \n",
    "\n",
    "&nbsp;  \n",
    "\n",
    "&nbsp;  \n",
    "&nbsp;  \n",
    "&nbsp;  \n",
    "\n",
    "&nbsp;  \n",
    "\n",
    "&nbsp;  \n",
    "&nbsp;  \n",
    "\n",
    "&nbsp;  \n",
    "&nbsp;  \n",
    "\n",
    "&nbsp;  \n",
    "\n",
    "&nbsp;  \n",
    "&nbsp;  &nbsp;  \n",
    "\n",
    "&nbsp;  \n",
    "\n",
    "&nbsp;  \n",
    "&nbsp;  \n",
    "\n",
    "&nbsp;  \n",
    "&nbsp;  \n",
    "\n",
    "&nbsp;  \n",
    "\n",
    "&nbsp;  \n",
    "&nbsp;  \n",
    "\n",
    "## Conditionals are often used inside loops"
   ]
  },
  {
   "cell_type": "code",
   "execution_count": 5,
   "id": "1cd09652",
   "metadata": {},
   "outputs": [
    {
     "name": "stdout",
     "output_type": "stream",
     "text": [
      "3.54 is large\n",
      "3.6 is large\n"
     ]
    }
   ],
   "source": [
    "masses = [3.54, 2.07, 1.5, 3.6, 1.2]\n",
    "\n",
    "#for loop\n",
    "for m in masses:\n",
    "    if m > 3:\n",
    "        print(m, 'is large')"
   ]
  },
  {
   "cell_type": "code",
   "execution_count": 6,
   "id": "74bed8c7",
   "metadata": {},
   "outputs": [
    {
     "name": "stdout",
     "output_type": "stream",
     "text": [
      "2.07 is small\n",
      "1.5 is small\n",
      "1.2 is small\n"
     ]
    }
   ],
   "source": [
    "for m in masses:\n",
    "    if m < 3:\n",
    "        print(m, 'is small')"
   ]
  },
  {
   "cell_type": "code",
   "execution_count": 8,
   "id": "badd6609",
   "metadata": {},
   "outputs": [
    {
     "name": "stdout",
     "output_type": "stream",
     "text": [
      "1.5 is 1.5\n"
     ]
    }
   ],
   "source": [
    "# equal, exactly equal\n",
    "for m in masses:\n",
    "    if m == 1.5:\n",
    "        print(m, 'is 1.5')"
   ]
  },
  {
   "cell_type": "code",
   "execution_count": 9,
   "id": "5c3debb8",
   "metadata": {},
   "outputs": [
    {
     "name": "stdout",
     "output_type": "stream",
     "text": [
      "3.54 is greater than or equal to 3\n",
      "3.6 is greater than or equal to 3\n"
     ]
    }
   ],
   "source": [
    "# masses = [3.54, 2.07, 1.5, 3.6, 1.2]\n",
    "# greater than or equal to >=\n",
    "for m in masses:\n",
    "    if m >= 3:\n",
    "        print(m, 'is greater than or equal to 3')"
   ]
  },
  {
   "cell_type": "code",
   "execution_count": 10,
   "id": "d3cb5951",
   "metadata": {},
   "outputs": [
    {
     "name": "stdout",
     "output_type": "stream",
     "text": [
      "2.07 is less than or equal to 3\n",
      "1.5 is less than or equal to 3\n",
      "1.2 is less than or equal to 3\n"
     ]
    }
   ],
   "source": [
    "# less than or equal to <=\n",
    "for m in masses:\n",
    "    if m <= 3:\n",
    "        print(m, 'is less than or equal to 3')"
   ]
  },
  {
   "cell_type": "markdown",
   "id": "7a47129e",
   "metadata": {},
   "source": [
    "&nbsp;  \n",
    "\n",
    "&nbsp;  \n",
    "\n",
    "&nbsp;  \n",
    "&nbsp;  \n",
    "&nbsp;  \n",
    "\n",
    "&nbsp;  \n",
    "\n",
    "&nbsp;  \n",
    "&nbsp;  \n",
    "\n",
    "&nbsp;  \n",
    "&nbsp;  \n",
    "\n",
    "&nbsp;  \n",
    "\n",
    "&nbsp;  \n",
    "&nbsp;  \n",
    "\n",
    "&nbsp;  \n",
    "\n",
    "&nbsp;  \n",
    "&nbsp;  \n",
    "\n",
    "&nbsp;  \n",
    "&nbsp;  \n",
    "\n",
    "&nbsp;  \n",
    "\n",
    "&nbsp;  \n",
    "\n",
    "&nbsp;  \n",
    "&nbsp;  \n",
    "\n",
    "&nbsp;  \n",
    "\n",
    "&nbsp;  \n",
    "&nbsp;  \n",
    "\n",
    "## Use `else` to execute a block of code when an `if` condition is *not* true\n"
   ]
  },
  {
   "cell_type": "code",
   "execution_count": 11,
   "id": "22b86bfb",
   "metadata": {},
   "outputs": [
    {
     "name": "stdout",
     "output_type": "stream",
     "text": [
      "3.54 is large\n",
      "2.07 is small\n",
      "9.22 is large\n",
      "1.86 is small\n",
      "1.71 is small\n"
     ]
    }
   ],
   "source": [
    "masses = [3.54, 2.07, 9.22, 1.86, 1.71]\n",
    "\n",
    "for mass in masses:\n",
    "    if mass > 3:\n",
    "        print(mass, 'is large')\n",
    "        # indented code here is related to the if statement\n",
    "        # and runs if the is statemetn condition is met\n",
    "    else:  # needs to be on the same level as if\n",
    "        # code to run if our if statement is not met\n",
    "        print(mass, 'is small')\n",
    "    "
   ]
  },
  {
   "cell_type": "code",
   "execution_count": 12,
   "id": "2269c87e",
   "metadata": {},
   "outputs": [
    {
     "name": "stdout",
     "output_type": "stream",
     "text": [
      "index: 0\n",
      "Ally failed\n",
      "index: 1\n",
      "Mark passed\n",
      "index: 2\n",
      "Ahmed passed\n"
     ]
    }
   ],
   "source": [
    "# combine if/else with a for loop and range\n",
    "student_names = ['Ally', 'Mark', 'Ahmed']\n",
    "student_marks = [0.1, 0.8, 0.5]\n",
    "\n",
    "mass_mark = 50\n",
    "\n",
    "for i in range(len(student_names)):\n",
    "    print('index:', i)\n",
    "    \n",
    "    percentage = student_marks[i] * 100\n",
    "    \n",
    "    if percentage >= mass_mark:\n",
    "        print(student_names[i], 'passed')\n",
    "        \n",
    "    else:\n",
    "        print(student_names[i], 'failed')"
   ]
  },
  {
   "cell_type": "markdown",
   "id": "85507260",
   "metadata": {},
   "source": [
    "&nbsp;  \n",
    "\n",
    "&nbsp;  \n",
    "&nbsp;  \n",
    "\n",
    "&nbsp;  \n",
    "\n",
    "&nbsp;  \n",
    "&nbsp;  \n",
    "\n",
    "&nbsp;  \n",
    "&nbsp;  \n",
    "\n",
    "&nbsp;  \n",
    "\n",
    "&nbsp;  \n",
    "&nbsp;  \n",
    "\n",
    "&nbsp;  \n",
    "\n",
    "&nbsp;  \n",
    "\n",
    "&nbsp;  \n",
    "&nbsp;  \n",
    "\n",
    "&nbsp;  \n",
    "&nbsp;  \n",
    "\n",
    "&nbsp;  \n",
    "\n",
    "&nbsp;  \n",
    "&nbsp;  \n",
    "\n",
    "&nbsp;  \n",
    "&nbsp;  \n",
    "\n",
    "&nbsp;  \n",
    "&nbsp;  \n",
    "\n",
    "&nbsp;  \n",
    "\n",
    "&nbsp;  \n",
    "&nbsp;  \n",
    "\n",
    "## Use `elif` to specify additional tests\n"
   ]
  },
  {
   "cell_type": "code",
   "execution_count": 13,
   "id": "846a48cd",
   "metadata": {},
   "outputs": [
    {
     "name": "stdout",
     "output_type": "stream",
     "text": [
      "5.24 is huge\n",
      "2.6 is small\n",
      "4.1 is large\n",
      "1.5 is small\n",
      "6.2 is huge\n"
     ]
    }
   ],
   "source": [
    "masses = [5.24, 2.6, 4.1, 1.5, 6.2]\n",
    "\n",
    "for mass in masses:\n",
    "    if mass > 5:\n",
    "        print(mass, 'is huge')\n",
    "        \n",
    "    elif mass > 3:  # elif = else if\n",
    "        print(mass, 'is large')\n",
    "        \n",
    "    else:\n",
    "        print(mass, 'is small')"
   ]
  },
  {
   "cell_type": "code",
   "execution_count": null,
   "id": "d23b02ca",
   "metadata": {},
   "outputs": [],
   "source": [
    "# if statement\n",
    "# elif\n",
    "# elif\n",
    "# elif\n",
    "# else - optional"
   ]
  },
  {
   "cell_type": "markdown",
   "id": "2493c4cb",
   "metadata": {},
   "source": [
    "&nbsp;  \n",
    "\n",
    "&nbsp;  \n",
    "&nbsp;  \n",
    "\n",
    "&nbsp;  \n",
    "&nbsp;  \n",
    "\n",
    "&nbsp;  \n",
    "&nbsp;  \n",
    "\n",
    "&nbsp;  \n",
    "\n",
    "&nbsp;  \n",
    "&nbsp;  \n",
    "&nbsp;  \n",
    "\n",
    "&nbsp;  \n",
    "&nbsp;  \n",
    "\n",
    "&nbsp;  \n",
    "&nbsp;  \n",
    "\n",
    "&nbsp;  \n",
    "\n",
    "&nbsp;  \n",
    "&nbsp;  \n",
    "&nbsp;  \n",
    "&nbsp;  \n",
    "\n",
    "&nbsp;  \n",
    "&nbsp;  \n",
    "\n",
    "&nbsp;  \n",
    "\n",
    "&nbsp;  \n",
    "&nbsp;  \n",
    "\n",
    "## Conditions are tested once, in order"
   ]
  },
  {
   "cell_type": "code",
   "execution_count": 14,
   "id": "deaf9f8b",
   "metadata": {},
   "outputs": [
    {
     "name": "stdout",
     "output_type": "stream",
     "text": [
      "grads is C\n"
     ]
    }
   ],
   "source": [
    "grade = 85\n",
    "\n",
    "if grade >= 70:\n",
    "    print('grads is C')\n",
    "elif grade >= 80:\n",
    "    print('grade is B')\n",
    "elif grade >= 90:\n",
    "    print('grade is A')"
   ]
  },
  {
   "cell_type": "code",
   "execution_count": 15,
   "id": "632a8491",
   "metadata": {},
   "outputs": [
    {
     "name": "stdout",
     "output_type": "stream",
     "text": [
      "adjust speed\n"
     ]
    }
   ],
   "source": [
    "velocity = 10.0\n",
    "\n",
    "if velocity > 20.0:\n",
    "    print('moving fast')\n",
    "else:\n",
    "    print('adjust speed')\n",
    "    velocity = 50"
   ]
  },
  {
   "cell_type": "code",
   "execution_count": 16,
   "id": "6651c779",
   "metadata": {},
   "outputs": [
    {
     "data": {
      "text/plain": [
       "50"
      ]
     },
     "execution_count": 16,
     "metadata": {},
     "output_type": "execute_result"
    }
   ],
   "source": [
    "velocity"
   ]
  },
  {
   "cell_type": "code",
   "execution_count": 17,
   "id": "07a8ab48",
   "metadata": {},
   "outputs": [
    {
     "name": "stdout",
     "output_type": "stream",
     "text": [
      "0 : 10.0\n",
      "moving too slowly\n",
      "1 : 15.0\n",
      "moving too slowly\n",
      "2 : 20.0\n",
      "moving too slowly\n",
      "3 : 25.0\n",
      "moving too fast\n",
      "4 : 20.0\n",
      "moving too slowly\n",
      "final velocity 25.0\n"
     ]
    }
   ],
   "source": [
    "# use for loop and if statements to 'evolve' a value\n",
    "velocity = 10.0\n",
    "\n",
    "for i in range(5):\n",
    "    print(i, ':', velocity)\n",
    "    \n",
    "    if velocity > 20.0:\n",
    "        print('moving too fast')\n",
    "        velocity = velocity - 5\n",
    "        \n",
    "    else:\n",
    "        print('moving too slowly')\n",
    "        velocity = velocity + 5\n",
    "        \n",
    "print('final velocity', velocity)"
   ]
  },
  {
   "cell_type": "markdown",
   "id": "579c9c67",
   "metadata": {},
   "source": [
    "&nbsp;  \n",
    "&nbsp;  \n",
    "\n",
    "&nbsp;  \n",
    "\n",
    "&nbsp;  \n",
    "&nbsp;  \n",
    "\n",
    "&nbsp;  \n",
    "&nbsp;  \n",
    "\n",
    "&nbsp;  \n",
    "\n",
    "&nbsp;  \n",
    "&nbsp;  \n",
    "&nbsp;  \n",
    "\n",
    "&nbsp;  \n",
    "\n",
    "&nbsp;  \n",
    "&nbsp;  \n",
    "\n",
    "&nbsp;  \n",
    "&nbsp;  \n",
    "\n",
    "&nbsp;  \n",
    "\n",
    "&nbsp;  \n",
    "&nbsp;  \n",
    "&nbsp;  \n",
    "\n",
    "&nbsp;  \n",
    "&nbsp;  \n",
    "\n",
    "&nbsp;  \n",
    "&nbsp;  \n",
    "\n",
    "&nbsp;  \n",
    "\n",
    "&nbsp;  \n",
    "&nbsp;  \n",
    "\n",
    "## Compound relations using `and`, `or` and parentheses\n"
   ]
  },
  {
   "cell_type": "code",
   "execution_count": null,
   "id": "6de0631c",
   "metadata": {},
   "outputs": [],
   "source": [
    "masses = [1,2,3]\n",
    "\n",
    "for m in masses:\n",
    "    if m > 2:\n",
    "        print(m)\n",
    "    elif < 2:\n",
    "        print('no')"
   ]
  },
  {
   "cell_type": "code",
   "execution_count": 18,
   "id": "4efd28c2",
   "metadata": {},
   "outputs": [
    {
     "name": "stdout",
     "output_type": "stream",
     "text": [
      "0\n",
      "normal traffic\n",
      "1\n",
      "normal traffic\n",
      "2\n",
      "fast heavy object. Duck!\n",
      "3\n",
      "something seems wrong\n",
      "4\n",
      "something seems wrong\n"
     ]
    }
   ],
   "source": [
    "masses = [3.54, 2.07, 9.22, 1.86, 1.71]\n",
    "velocities = [10.0, 20.0, 30.0, 50.0, 25.0]\n",
    "\n",
    "for i in range(len(masses)):\n",
    "    print(i)\n",
    "    if masses[i] > 5 and velocities[i] > 20:\n",
    "        print('fast heavy object. Duck!')\n",
    "        \n",
    "    elif masses[i] > 2 and velocities[i] <= 20:\n",
    "        print('normal traffic')\n",
    "        \n",
    "    elif masses[i] <= 2 and velocities[i] <= 20:\n",
    "        print('slow light object. Ignore it')\n",
    "        \n",
    "    else: \n",
    "        print('something seems wrong')\n",
    "        \n",
    "# and = both conditions must be met\n"
   ]
  },
  {
   "cell_type": "code",
   "execution_count": 19,
   "id": "6b226632",
   "metadata": {},
   "outputs": [
    {
     "name": "stdout",
     "output_type": "stream",
     "text": [
      "true\n"
     ]
    }
   ],
   "source": [
    "# or = and/or\n",
    "a = 5\n",
    "b = 10\n",
    "\n",
    "if a >= 5 or b >= 20:\n",
    "    print('true')"
   ]
  },
  {
   "cell_type": "code",
   "execution_count": 20,
   "id": "9d9fdcdf",
   "metadata": {},
   "outputs": [
    {
     "name": "stdout",
     "output_type": "stream",
     "text": [
      "false\n"
     ]
    }
   ],
   "source": [
    "a = 1\n",
    "b = 2\n",
    "if a >= 10 or b >= 100:\n",
    "    print('true')\n",
    "else:\n",
    "    print('false')"
   ]
  },
  {
   "cell_type": "code",
   "execution_count": 21,
   "id": "80070482",
   "metadata": {},
   "outputs": [
    {
     "name": "stdout",
     "output_type": "stream",
     "text": [
      "true\n"
     ]
    }
   ],
   "source": [
    "a = 6\n",
    "b = 5\n",
    "if a >= 2 or b >= 1:\n",
    "    print('true')\n",
    "else:\n",
    "    print('false')\n"
   ]
  },
  {
   "cell_type": "code",
   "execution_count": 22,
   "id": "5067b3b1",
   "metadata": {},
   "outputs": [
    {
     "name": "stdout",
     "output_type": "stream",
     "text": [
      "true\n"
     ]
    }
   ],
   "source": [
    "# exactly equals ==\n",
    "# greater than >\n",
    "# less than <\n",
    "# greater than or equal >=\n",
    "# less than or equal <=\n",
    "a = 10\n",
    "b = 50\n",
    "if a == 10 or b > 50:\n",
    "    print('true')\n",
    "else:\n",
    "    print('false')"
   ]
  },
  {
   "cell_type": "markdown",
   "id": "4e5ec343",
   "metadata": {},
   "source": [
    "&nbsp;  \n",
    "\n",
    "&nbsp;  \n",
    "\n",
    "&nbsp;  \n",
    "&nbsp;  \n",
    "\n",
    "&nbsp;  \n",
    "&nbsp;  \n",
    "\n",
    "&nbsp;  \n",
    "\n",
    "&nbsp;  \n",
    "&nbsp;  \n",
    "\n",
    "&nbsp;  \n",
    "&nbsp;  \n",
    "\n",
    "&nbsp;  \n",
    "\n",
    "&nbsp;  \n",
    "&nbsp;  \n",
    "&nbsp;  \n",
    "\n",
    "&nbsp;  \n",
    "\n",
    "&nbsp;  \n",
    "&nbsp;  \n",
    "\n",
    "&nbsp;  \n",
    "&nbsp;  \n",
    "\n",
    "&nbsp;  \n",
    "\n",
    "&nbsp;  \n",
    "&nbsp;  \n",
    "&nbsp;  \n",
    "\n",
    "&nbsp;  \n",
    "\n",
    "&nbsp;  \n",
    "&nbsp;  \n",
    "\n",
    "## (Ex) Tracing execution\n",
    "\n",
    "What does this program print?"
   ]
  },
  {
   "cell_type": "code",
   "execution_count": null,
   "id": "57a8390f",
   "metadata": {},
   "outputs": [],
   "source": [
    "pressure = 71.9\n",
    "if pressure > 50.0:\n",
    "    pressure = 25.0\n",
    "elif pressure <= 50.0:\n",
    "    pressure = 0.0\n",
    "print(pressure)"
   ]
  },
  {
   "cell_type": "markdown",
   "id": "6913e0d2",
   "metadata": {},
   "source": [
    "&nbsp;  \n",
    "\n",
    "&nbsp;  \n",
    "\n",
    "&nbsp;  \n",
    "&nbsp;  \n",
    "\n",
    "&nbsp;  \n",
    "&nbsp;  \n",
    "\n",
    "&nbsp;  \n",
    "\n",
    "&nbsp;  \n",
    "&nbsp;  \n",
    "\n",
    "## (Ex) Trimming values\n",
    "\n",
    "Fill in the blanks so that this program creates a new list containing zeroes where the original list’s values were negative and ones where the original list’s values were positive.\n",
    "\n",
    "Target output:\n",
    "    `[0, 1, 1, 1, 0, 1]`"
   ]
  },
  {
   "cell_type": "code",
   "execution_count": null,
   "id": "04f247db",
   "metadata": {},
   "outputs": [],
   "source": [
    "original = [-1.5, 0.2, 0.4, 0.0, -1.3, 0.4]\n",
    "result = ____\n",
    "for value in original:\n",
    "    if ____:\n",
    "        result.append(0)\n",
    "    else:\n",
    "        ____\n",
    "print(result)"
   ]
  },
  {
   "cell_type": "markdown",
   "id": "955c6b1e",
   "metadata": {},
   "source": [
    "&nbsp;  \n",
    "\n",
    "&nbsp;  \n",
    "\n",
    "&nbsp;  \n",
    "&nbsp;  \n",
    "\n",
    "&nbsp;  \n",
    "&nbsp;  \n",
    "\n",
    "&nbsp;  \n",
    "\n",
    "&nbsp;  \n",
    "&nbsp;  \n",
    "\n",
    "## (Ex) Processing small files\n",
    "\n",
    "Modify this program so that it only processes files with fewer than 50 records."
   ]
  },
  {
   "cell_type": "code",
   "execution_count": null,
   "id": "57cd894c",
   "metadata": {},
   "outputs": [],
   "source": [
    "import glob\n",
    "import pandas as pd\n",
    "for filename in glob.glob('data/*.csv'):\n",
    "    contents = pd.read_csv(filename)\n",
    "    ____:\n",
    "        print(filename, len(contents))"
   ]
  },
  {
   "cell_type": "markdown",
   "id": "5e7ee1bc",
   "metadata": {},
   "source": [
    "&nbsp;  \n",
    "\n",
    "&nbsp;  \n",
    "\n",
    "&nbsp;  \n",
    "&nbsp;  \n",
    "\n",
    "&nbsp;  \n",
    "&nbsp;  \n",
    "\n",
    "&nbsp;  \n",
    "\n",
    "&nbsp;  \n",
    "&nbsp;  \n",
    "\n",
    "## (Ex) Initializing\n",
    "\n",
    "Modify this program so that it finds the largest and smallest values in the list no matter what the range of values originally is.\n",
    "\n",
    "What are the advantages and disadvantages of using this method to find the range of the data?\n",
    "\n"
   ]
  },
  {
   "cell_type": "code",
   "execution_count": null,
   "id": "175f655c",
   "metadata": {},
   "outputs": [],
   "source": [
    "values = [...some test data...]\n",
    "smallest, largest = None, None\n",
    "for v in values:\n",
    "    if ____:\n",
    "        smallest, largest = v, v\n",
    "    ____:\n",
    "        smallest = min(____, v)\n",
    "        largest = max(____, v)\n",
    "print(smallest, largest)"
   ]
  },
  {
   "cell_type": "code",
   "execution_count": 24,
   "id": "4946a3c3",
   "metadata": {},
   "outputs": [
    {
     "name": "stdout",
     "output_type": "stream",
     "text": [
      "0 5\n"
     ]
    }
   ],
   "source": [
    "values = [0,1,2,3,4,5]\n",
    "smallest = None\n",
    "largest = None\n",
    "\n",
    "smallest, largest = None, None\n",
    "\n",
    "for v in values:\n",
    "    if largest is None:\n",
    "        smallest = v\n",
    "        largest = v\n",
    "    else:\n",
    "        # largest is not None\n",
    "        # which is smaller, smallest or v? and return the smaller value\n",
    "        smallest = min(smallest, v)\n",
    "        largest = max(largest, v)\n",
    "print(smallest, largest)"
   ]
  },
  {
   "cell_type": "code",
   "execution_count": 23,
   "id": "73753269",
   "metadata": {},
   "outputs": [
    {
     "data": {
      "text/plain": [
       "2"
      ]
     },
     "execution_count": 23,
     "metadata": {},
     "output_type": "execute_result"
    }
   ],
   "source": [
    "smallest = 2\n",
    "v = 3\n",
    "min(smallest, v)"
   ]
  },
  {
   "cell_type": "code",
   "execution_count": 25,
   "id": "b272682d",
   "metadata": {},
   "outputs": [
    {
     "data": {
      "text/plain": [
       "NoneType"
      ]
     },
     "execution_count": 25,
     "metadata": {},
     "output_type": "execute_result"
    }
   ],
   "source": [
    "a = None\n",
    "type(a)"
   ]
  },
  {
   "cell_type": "markdown",
   "id": "13e261bd",
   "metadata": {},
   "source": [
    "&nbsp;  \n",
    "\n",
    "&nbsp;  \n",
    "\n",
    "&nbsp;  \n",
    "&nbsp;  \n",
    "\n",
    "&nbsp;  \n",
    "&nbsp;  \n",
    "\n",
    "&nbsp;  \n",
    "\n",
    "&nbsp;  \n",
    "&nbsp;  \n",
    "\n",
    "## Key Points\n",
    "\n",
    "- Use if statements to control whether or not a block of code is executed.\n",
    "\n",
    "- Conditionals are often used inside loops.\n",
    "\n",
    "- Use else to execute a block of code when an if condition is not true.\n",
    "\n",
    "- Use elif to specify additional tests.\n",
    "\n",
    "- Conditions are tested once, in order.\n",
    "\n",
    "- Create a table showing variables’ values to trace a program’s execution.\n",
    "\n",
    "## LOs:\n",
    "\n",
    "- How can programs do different things for different data?\n",
    "- Correctly write programs that use if and else statements and simple Boolean expressions (without logical operators)\n",
    "- Trace the execution of unnested conditionals and conditionals inside loops"
   ]
  }
 ],
 "metadata": {
  "interpreter": {
   "hash": "916dbcbb3f70747c44a77c7bcd40155683ae19c65e1c03b4aa3499c5328201f1"
  },
  "kernelspec": {
   "display_name": "Python 3",
   "language": "python",
   "name": "python3"
  },
  "language_info": {
   "codemirror_mode": {
    "name": "ipython",
    "version": 3
   },
   "file_extension": ".py",
   "mimetype": "text/x-python",
   "name": "python",
   "nbconvert_exporter": "python",
   "pygments_lexer": "ipython3",
   "version": "3.8.10"
  }
 },
 "nbformat": 4,
 "nbformat_minor": 5
}
